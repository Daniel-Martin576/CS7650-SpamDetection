{
  "nbformat": 4,
  "nbformat_minor": 0,
  "metadata": {
    "colab": {
      "name": "bilstm_tf.ipynb",
      "provenance": []
    },
    "kernelspec": {
      "name": "python3",
      "display_name": "Python 3"
    },
    "language_info": {
      "name": "python"
    },
    "accelerator": "GPU"
  },
  "cells": [
    {
      "cell_type": "code",
      "execution_count": 10,
      "metadata": {
        "id": "tDH6Ym8U3KX4"
      },
      "outputs": [],
      "source": [
        "import torch\n",
        "import torch.nn as nn\n",
        "import random\n",
        "import tqdm\n",
        "import torch.optim as optim\n",
        "import pandas as pd\n",
        "from nltk.tokenize import TweetTokenizer, word_tokenize\n",
        "import re\n",
        "from collections import defaultdict\n",
        "from torch.nn.utils.rnn import pack_padded_sequence, pad_packed_sequence\n",
        "from sklearn.metrics import accuracy_score, classification_report, confusion_matrix\n",
        "from torch.utils.data import random_split\n",
        "from sklearn.feature_extraction.text import TfidfVectorizer\n",
        "import scipy"
      ]
    },
    {
      "cell_type": "code",
      "source": [
        "train_data = pd.read_csv('train.csv')\n",
        "Y = list((train_data['Type'] == 'Quality').astype(int))\n",
        "device = torch.device('cuda:0' if torch.cuda.is_available() else 'cpu')"
      ],
      "metadata": {
        "id": "lZzdBcyx3REE"
      },
      "execution_count": 11,
      "outputs": []
    },
    {
      "cell_type": "code",
      "source": [
        "def findUrl(string):\n",
        "  \n",
        "    # findall() has been used \n",
        "    # with valid conditions for urls in string\n",
        "    regex = r\"(?i)\\b((?:https?://|www\\d{0,3}[.]|[a-z0-9.\\-]+[.][a-z]{2,4}/)(?:[^\\s()<>]+|\\(([^\\s()<>]+|(\\([^\\s()<>]+\\)))*\\))+(?:\\(([^\\s()<>]+|(\\([^\\s()<>]+\\)))*\\)|[^\\s`!()\\[\\]{};:'\\\".,<>?«»“”‘’]))\"\n",
        "    found = re.search(regex, string)\n",
        "    return found"
      ],
      "metadata": {
        "id": "LEjkdJDJ4cWx"
      },
      "execution_count": 12,
      "outputs": []
    },
    {
      "cell_type": "code",
      "source": [
        "no_attag = []\n",
        "for data in train_data['Tweet']:\n",
        "  words = data.split(' ')\n",
        "  output = []\n",
        "  for word in words:\n",
        "    if word and word[0] == '@':\n",
        "      continue\n",
        "    else:\n",
        "      output.append(word)\n",
        "  \n",
        "  no_attag.append(\" \".join(output))\n",
        "  "
      ],
      "metadata": {
        "id": "OUNzyoLI3TlF"
      },
      "execution_count": 13,
      "outputs": []
    },
    {
      "cell_type": "code",
      "source": [
        "kwargs = {\n",
        "            'ngram_range': (1,1),  # Use 1-grams + 2-grams.\n",
        "            'analyzer': 'word',  # Split text into word tokens.\n",
        "            'min_df': 1,\n",
        "            'stop_words': \"english\",\n",
        "         }\n",
        "vectorizer = TfidfVectorizer(**kwargs)\n",
        "vectorized_data = vectorizer.fit_transform(no_attag)\n",
        "X = torch.tensor(scipy.sparse.csr_matrix.todense(vectorized_data)).float()"
      ],
      "metadata": {
        "id": "lsNIs1aI3WKN"
      },
      "execution_count": 14,
      "outputs": []
    },
    {
      "cell_type": "code",
      "source": [
        "example = 1\n",
        "print(vectorizer.get_feature_names_out()[X[example] != 0])\n",
        "train_data['Tweet'][example]"
      ],
      "metadata": {
        "colab": {
          "base_uri": "https://localhost:8080/",
          "height": 71
        },
        "id": "limQhNjO3YGq",
        "outputId": "9f35b011-4727-41fc-c913-63fa5425bb9a"
      },
      "execution_count": 15,
      "outputs": [
        {
          "output_type": "stream",
          "name": "stdout",
          "text": [
            "['arrived' 'eren' 'girlfriend' 'glare' 'help' 'kitchen' 'lovely' 'mikasa'\n",
            " 'nodded' 'sent' 'stood']\n"
          ]
        },
        {
          "output_type": "execute_result",
          "data": {
            "text/plain": [
              "'Eren sent a glare towards Mikasa then nodded and stood up to go help his lovely girlfriend @SincerePyrrhic. Once he arrived in the kitchen⎯'"
            ],
            "application/vnd.google.colaboratory.intrinsic+json": {
              "type": "string"
            }
          },
          "metadata": {},
          "execution_count": 15
        }
      ]
    },
    {
      "cell_type": "code",
      "source": [
        "class CNN(nn.Module):\n",
        "    def __init__(self, NUM_CLASSES=2, input_dim=32067, DIM_EMB=200):\n",
        "        super(CNN, self).__init__()\n",
        "\n",
        "        self.Embedding = nn.Embedding(input_dim , DIM_EMB)\n",
        "        self.conv1d_list = nn.ModuleList([\n",
        "            nn.Conv1d(in_channels=DIM_EMB,\n",
        "                      out_channels=2,\n",
        "                      kernel_size=ks)\n",
        "            for ks in range(2, 5)\n",
        "        ])\n",
        "        self.ReLU = nn.ReLU()\n",
        "        self.MaxPool = nn.MaxPool1d\n",
        "        self.Dropout = nn.Dropout()\n",
        "        self.Linear = nn.Linear(6, NUM_CLASSES)\n",
        "        self.LogSoftmax = nn.LogSoftmax(dim=1)\n",
        "        \n",
        "    def forward(self, X):\n",
        "        # X = X.to(dtype=int)\n",
        "        # print(X.shape)\n",
        "        X = X.to(dtype=int)\n",
        "        E = self.Embedding(X).permute(0, 2, 1)\n",
        "        print(\"E\", E.shape)\n",
        "        R = [self.ReLU(conv1d(X)) for conv1d in self.conv1d_list]\n",
        "        # print(\"R\")\n",
        "        M = [self.MaxPool(kernel_size=r.shape[2])(r) for r in R]\n",
        "        # print(\"M\")\n",
        "        C = torch.cat([m.squeeze(dim=2) for m in M], dim = 1)\n",
        "        # print(\"C\")\n",
        "        L = self.Linear(C)\n",
        "        # print(\"L\")\n",
        "        X = self.LogSoftmax(L)\n",
        "        # print(\"X\")\n",
        "        return X"
      ],
      "metadata": {
        "id": "YOuxIYPd3ak3"
      },
      "execution_count": 34,
      "outputs": []
    },
    {
      "cell_type": "code",
      "source": [
        "def shuffle_data(X, Y):\n",
        "    indices = list(range(len(X)))\n",
        "    random.shuffle(indices)\n",
        "    shuffled_X = X[indices]\n",
        "    shuffled_Y = Y[indices]\n",
        "    return (shuffled_X, shuffled_Y)\n",
        "\n",
        "def train(X, Y, cnn, print_results = False, n_epochs = 50):\n",
        "    optimizer = optim.Adam(cnn.parameters(), lr = 0.001)\n",
        "    # optimizer = optim.Adagrad(cnn.parameters(), lr = 0.001)\n",
        "    # optimizer = optim.SGD(cnn.parameters(), lr = 0.001)\n",
        "    loss_f = nn.NLLLoss()\n",
        "\n",
        "    train_size = len(X) // 10 * 8\n",
        "    test_size = len(X) - train_size\n",
        "    train_ind, test_ind = random_split(range(len(X)), [train_size, test_size], generator=torch.Generator().manual_seed(42))\n",
        "\n",
        "    batchSize = 10\n",
        "\n",
        "    train_X = X.clone()[train_ind].to(device = device)\n",
        "    train_Y = torch.tensor(Y, device = device, dtype = float)[train_ind]\n",
        "    test_X = X.clone()[test_ind].to(device = device)\n",
        "    test_Y = torch.tensor(Y, device = device, dtype = float)[test_ind]\n",
        "\n",
        "\n",
        "    max_f1 = 0\n",
        "    max_acc = 0\n",
        "    max_epoch = 0\n",
        "\n",
        "    for epoch in range(n_epochs):\n",
        "        cnn.train()\n",
        "        totalLoss = 0.0\n",
        "\n",
        "        train_X_shuffle, train_Y_shuffle = shuffle_data(train_X, train_Y)\n",
        "\n",
        "        for batch in tqdm.notebook.tqdm(range(0, len(train_X_shuffle), batchSize), leave=False):\n",
        "          cnn.zero_grad()\n",
        "          x = train_X_shuffle[batch: batch + batchSize]\n",
        "          y = train_Y_shuffle[batch: batch + batchSize]\n",
        "          output = cnn(x)\n",
        "          loss = loss_f(output.squeeze().to(dtype = float), y)\n",
        "          totalLoss += loss.item()\n",
        "          loss.backward()\n",
        "          optimizer.step()\n",
        "        \n",
        "        cnn.eval()\n",
        "        y_pred = cnn(input).squeeze().argmax(dim=1).tolist()\n",
        "        y_true = test_Y\n",
        "        results = classification_report(y_true, y_pred, labels=[1, 0], digits = 4)\n",
        "\n",
        "        if print_results:\n",
        "          print(\"============================================\")\n",
        "          print(f\"epoch {epoch + 1}\")\n",
        "          print(f\"loss: {totalLoss:.4f}\")\n",
        "          print(f\"accuracy: {results['accuracy']:.4f}\")\n",
        "          print(f\"f1-score: {results['macro avg']['f1-score']:.4f}\")\n",
        "        if results['macro avg']['f1-score'] > max_f1:\n",
        "          max_f1 = results['macro avg']['f1-score']\n",
        "          max_acc = results['accuracy']\n",
        "          max_epoch = epoch + 1\n",
        "    print(\"============================================\")\n",
        "    print(f\"Best result at epoch {max_epoch} f1-score: {max_f1:.4f} accuracy: {max_acc:.4f}\")\n"
      ],
      "metadata": {
        "id": "VEfaL9BU3cUJ"
      },
      "execution_count": 23,
      "outputs": []
    },
    {
      "cell_type": "code",
      "source": [
        "cnn = CNN().to(device)\n",
        "train(X, Y, cnn, print_results=True, n_epochs=10)"
      ],
      "metadata": {
        "colab": {
          "base_uri": "https://localhost:8080/",
          "height": 347
        },
        "id": "CvB-PF4k3eQW",
        "outputId": "d22a1831-5e92-48ac-e8bb-27906416c73d"
      },
      "execution_count": 35,
      "outputs": [
        {
          "output_type": "error",
          "ename": "RuntimeError",
          "evalue": "ignored",
          "traceback": [
            "\u001b[0;31m---------------------------------------------------------------------------\u001b[0m",
            "\u001b[0;31mRuntimeError\u001b[0m                              Traceback (most recent call last)",
            "\u001b[0;32m<ipython-input-35-f91d4498038c>\u001b[0m in \u001b[0;36m<module>\u001b[0;34m()\u001b[0m\n\u001b[1;32m      1\u001b[0m \u001b[0mcnn\u001b[0m \u001b[0;34m=\u001b[0m \u001b[0mCNN\u001b[0m\u001b[0;34m(\u001b[0m\u001b[0;34m)\u001b[0m\u001b[0;34m.\u001b[0m\u001b[0mto\u001b[0m\u001b[0;34m(\u001b[0m\u001b[0mdevice\u001b[0m\u001b[0;34m)\u001b[0m\u001b[0;34m\u001b[0m\u001b[0;34m\u001b[0m\u001b[0m\n\u001b[0;32m----> 2\u001b[0;31m \u001b[0mtrain\u001b[0m\u001b[0;34m(\u001b[0m\u001b[0mX\u001b[0m\u001b[0;34m,\u001b[0m \u001b[0mY\u001b[0m\u001b[0;34m,\u001b[0m \u001b[0mcnn\u001b[0m\u001b[0;34m,\u001b[0m \u001b[0mprint_results\u001b[0m\u001b[0;34m=\u001b[0m\u001b[0;32mTrue\u001b[0m\u001b[0;34m,\u001b[0m \u001b[0mn_epochs\u001b[0m\u001b[0;34m=\u001b[0m\u001b[0;36m10\u001b[0m\u001b[0;34m)\u001b[0m\u001b[0;34m\u001b[0m\u001b[0;34m\u001b[0m\u001b[0m\n\u001b[0m",
            "\u001b[0;32m<ipython-input-23-d76ed6b2ebe9>\u001b[0m in \u001b[0;36mtrain\u001b[0;34m(X, Y, cnn, print_results, n_epochs)\u001b[0m\n\u001b[1;32m     18\u001b[0m     \u001b[0mbatchSize\u001b[0m \u001b[0;34m=\u001b[0m \u001b[0;36m10\u001b[0m\u001b[0;34m\u001b[0m\u001b[0;34m\u001b[0m\u001b[0m\n\u001b[1;32m     19\u001b[0m \u001b[0;34m\u001b[0m\u001b[0m\n\u001b[0;32m---> 20\u001b[0;31m     \u001b[0mtrain_X\u001b[0m \u001b[0;34m=\u001b[0m \u001b[0mX\u001b[0m\u001b[0;34m.\u001b[0m\u001b[0mclone\u001b[0m\u001b[0;34m(\u001b[0m\u001b[0;34m)\u001b[0m\u001b[0;34m[\u001b[0m\u001b[0mtrain_ind\u001b[0m\u001b[0;34m]\u001b[0m\u001b[0;34m.\u001b[0m\u001b[0mto\u001b[0m\u001b[0;34m(\u001b[0m\u001b[0mdevice\u001b[0m \u001b[0;34m=\u001b[0m \u001b[0mdevice\u001b[0m\u001b[0;34m)\u001b[0m\u001b[0;34m\u001b[0m\u001b[0;34m\u001b[0m\u001b[0m\n\u001b[0m\u001b[1;32m     21\u001b[0m     \u001b[0mtrain_Y\u001b[0m \u001b[0;34m=\u001b[0m \u001b[0mtorch\u001b[0m\u001b[0;34m.\u001b[0m\u001b[0mtensor\u001b[0m\u001b[0;34m(\u001b[0m\u001b[0mY\u001b[0m\u001b[0;34m,\u001b[0m \u001b[0mdevice\u001b[0m \u001b[0;34m=\u001b[0m \u001b[0mdevice\u001b[0m\u001b[0;34m,\u001b[0m \u001b[0mdtype\u001b[0m \u001b[0;34m=\u001b[0m \u001b[0mfloat\u001b[0m\u001b[0;34m)\u001b[0m\u001b[0;34m[\u001b[0m\u001b[0mtrain_ind\u001b[0m\u001b[0;34m]\u001b[0m\u001b[0;34m\u001b[0m\u001b[0;34m\u001b[0m\u001b[0m\n\u001b[1;32m     22\u001b[0m     \u001b[0mtest_X\u001b[0m \u001b[0;34m=\u001b[0m \u001b[0mX\u001b[0m\u001b[0;34m.\u001b[0m\u001b[0mclone\u001b[0m\u001b[0;34m(\u001b[0m\u001b[0;34m)\u001b[0m\u001b[0;34m[\u001b[0m\u001b[0mtest_ind\u001b[0m\u001b[0;34m]\u001b[0m\u001b[0;34m.\u001b[0m\u001b[0mto\u001b[0m\u001b[0;34m(\u001b[0m\u001b[0mdevice\u001b[0m \u001b[0;34m=\u001b[0m \u001b[0mdevice\u001b[0m\u001b[0;34m)\u001b[0m\u001b[0;34m\u001b[0m\u001b[0;34m\u001b[0m\u001b[0m\n",
            "\u001b[0;31mRuntimeError\u001b[0m: CUDA out of memory. Tried to allocate 1.14 GiB (GPU 0; 14.76 GiB total capacity; 13.18 GiB already allocated; 309.75 MiB free; 13.22 GiB reserved in total by PyTorch) If reserved memory is >> allocated memory try setting max_split_size_mb to avoid fragmentation.  See documentation for Memory Management and PYTORCH_CUDA_ALLOC_CONF"
          ]
        }
      ]
    },
    {
      "cell_type": "code",
      "source": [
        ""
      ],
      "metadata": {
        "id": "wwRal2U544oW"
      },
      "execution_count": null,
      "outputs": []
    }
  ]
}