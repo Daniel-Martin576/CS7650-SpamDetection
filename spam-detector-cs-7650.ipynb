{
  "metadata": {
    "kernelspec": {
      "language": "python",
      "display_name": "Python 3",
      "name": "python3"
    },
    "language_info": {
      "name": "python",
      "version": "3.7.12",
      "mimetype": "text/x-python",
      "codemirror_mode": {
        "name": "ipython",
        "version": 3
      },
      "pygments_lexer": "ipython3",
      "nbconvert_exporter": "python",
      "file_extension": ".py"
    },
    "colab": {
      "name": "spam-detector-cs-7650.ipynb",
      "provenance": [],
      "machine_shape": "hm"
    },
    "accelerator": "GPU"
  },
  "nbformat_minor": 0,
  "nbformat": 4,
  "cells": [
    {
      "cell_type": "markdown",
      "source": [
        "# Installing & Importing Dependencies"
      ],
      "metadata": {
        "id": "PSR9nMzPOaWR"
      }
    },
    {
      "cell_type": "code",
      "source": [
        "import warnings\n",
        "warnings.filterwarnings('ignore')"
      ],
      "metadata": {
        "execution": {
          "iopub.status.busy": "2022-05-04T07:42:56.166006Z",
          "iopub.execute_input": "2022-05-04T07:42:56.166311Z",
          "iopub.status.idle": "2022-05-04T07:42:56.192239Z",
          "shell.execute_reply.started": "2022-05-04T07:42:56.166234Z",
          "shell.execute_reply": "2022-05-04T07:42:56.191603Z"
        },
        "trusted": true,
        "id": "dBAcDZV2OaWT"
      },
      "execution_count": 1,
      "outputs": []
    },
    {
      "cell_type": "code",
      "source": [
        "!pip install transformers --quiet"
      ],
      "metadata": {
        "execution": {
          "iopub.status.busy": "2022-05-04T07:42:56.225964Z",
          "iopub.execute_input": "2022-05-04T07:42:56.226258Z",
          "iopub.status.idle": "2022-05-04T07:43:06.601262Z",
          "shell.execute_reply.started": "2022-05-04T07:42:56.226229Z",
          "shell.execute_reply": "2022-05-04T07:43:06.600461Z"
        },
        "trusted": true,
        "id": "G7e5X0pWOaWT"
      },
      "execution_count": 2,
      "outputs": []
    },
    {
      "cell_type": "code",
      "source": [
        "# PyTorch\n",
        "import torch\n",
        "import torch.nn as nn\n",
        "import torch.optim as optim\n",
        "from torch.utils.data import Dataset, DataLoader\n",
        "\n",
        "# SciKit Learn\n",
        "from sklearn.model_selection import train_test_split as tts\n",
        "from sklearn.metrics import accuracy_score, precision_score, recall_score, roc_auc_score, f1_score, confusion_matrix\n",
        "\n",
        "# Transformers\n",
        "from transformers import BertTokenizer, BertModel, AdamW, get_linear_schedule_with_warmup\n",
        "from transformers.models.bert.modeling_bert import BertEmbeddings\n",
        "\n",
        "# Others\n",
        "import numpy as np\n",
        "import pandas as pd\n",
        "import matplotlib.pyplot as plt\n",
        "import seaborn as sns\n",
        "from collections import defaultdict"
      ],
      "metadata": {
        "execution": {
          "iopub.status.busy": "2022-05-04T07:43:06.603397Z",
          "iopub.execute_input": "2022-05-04T07:43:06.603685Z",
          "iopub.status.idle": "2022-05-04T07:43:13.168905Z",
          "shell.execute_reply.started": "2022-05-04T07:43:06.603648Z",
          "shell.execute_reply": "2022-05-04T07:43:13.168182Z"
        },
        "trusted": true,
        "id": "iNB6wQliOaWU"
      },
      "execution_count": 3,
      "outputs": []
    },
    {
      "cell_type": "code",
      "source": [
        "# Global Config\n",
        "PRE_TRAINED_MODEL_NAME = 'prajjwal1/bert-tiny'                     # Pre-trained model\n",
        "tokenizer = BertTokenizer.from_pretrained(PRE_TRAINED_MODEL_NAME)  # Tokenizer\n",
        "\n",
        "EPOCHS=5              # Number of epochs\n",
        "MAX_LEN=512            # Maximum Length\n",
        "BATCH_SIZE=16          # Batch Size\n",
        "device = 'cuda'        # GPU "
      ],
      "metadata": {
        "execution": {
          "iopub.status.busy": "2022-05-04T07:43:13.170082Z",
          "iopub.execute_input": "2022-05-04T07:43:13.170346Z",
          "iopub.status.idle": "2022-05-04T07:43:16.910473Z",
          "shell.execute_reply.started": "2022-05-04T07:43:13.170300Z",
          "shell.execute_reply": "2022-05-04T07:43:16.909783Z"
        },
        "trusted": true,
        "id": "vjmpk6zzOaWU"
      },
      "execution_count": 4,
      "outputs": []
    },
    {
      "cell_type": "markdown",
      "source": [
        "# Reading & Preprocessing Data"
      ],
      "metadata": {
        "id": "eaj0GY7ROaWU"
      }
    },
    {
      "cell_type": "code",
      "source": [
        "### SOURCE, PATH, MSG, SPAM\n",
        "# data_configs = [\n",
        "#     (\"Youtube\", \"../input/cs7650-dataset/Dataset/Youtube/youtube_train.csv\", '''df[\"CONTENT\"]''', '''df[\"CLASS\"]'''),\n",
        "#     (\"SMS\", \"https://raw.githubusercontent.com/animesharma3/SPAM-SMS-Detection/master/spam_sms_collection.csv\", '''df[\"msg\"]''', '''df[\"spam\"]'''),\n",
        "#     (\"Email\", \"../input/cs7650-dataset/Dataset/Email/email_spam.csv\", '''df[\"text\"]''', '''(1 * (df[\"label_num\"] == 0))'''),\n",
        "#     (\"Twitter\", \"../input/cs7650-dataset/Dataset/Twitter/train.csv\", '''df[\"Tweet\"]''', '''(1 * (df[\"Type\"] == \"Quality\"))''')\n",
        "# ]\n",
        "\n",
        "data_configs = [\n",
        "    (\"Youtube\", \"youtube_train.csv\", '''df[\"CONTENT\"]''', '''df[\"CLASS\"]'''),\n",
        "    (\"SMS\", \"https://raw.githubusercontent.com/animesharma3/SPAM-SMS-Detection/master/spam_sms_collection.csv\", '''df[\"msg\"]''', '''df[\"spam\"]'''),\n",
        "    (\"Email\", \"email_spam.csv\", '''df[\"text\"]''', '''(1 * (df[\"label_num\"] == 1))'''),\n",
        "    (\"Twitter\", \"train.csv\", '''df[\"Tweet\"]''', '''(1 * (df[\"Type\"] == \"Spam\"))''')\n",
        "]\n",
        "\n",
        "data_frames = {}\n",
        "\n",
        "for config in data_configs:\n",
        "    src, path, msg, spam = config\n",
        "    df = pd.read_csv(path)\n",
        "    df['msg'] = eval(msg)\n",
        "    df['spam'] = eval(spam)\n",
        "    df = df[['msg', 'spam']]\n",
        "    data_frames[src] = df"
      ],
      "metadata": {
        "execution": {
          "iopub.status.busy": "2022-05-04T07:43:16.912775Z",
          "iopub.execute_input": "2022-05-04T07:43:16.913118Z",
          "iopub.status.idle": "2022-05-04T07:43:17.444348Z",
          "shell.execute_reply.started": "2022-05-04T07:43:16.913075Z",
          "shell.execute_reply": "2022-05-04T07:43:17.443618Z"
        },
        "trusted": true,
        "id": "EpIzQMykOaWV"
      },
      "execution_count": 5,
      "outputs": []
    },
    {
      "cell_type": "code",
      "source": [
        "# Youtube Data\n",
        "data_frames[\"Youtube\"].head()"
      ],
      "metadata": {
        "execution": {
          "iopub.status.busy": "2022-05-04T07:43:17.445493Z",
          "iopub.execute_input": "2022-05-04T07:43:17.445764Z",
          "iopub.status.idle": "2022-05-04T07:43:17.461204Z",
          "shell.execute_reply.started": "2022-05-04T07:43:17.445729Z",
          "shell.execute_reply": "2022-05-04T07:43:17.459762Z"
        },
        "trusted": true,
        "colab": {
          "base_uri": "https://localhost:8080/",
          "height": 206
        },
        "id": "5LZynbaiOaWV",
        "outputId": "df925ed4-74de-4676-cfaf-c60c3ecdbc6e"
      },
      "execution_count": 6,
      "outputs": [
        {
          "output_type": "execute_result",
          "data": {
            "text/plain": [
              "                                                 msg  spam\n",
              "0  Huh, anyway check out this you[tube] channel: ...     1\n",
              "1  Hey guys check out my new channel and our firs...     1\n",
              "2             just for test I have to say murdev.com     1\n",
              "3   me shaking my sexy ass on my channel enjoy ^_^ ﻿     1\n",
              "4            watch?v=vtaRGgvGtWQ   Check this out .﻿     1"
            ],
            "text/html": [
              "\n",
              "  <div id=\"df-f74499b8-b2c7-4acb-9f31-095ac8e99c78\">\n",
              "    <div class=\"colab-df-container\">\n",
              "      <div>\n",
              "<style scoped>\n",
              "    .dataframe tbody tr th:only-of-type {\n",
              "        vertical-align: middle;\n",
              "    }\n",
              "\n",
              "    .dataframe tbody tr th {\n",
              "        vertical-align: top;\n",
              "    }\n",
              "\n",
              "    .dataframe thead th {\n",
              "        text-align: right;\n",
              "    }\n",
              "</style>\n",
              "<table border=\"1\" class=\"dataframe\">\n",
              "  <thead>\n",
              "    <tr style=\"text-align: right;\">\n",
              "      <th></th>\n",
              "      <th>msg</th>\n",
              "      <th>spam</th>\n",
              "    </tr>\n",
              "  </thead>\n",
              "  <tbody>\n",
              "    <tr>\n",
              "      <th>0</th>\n",
              "      <td>Huh, anyway check out this you[tube] channel: ...</td>\n",
              "      <td>1</td>\n",
              "    </tr>\n",
              "    <tr>\n",
              "      <th>1</th>\n",
              "      <td>Hey guys check out my new channel and our firs...</td>\n",
              "      <td>1</td>\n",
              "    </tr>\n",
              "    <tr>\n",
              "      <th>2</th>\n",
              "      <td>just for test I have to say murdev.com</td>\n",
              "      <td>1</td>\n",
              "    </tr>\n",
              "    <tr>\n",
              "      <th>3</th>\n",
              "      <td>me shaking my sexy ass on my channel enjoy ^_^ ﻿</td>\n",
              "      <td>1</td>\n",
              "    </tr>\n",
              "    <tr>\n",
              "      <th>4</th>\n",
              "      <td>watch?v=vtaRGgvGtWQ   Check this out .﻿</td>\n",
              "      <td>1</td>\n",
              "    </tr>\n",
              "  </tbody>\n",
              "</table>\n",
              "</div>\n",
              "      <button class=\"colab-df-convert\" onclick=\"convertToInteractive('df-f74499b8-b2c7-4acb-9f31-095ac8e99c78')\"\n",
              "              title=\"Convert this dataframe to an interactive table.\"\n",
              "              style=\"display:none;\">\n",
              "        \n",
              "  <svg xmlns=\"http://www.w3.org/2000/svg\" height=\"24px\"viewBox=\"0 0 24 24\"\n",
              "       width=\"24px\">\n",
              "    <path d=\"M0 0h24v24H0V0z\" fill=\"none\"/>\n",
              "    <path d=\"M18.56 5.44l.94 2.06.94-2.06 2.06-.94-2.06-.94-.94-2.06-.94 2.06-2.06.94zm-11 1L8.5 8.5l.94-2.06 2.06-.94-2.06-.94L8.5 2.5l-.94 2.06-2.06.94zm10 10l.94 2.06.94-2.06 2.06-.94-2.06-.94-.94-2.06-.94 2.06-2.06.94z\"/><path d=\"M17.41 7.96l-1.37-1.37c-.4-.4-.92-.59-1.43-.59-.52 0-1.04.2-1.43.59L10.3 9.45l-7.72 7.72c-.78.78-.78 2.05 0 2.83L4 21.41c.39.39.9.59 1.41.59.51 0 1.02-.2 1.41-.59l7.78-7.78 2.81-2.81c.8-.78.8-2.07 0-2.86zM5.41 20L4 18.59l7.72-7.72 1.47 1.35L5.41 20z\"/>\n",
              "  </svg>\n",
              "      </button>\n",
              "      \n",
              "  <style>\n",
              "    .colab-df-container {\n",
              "      display:flex;\n",
              "      flex-wrap:wrap;\n",
              "      gap: 12px;\n",
              "    }\n",
              "\n",
              "    .colab-df-convert {\n",
              "      background-color: #E8F0FE;\n",
              "      border: none;\n",
              "      border-radius: 50%;\n",
              "      cursor: pointer;\n",
              "      display: none;\n",
              "      fill: #1967D2;\n",
              "      height: 32px;\n",
              "      padding: 0 0 0 0;\n",
              "      width: 32px;\n",
              "    }\n",
              "\n",
              "    .colab-df-convert:hover {\n",
              "      background-color: #E2EBFA;\n",
              "      box-shadow: 0px 1px 2px rgba(60, 64, 67, 0.3), 0px 1px 3px 1px rgba(60, 64, 67, 0.15);\n",
              "      fill: #174EA6;\n",
              "    }\n",
              "\n",
              "    [theme=dark] .colab-df-convert {\n",
              "      background-color: #3B4455;\n",
              "      fill: #D2E3FC;\n",
              "    }\n",
              "\n",
              "    [theme=dark] .colab-df-convert:hover {\n",
              "      background-color: #434B5C;\n",
              "      box-shadow: 0px 1px 3px 1px rgba(0, 0, 0, 0.15);\n",
              "      filter: drop-shadow(0px 1px 2px rgba(0, 0, 0, 0.3));\n",
              "      fill: #FFFFFF;\n",
              "    }\n",
              "  </style>\n",
              "\n",
              "      <script>\n",
              "        const buttonEl =\n",
              "          document.querySelector('#df-f74499b8-b2c7-4acb-9f31-095ac8e99c78 button.colab-df-convert');\n",
              "        buttonEl.style.display =\n",
              "          google.colab.kernel.accessAllowed ? 'block' : 'none';\n",
              "\n",
              "        async function convertToInteractive(key) {\n",
              "          const element = document.querySelector('#df-f74499b8-b2c7-4acb-9f31-095ac8e99c78');\n",
              "          const dataTable =\n",
              "            await google.colab.kernel.invokeFunction('convertToInteractive',\n",
              "                                                     [key], {});\n",
              "          if (!dataTable) return;\n",
              "\n",
              "          const docLinkHtml = 'Like what you see? Visit the ' +\n",
              "            '<a target=\"_blank\" href=https://colab.research.google.com/notebooks/data_table.ipynb>data table notebook</a>'\n",
              "            + ' to learn more about interactive tables.';\n",
              "          element.innerHTML = '';\n",
              "          dataTable['output_type'] = 'display_data';\n",
              "          await google.colab.output.renderOutput(dataTable, element);\n",
              "          const docLink = document.createElement('div');\n",
              "          docLink.innerHTML = docLinkHtml;\n",
              "          element.appendChild(docLink);\n",
              "        }\n",
              "      </script>\n",
              "    </div>\n",
              "  </div>\n",
              "  "
            ]
          },
          "metadata": {},
          "execution_count": 6
        }
      ]
    },
    {
      "cell_type": "code",
      "source": [
        "# Twitter Data\n",
        "data_frames[\"Twitter\"].loc[1]"
      ],
      "metadata": {
        "execution": {
          "iopub.status.busy": "2022-05-04T07:43:17.462491Z",
          "iopub.execute_input": "2022-05-04T07:43:17.462778Z",
          "iopub.status.idle": "2022-05-04T07:43:17.470484Z",
          "shell.execute_reply.started": "2022-05-04T07:43:17.462742Z",
          "shell.execute_reply": "2022-05-04T07:43:17.469619Z"
        },
        "trusted": true,
        "colab": {
          "base_uri": "https://localhost:8080/"
        },
        "id": "0MyA8P43OaWV",
        "outputId": "fff5f57f-5095-47c4-d519-1a7b8eaae29c"
      },
      "execution_count": 7,
      "outputs": [
        {
          "output_type": "execute_result",
          "data": {
            "text/plain": [
              "msg     Eren sent a glare towards Mikasa then nodded a...\n",
              "spam                                                    0\n",
              "Name: 1, dtype: object"
            ]
          },
          "metadata": {},
          "execution_count": 7
        }
      ]
    },
    {
      "cell_type": "code",
      "source": [
        "# SMS Data\n",
        "data_frames[\"SMS\"].head()"
      ],
      "metadata": {
        "execution": {
          "iopub.status.busy": "2022-05-04T07:43:17.471746Z",
          "iopub.execute_input": "2022-05-04T07:43:17.472694Z",
          "iopub.status.idle": "2022-05-04T07:43:17.483597Z",
          "shell.execute_reply.started": "2022-05-04T07:43:17.472657Z",
          "shell.execute_reply": "2022-05-04T07:43:17.482709Z"
        },
        "trusted": true,
        "colab": {
          "base_uri": "https://localhost:8080/",
          "height": 206
        },
        "id": "BS_OhVA_OaWW",
        "outputId": "778880bd-b75a-4477-ef90-eaccdce00655"
      },
      "execution_count": 8,
      "outputs": [
        {
          "output_type": "execute_result",
          "data": {
            "text/plain": [
              "                                                 msg  spam\n",
              "0  go jurong point crazy available bugis n great ...     0\n",
              "1                            ok lar joking wif u oni     0\n",
              "2  free entry wkly comp win fa cup final tkts st ...     1\n",
              "3                u dun say early hor u c already say     0\n",
              "4                nah think go usf life around though     0"
            ],
            "text/html": [
              "\n",
              "  <div id=\"df-38f94b7c-d4d7-48f9-8f18-b02b22ff0bc1\">\n",
              "    <div class=\"colab-df-container\">\n",
              "      <div>\n",
              "<style scoped>\n",
              "    .dataframe tbody tr th:only-of-type {\n",
              "        vertical-align: middle;\n",
              "    }\n",
              "\n",
              "    .dataframe tbody tr th {\n",
              "        vertical-align: top;\n",
              "    }\n",
              "\n",
              "    .dataframe thead th {\n",
              "        text-align: right;\n",
              "    }\n",
              "</style>\n",
              "<table border=\"1\" class=\"dataframe\">\n",
              "  <thead>\n",
              "    <tr style=\"text-align: right;\">\n",
              "      <th></th>\n",
              "      <th>msg</th>\n",
              "      <th>spam</th>\n",
              "    </tr>\n",
              "  </thead>\n",
              "  <tbody>\n",
              "    <tr>\n",
              "      <th>0</th>\n",
              "      <td>go jurong point crazy available bugis n great ...</td>\n",
              "      <td>0</td>\n",
              "    </tr>\n",
              "    <tr>\n",
              "      <th>1</th>\n",
              "      <td>ok lar joking wif u oni</td>\n",
              "      <td>0</td>\n",
              "    </tr>\n",
              "    <tr>\n",
              "      <th>2</th>\n",
              "      <td>free entry wkly comp win fa cup final tkts st ...</td>\n",
              "      <td>1</td>\n",
              "    </tr>\n",
              "    <tr>\n",
              "      <th>3</th>\n",
              "      <td>u dun say early hor u c already say</td>\n",
              "      <td>0</td>\n",
              "    </tr>\n",
              "    <tr>\n",
              "      <th>4</th>\n",
              "      <td>nah think go usf life around though</td>\n",
              "      <td>0</td>\n",
              "    </tr>\n",
              "  </tbody>\n",
              "</table>\n",
              "</div>\n",
              "      <button class=\"colab-df-convert\" onclick=\"convertToInteractive('df-38f94b7c-d4d7-48f9-8f18-b02b22ff0bc1')\"\n",
              "              title=\"Convert this dataframe to an interactive table.\"\n",
              "              style=\"display:none;\">\n",
              "        \n",
              "  <svg xmlns=\"http://www.w3.org/2000/svg\" height=\"24px\"viewBox=\"0 0 24 24\"\n",
              "       width=\"24px\">\n",
              "    <path d=\"M0 0h24v24H0V0z\" fill=\"none\"/>\n",
              "    <path d=\"M18.56 5.44l.94 2.06.94-2.06 2.06-.94-2.06-.94-.94-2.06-.94 2.06-2.06.94zm-11 1L8.5 8.5l.94-2.06 2.06-.94-2.06-.94L8.5 2.5l-.94 2.06-2.06.94zm10 10l.94 2.06.94-2.06 2.06-.94-2.06-.94-.94-2.06-.94 2.06-2.06.94z\"/><path d=\"M17.41 7.96l-1.37-1.37c-.4-.4-.92-.59-1.43-.59-.52 0-1.04.2-1.43.59L10.3 9.45l-7.72 7.72c-.78.78-.78 2.05 0 2.83L4 21.41c.39.39.9.59 1.41.59.51 0 1.02-.2 1.41-.59l7.78-7.78 2.81-2.81c.8-.78.8-2.07 0-2.86zM5.41 20L4 18.59l7.72-7.72 1.47 1.35L5.41 20z\"/>\n",
              "  </svg>\n",
              "      </button>\n",
              "      \n",
              "  <style>\n",
              "    .colab-df-container {\n",
              "      display:flex;\n",
              "      flex-wrap:wrap;\n",
              "      gap: 12px;\n",
              "    }\n",
              "\n",
              "    .colab-df-convert {\n",
              "      background-color: #E8F0FE;\n",
              "      border: none;\n",
              "      border-radius: 50%;\n",
              "      cursor: pointer;\n",
              "      display: none;\n",
              "      fill: #1967D2;\n",
              "      height: 32px;\n",
              "      padding: 0 0 0 0;\n",
              "      width: 32px;\n",
              "    }\n",
              "\n",
              "    .colab-df-convert:hover {\n",
              "      background-color: #E2EBFA;\n",
              "      box-shadow: 0px 1px 2px rgba(60, 64, 67, 0.3), 0px 1px 3px 1px rgba(60, 64, 67, 0.15);\n",
              "      fill: #174EA6;\n",
              "    }\n",
              "\n",
              "    [theme=dark] .colab-df-convert {\n",
              "      background-color: #3B4455;\n",
              "      fill: #D2E3FC;\n",
              "    }\n",
              "\n",
              "    [theme=dark] .colab-df-convert:hover {\n",
              "      background-color: #434B5C;\n",
              "      box-shadow: 0px 1px 3px 1px rgba(0, 0, 0, 0.15);\n",
              "      filter: drop-shadow(0px 1px 2px rgba(0, 0, 0, 0.3));\n",
              "      fill: #FFFFFF;\n",
              "    }\n",
              "  </style>\n",
              "\n",
              "      <script>\n",
              "        const buttonEl =\n",
              "          document.querySelector('#df-38f94b7c-d4d7-48f9-8f18-b02b22ff0bc1 button.colab-df-convert');\n",
              "        buttonEl.style.display =\n",
              "          google.colab.kernel.accessAllowed ? 'block' : 'none';\n",
              "\n",
              "        async function convertToInteractive(key) {\n",
              "          const element = document.querySelector('#df-38f94b7c-d4d7-48f9-8f18-b02b22ff0bc1');\n",
              "          const dataTable =\n",
              "            await google.colab.kernel.invokeFunction('convertToInteractive',\n",
              "                                                     [key], {});\n",
              "          if (!dataTable) return;\n",
              "\n",
              "          const docLinkHtml = 'Like what you see? Visit the ' +\n",
              "            '<a target=\"_blank\" href=https://colab.research.google.com/notebooks/data_table.ipynb>data table notebook</a>'\n",
              "            + ' to learn more about interactive tables.';\n",
              "          element.innerHTML = '';\n",
              "          dataTable['output_type'] = 'display_data';\n",
              "          await google.colab.output.renderOutput(dataTable, element);\n",
              "          const docLink = document.createElement('div');\n",
              "          docLink.innerHTML = docLinkHtml;\n",
              "          element.appendChild(docLink);\n",
              "        }\n",
              "      </script>\n",
              "    </div>\n",
              "  </div>\n",
              "  "
            ]
          },
          "metadata": {},
          "execution_count": 8
        }
      ]
    },
    {
      "cell_type": "code",
      "source": [
        "# Email Data\n",
        "data_frames[\"Email\"].head()"
      ],
      "metadata": {
        "execution": {
          "iopub.status.busy": "2022-05-04T07:43:17.485426Z",
          "iopub.execute_input": "2022-05-04T07:43:17.485906Z",
          "iopub.status.idle": "2022-05-04T07:43:17.494856Z",
          "shell.execute_reply.started": "2022-05-04T07:43:17.485870Z",
          "shell.execute_reply": "2022-05-04T07:43:17.493972Z"
        },
        "trusted": true,
        "colab": {
          "base_uri": "https://localhost:8080/",
          "height": 206
        },
        "id": "UWb_Ruf6OaWW",
        "outputId": "7882432b-7111-447d-ad21-d95925262f3d"
      },
      "execution_count": 9,
      "outputs": [
        {
          "output_type": "execute_result",
          "data": {
            "text/plain": [
              "                                                 msg  spam\n",
              "0  Subject: enron methanol ; meter # : 988291\\r\\n...     0\n",
              "1  Subject: hpl nom for january 9 , 2001\\r\\n( see...     0\n",
              "2  Subject: neon retreat\\r\\nho ho ho , we ' re ar...     0\n",
              "3  Subject: photoshop , windows , office . cheap ...     1\n",
              "4  Subject: re : indian springs\\r\\nthis deal is t...     0"
            ],
            "text/html": [
              "\n",
              "  <div id=\"df-c8ab353c-fd04-4622-8610-815499dc599a\">\n",
              "    <div class=\"colab-df-container\">\n",
              "      <div>\n",
              "<style scoped>\n",
              "    .dataframe tbody tr th:only-of-type {\n",
              "        vertical-align: middle;\n",
              "    }\n",
              "\n",
              "    .dataframe tbody tr th {\n",
              "        vertical-align: top;\n",
              "    }\n",
              "\n",
              "    .dataframe thead th {\n",
              "        text-align: right;\n",
              "    }\n",
              "</style>\n",
              "<table border=\"1\" class=\"dataframe\">\n",
              "  <thead>\n",
              "    <tr style=\"text-align: right;\">\n",
              "      <th></th>\n",
              "      <th>msg</th>\n",
              "      <th>spam</th>\n",
              "    </tr>\n",
              "  </thead>\n",
              "  <tbody>\n",
              "    <tr>\n",
              "      <th>0</th>\n",
              "      <td>Subject: enron methanol ; meter # : 988291\\r\\n...</td>\n",
              "      <td>0</td>\n",
              "    </tr>\n",
              "    <tr>\n",
              "      <th>1</th>\n",
              "      <td>Subject: hpl nom for january 9 , 2001\\r\\n( see...</td>\n",
              "      <td>0</td>\n",
              "    </tr>\n",
              "    <tr>\n",
              "      <th>2</th>\n",
              "      <td>Subject: neon retreat\\r\\nho ho ho , we ' re ar...</td>\n",
              "      <td>0</td>\n",
              "    </tr>\n",
              "    <tr>\n",
              "      <th>3</th>\n",
              "      <td>Subject: photoshop , windows , office . cheap ...</td>\n",
              "      <td>1</td>\n",
              "    </tr>\n",
              "    <tr>\n",
              "      <th>4</th>\n",
              "      <td>Subject: re : indian springs\\r\\nthis deal is t...</td>\n",
              "      <td>0</td>\n",
              "    </tr>\n",
              "  </tbody>\n",
              "</table>\n",
              "</div>\n",
              "      <button class=\"colab-df-convert\" onclick=\"convertToInteractive('df-c8ab353c-fd04-4622-8610-815499dc599a')\"\n",
              "              title=\"Convert this dataframe to an interactive table.\"\n",
              "              style=\"display:none;\">\n",
              "        \n",
              "  <svg xmlns=\"http://www.w3.org/2000/svg\" height=\"24px\"viewBox=\"0 0 24 24\"\n",
              "       width=\"24px\">\n",
              "    <path d=\"M0 0h24v24H0V0z\" fill=\"none\"/>\n",
              "    <path d=\"M18.56 5.44l.94 2.06.94-2.06 2.06-.94-2.06-.94-.94-2.06-.94 2.06-2.06.94zm-11 1L8.5 8.5l.94-2.06 2.06-.94-2.06-.94L8.5 2.5l-.94 2.06-2.06.94zm10 10l.94 2.06.94-2.06 2.06-.94-2.06-.94-.94-2.06-.94 2.06-2.06.94z\"/><path d=\"M17.41 7.96l-1.37-1.37c-.4-.4-.92-.59-1.43-.59-.52 0-1.04.2-1.43.59L10.3 9.45l-7.72 7.72c-.78.78-.78 2.05 0 2.83L4 21.41c.39.39.9.59 1.41.59.51 0 1.02-.2 1.41-.59l7.78-7.78 2.81-2.81c.8-.78.8-2.07 0-2.86zM5.41 20L4 18.59l7.72-7.72 1.47 1.35L5.41 20z\"/>\n",
              "  </svg>\n",
              "      </button>\n",
              "      \n",
              "  <style>\n",
              "    .colab-df-container {\n",
              "      display:flex;\n",
              "      flex-wrap:wrap;\n",
              "      gap: 12px;\n",
              "    }\n",
              "\n",
              "    .colab-df-convert {\n",
              "      background-color: #E8F0FE;\n",
              "      border: none;\n",
              "      border-radius: 50%;\n",
              "      cursor: pointer;\n",
              "      display: none;\n",
              "      fill: #1967D2;\n",
              "      height: 32px;\n",
              "      padding: 0 0 0 0;\n",
              "      width: 32px;\n",
              "    }\n",
              "\n",
              "    .colab-df-convert:hover {\n",
              "      background-color: #E2EBFA;\n",
              "      box-shadow: 0px 1px 2px rgba(60, 64, 67, 0.3), 0px 1px 3px 1px rgba(60, 64, 67, 0.15);\n",
              "      fill: #174EA6;\n",
              "    }\n",
              "\n",
              "    [theme=dark] .colab-df-convert {\n",
              "      background-color: #3B4455;\n",
              "      fill: #D2E3FC;\n",
              "    }\n",
              "\n",
              "    [theme=dark] .colab-df-convert:hover {\n",
              "      background-color: #434B5C;\n",
              "      box-shadow: 0px 1px 3px 1px rgba(0, 0, 0, 0.15);\n",
              "      filter: drop-shadow(0px 1px 2px rgba(0, 0, 0, 0.3));\n",
              "      fill: #FFFFFF;\n",
              "    }\n",
              "  </style>\n",
              "\n",
              "      <script>\n",
              "        const buttonEl =\n",
              "          document.querySelector('#df-c8ab353c-fd04-4622-8610-815499dc599a button.colab-df-convert');\n",
              "        buttonEl.style.display =\n",
              "          google.colab.kernel.accessAllowed ? 'block' : 'none';\n",
              "\n",
              "        async function convertToInteractive(key) {\n",
              "          const element = document.querySelector('#df-c8ab353c-fd04-4622-8610-815499dc599a');\n",
              "          const dataTable =\n",
              "            await google.colab.kernel.invokeFunction('convertToInteractive',\n",
              "                                                     [key], {});\n",
              "          if (!dataTable) return;\n",
              "\n",
              "          const docLinkHtml = 'Like what you see? Visit the ' +\n",
              "            '<a target=\"_blank\" href=https://colab.research.google.com/notebooks/data_table.ipynb>data table notebook</a>'\n",
              "            + ' to learn more about interactive tables.';\n",
              "          element.innerHTML = '';\n",
              "          dataTable['output_type'] = 'display_data';\n",
              "          await google.colab.output.renderOutput(dataTable, element);\n",
              "          const docLink = document.createElement('div');\n",
              "          docLink.innerHTML = docLinkHtml;\n",
              "          element.appendChild(docLink);\n",
              "        }\n",
              "      </script>\n",
              "    </div>\n",
              "  </div>\n",
              "  "
            ]
          },
          "metadata": {},
          "execution_count": 9
        }
      ]
    },
    {
      "cell_type": "code",
      "source": [
        "class SpamDataset(Dataset):\n",
        "    def __init__(self, spam, msgs, tokenizer, max_len):\n",
        "        self.msgs = msgs\n",
        "        self.spam = spam\n",
        "        self.tokenizer = tokenizer\n",
        "        self.max_len = max_len\n",
        "\n",
        "    def __len__(self):\n",
        "        return len(self.msgs)\n",
        "\n",
        "    def __getitem__(self, i):\n",
        "        msg = str(self.msgs[i])\n",
        "        spam = self.spam[i]\n",
        "\n",
        "        encoding = self.tokenizer.encode_plus(\n",
        "            msg, \n",
        "            add_special_tokens=True,\n",
        "            max_length=self.max_len,\n",
        "            truncation=True,\n",
        "            return_token_type_ids=False,\n",
        "            pad_to_max_length=True,\n",
        "            return_attention_mask=True,\n",
        "            return_tensors='pt'\n",
        "        )\n",
        "\n",
        "        return {\n",
        "            'msg': msg,\n",
        "            'input_ids': encoding['input_ids'].flatten(),\n",
        "            'attention_mask': encoding['attention_mask'].flatten(),\n",
        "            'spam': torch.tensor(spam, dtype=torch.long)\n",
        "        }"
      ],
      "metadata": {
        "execution": {
          "iopub.status.busy": "2022-05-04T07:43:17.496161Z",
          "iopub.execute_input": "2022-05-04T07:43:17.496958Z",
          "iopub.status.idle": "2022-05-04T07:43:17.505836Z",
          "shell.execute_reply.started": "2022-05-04T07:43:17.496923Z",
          "shell.execute_reply": "2022-05-04T07:43:17.505075Z"
        },
        "trusted": true,
        "id": "gHNu7hEjOaWW"
      },
      "execution_count": 10,
      "outputs": []
    },
    {
      "cell_type": "code",
      "source": [
        "def create_data_loader(df, tokenizer, max_len, batch_size):\n",
        "    ds = SpamDataset(\n",
        "        spam=df['spam'].to_numpy(),\n",
        "        msgs=df['msg'].to_numpy(),\n",
        "        tokenizer=tokenizer,\n",
        "        max_len=max_len\n",
        "    )\n",
        "\n",
        "    return DataLoader(\n",
        "        ds,\n",
        "        batch_size=batch_size,\n",
        "        num_workers=4\n",
        "    )"
      ],
      "metadata": {
        "execution": {
          "iopub.status.busy": "2022-05-04T07:43:17.508815Z",
          "iopub.execute_input": "2022-05-04T07:43:17.509010Z",
          "iopub.status.idle": "2022-05-04T07:43:17.517424Z",
          "shell.execute_reply.started": "2022-05-04T07:43:17.508988Z",
          "shell.execute_reply": "2022-05-04T07:43:17.516727Z"
        },
        "trusted": true,
        "id": "PkbK0yKcOaWX"
      },
      "execution_count": 11,
      "outputs": []
    },
    {
      "cell_type": "code",
      "source": [
        "# Returns train, test, validation data frames\n",
        "def getDataFrames(source):\n",
        "    df = data_frames[source]\n",
        "    df_train, df_test = tts(\n",
        "        df,\n",
        "        test_size=0.3,\n",
        "        shuffle=True,\n",
        "    )\n",
        "    df_val, df_test = tts(\n",
        "        df_test,\n",
        "        test_size=0.5,\n",
        "        shuffle=True,\n",
        "    )\n",
        "    return df_train, df_test, df_val"
      ],
      "metadata": {
        "execution": {
          "iopub.status.busy": "2022-05-04T07:43:17.518908Z",
          "iopub.execute_input": "2022-05-04T07:43:17.519413Z",
          "iopub.status.idle": "2022-05-04T07:43:17.526335Z",
          "shell.execute_reply.started": "2022-05-04T07:43:17.519377Z",
          "shell.execute_reply": "2022-05-04T07:43:17.525595Z"
        },
        "trusted": true,
        "id": "3KcuQ2jUOaWX"
      },
      "execution_count": 12,
      "outputs": []
    },
    {
      "cell_type": "code",
      "source": [
        "# Test getDataFrames with Twitter data\n",
        "\n",
        "twitter_train, twitter_test, twitter_val = getDataFrames(\"Twitter\")\n",
        "print(\"twitter_train\", twitter_train.shape)\n",
        "print(\"twitter_test\", twitter_test.shape)\n",
        "print(\"twitter_val\", twitter_val.shape)"
      ],
      "metadata": {
        "execution": {
          "iopub.status.busy": "2022-05-04T07:43:17.527208Z",
          "iopub.execute_input": "2022-05-04T07:43:17.527399Z",
          "iopub.status.idle": "2022-05-04T07:43:17.541866Z",
          "shell.execute_reply.started": "2022-05-04T07:43:17.527359Z",
          "shell.execute_reply": "2022-05-04T07:43:17.541182Z"
        },
        "trusted": true,
        "colab": {
          "base_uri": "https://localhost:8080/"
        },
        "id": "WzRKyXyJOaWX",
        "outputId": "8d1b9c1d-2f08-46f7-de45-37a83f8d1632"
      },
      "execution_count": 13,
      "outputs": [
        {
          "output_type": "stream",
          "name": "stdout",
          "text": [
            "twitter_train (8377, 2)\n",
            "twitter_test (1796, 2)\n",
            "twitter_val (1795, 2)\n"
          ]
        }
      ]
    },
    {
      "cell_type": "markdown",
      "source": [
        "# Models"
      ],
      "metadata": {
        "id": "K2d3sDA3OaWX"
      }
    },
    {
      "cell_type": "markdown",
      "source": [
        "### 1. CNN"
      ],
      "metadata": {
        "id": "XiODSouEOaWX"
      }
    },
    {
      "cell_type": "code",
      "source": [
        "class CNN(nn.Module):\n",
        "    def __init__(self, NUM_CLASSES = 2, DIM_EMB = MAX_LEN):\n",
        "        super(CNN, self).__init__()\n",
        "        self.Embedding = self.bert = BertModel.from_pretrained(PRE_TRAINED_MODEL_NAME).get_input_embeddings()\n",
        "        self.conv1d_list = nn.ModuleList([\n",
        "            nn.Conv1d(in_channels=DIM_EMB,\n",
        "                      out_channels=2,\n",
        "                      kernel_size=ks)\n",
        "            for ks in range(2, 5)\n",
        "        ])\n",
        "        self.ReLU = nn.ReLU()\n",
        "        self.MaxPool = nn.MaxPool1d\n",
        "        self.Dropout = nn.Dropout()\n",
        "        self.Linear = nn.Linear(6, NUM_CLASSES)\n",
        "        self.LogSoftmax = nn.LogSoftmax(dim=1)\n",
        "\n",
        "    def forward(self, input_ids, attention_mask):\n",
        "        E = self.Embedding(input_ids)\n",
        "        R = [self.ReLU(conv1d(E)) for conv1d in self.conv1d_list]\n",
        "        M = [self.MaxPool(kernel_size=r.shape[2])(r) for r in R]\n",
        "        C = torch.cat([m.squeeze(dim=2) for m in M], dim = 1)\n",
        "        L = self.Linear(C)\n",
        "        X = self.LogSoftmax(L)\n",
        "        return X"
      ],
      "metadata": {
        "execution": {
          "iopub.status.busy": "2022-05-04T07:43:17.543222Z",
          "iopub.execute_input": "2022-05-04T07:43:17.543527Z",
          "iopub.status.idle": "2022-05-04T07:43:17.552482Z",
          "shell.execute_reply.started": "2022-05-04T07:43:17.543495Z",
          "shell.execute_reply": "2022-05-04T07:43:17.551743Z"
        },
        "trusted": true,
        "id": "exItBao7OaWX"
      },
      "execution_count": 14,
      "outputs": []
    },
    {
      "cell_type": "markdown",
      "source": [
        "### 2. BERT"
      ],
      "metadata": {
        "id": "128Hc-R0OaWX"
      }
    },
    {
      "cell_type": "code",
      "source": [
        "class BERT(nn.Module):\n",
        "    def __init__(self, n_classes):\n",
        "        super(BERT, self).__init__()\n",
        "        self.bert = BertModel.from_pretrained(PRE_TRAINED_MODEL_NAME)\n",
        "        self.drop = nn.Dropout(p=0.3)\n",
        "        self.out = nn.Linear(self.bert.config.hidden_size, n_classes)\n",
        "        \n",
        "    def forward(self, input_ids, attention_mask):\n",
        "        pooled_output = self.bert(\n",
        "            input_ids=input_ids,\n",
        "            attention_mask=attention_mask\n",
        "        )[1]\n",
        "        output = self.drop(pooled_output)\n",
        "        return self.out(output)"
      ],
      "metadata": {
        "execution": {
          "iopub.status.busy": "2022-05-04T07:43:17.554057Z",
          "iopub.execute_input": "2022-05-04T07:43:17.554519Z",
          "iopub.status.idle": "2022-05-04T07:43:17.564211Z",
          "shell.execute_reply.started": "2022-05-04T07:43:17.554487Z",
          "shell.execute_reply": "2022-05-04T07:43:17.563350Z"
        },
        "trusted": true,
        "id": "P9gwM_y3OaWY"
      },
      "execution_count": 15,
      "outputs": []
    },
    {
      "cell_type": "markdown",
      "source": [
        "### 3. biLSTM"
      ],
      "metadata": {
        "id": "pK8QvrkNOaWY"
      }
    },
    {
      "cell_type": "code",
      "source": [
        "class biLSTM(nn.Module):\n",
        "    def __init__(self, h_dim=100, max_len=MAX_LEN, emd_dim=100, lstm_layers=1, dropout_rate=0.2):\n",
        "        super(biLSTM, self).__init__()\n",
        "        self.embeddings = self.bert = BertModel.from_pretrained(\n",
        "            PRE_TRAINED_MODEL_NAME).get_input_embeddings()\n",
        "#         print(self.embeddings)\n",
        "\n",
        "        self.text_len = max_len\n",
        "        self.lstm_layers = lstm_layers\n",
        "        self.h_dim = h_dim\n",
        "        \n",
        "        # self.embedding = nn.Embedding(max_len, max_len, padding_idx=0)\n",
        "        self.lstm = nn.LSTM(input_size=128,\n",
        "                            hidden_size=h_dim,\n",
        "                            num_layers=lstm_layers,\n",
        "                            batch_first=True,\n",
        "                            bidirectional=True)\n",
        "        self.fc = nn.Linear(2 * lstm_layers * h_dim, 2)\n",
        "        self.sigmoid = nn.Sigmoid()\n",
        "\n",
        "    def forward(self, input_ids, attention_mask):\n",
        "        N, L = input_ids.shape\n",
        "        embedding_output = self.embeddings(input_ids)\n",
        "        out, (h, c) = self.lstm(embedding_output)\n",
        "        h = h.permute(1, 0, 2).resize(N, 2 * self.lstm_layers * self.h_dim)\n",
        "\n",
        "        return torch.sigmoid(self.fc(h))"
      ],
      "metadata": {
        "execution": {
          "iopub.status.busy": "2022-05-04T07:43:17.566021Z",
          "iopub.execute_input": "2022-05-04T07:43:17.567975Z",
          "iopub.status.idle": "2022-05-04T07:43:17.577224Z",
          "shell.execute_reply.started": "2022-05-04T07:43:17.567939Z",
          "shell.execute_reply": "2022-05-04T07:43:17.576479Z"
        },
        "trusted": true,
        "id": "agKl9nEAOaWY"
      },
      "execution_count": 16,
      "outputs": []
    },
    {
      "cell_type": "code",
      "source": [
        "# List of Models\n",
        "models = {\n",
        "    \"CNN\": nn.ModuleDict({\n",
        "        \"model\": CNN().to(device),\n",
        "        \"loss_fn\": nn.NLLLoss().to(device)\n",
        "    }),\n",
        "    \"BERT\": nn.ModuleDict({\n",
        "        \"model\": BERT(n_classes=2).to(device),\n",
        "        \"loss_fn\": nn.CrossEntropyLoss().to(device)\n",
        "    }),\n",
        "    \"biLSTM\": nn.ModuleDict({\n",
        "        \"model\": biLSTM(h_dim=100, lstm_layers=2).to(device),\n",
        "        \"loss_fn\": nn.CrossEntropyLoss().to(device)\n",
        "    }),\n",
        "}"
      ],
      "metadata": {
        "execution": {
          "iopub.status.busy": "2022-05-04T07:43:17.578691Z",
          "iopub.execute_input": "2022-05-04T07:43:17.579287Z",
          "iopub.status.idle": "2022-05-04T07:43:27.224819Z",
          "shell.execute_reply.started": "2022-05-04T07:43:17.579248Z",
          "shell.execute_reply": "2022-05-04T07:43:27.224077Z"
        },
        "trusted": true,
        "colab": {
          "base_uri": "https://localhost:8080/"
        },
        "id": "d_1Rorh3OaWY",
        "outputId": "71a003cb-376b-4c88-829c-0bae034236ef"
      },
      "execution_count": 17,
      "outputs": [
        {
          "output_type": "stream",
          "name": "stderr",
          "text": [
            "Some weights of the model checkpoint at prajjwal1/bert-tiny were not used when initializing BertModel: ['cls.predictions.decoder.bias', 'cls.predictions.bias', 'cls.seq_relationship.weight', 'cls.predictions.transform.LayerNorm.weight', 'cls.predictions.transform.LayerNorm.bias', 'cls.predictions.transform.dense.weight', 'cls.predictions.decoder.weight', 'cls.predictions.transform.dense.bias', 'cls.seq_relationship.bias']\n",
            "- This IS expected if you are initializing BertModel from the checkpoint of a model trained on another task or with another architecture (e.g. initializing a BertForSequenceClassification model from a BertForPreTraining model).\n",
            "- This IS NOT expected if you are initializing BertModel from the checkpoint of a model that you expect to be exactly identical (initializing a BertForSequenceClassification model from a BertForSequenceClassification model).\n",
            "Some weights of the model checkpoint at prajjwal1/bert-tiny were not used when initializing BertModel: ['cls.predictions.decoder.bias', 'cls.predictions.bias', 'cls.seq_relationship.weight', 'cls.predictions.transform.LayerNorm.weight', 'cls.predictions.transform.LayerNorm.bias', 'cls.predictions.transform.dense.weight', 'cls.predictions.decoder.weight', 'cls.predictions.transform.dense.bias', 'cls.seq_relationship.bias']\n",
            "- This IS expected if you are initializing BertModel from the checkpoint of a model trained on another task or with another architecture (e.g. initializing a BertForSequenceClassification model from a BertForPreTraining model).\n",
            "- This IS NOT expected if you are initializing BertModel from the checkpoint of a model that you expect to be exactly identical (initializing a BertForSequenceClassification model from a BertForSequenceClassification model).\n",
            "Some weights of the model checkpoint at prajjwal1/bert-tiny were not used when initializing BertModel: ['cls.predictions.decoder.bias', 'cls.predictions.bias', 'cls.seq_relationship.weight', 'cls.predictions.transform.LayerNorm.weight', 'cls.predictions.transform.LayerNorm.bias', 'cls.predictions.transform.dense.weight', 'cls.predictions.decoder.weight', 'cls.predictions.transform.dense.bias', 'cls.seq_relationship.bias']\n",
            "- This IS expected if you are initializing BertModel from the checkpoint of a model trained on another task or with another architecture (e.g. initializing a BertForSequenceClassification model from a BertForPreTraining model).\n",
            "- This IS NOT expected if you are initializing BertModel from the checkpoint of a model that you expect to be exactly identical (initializing a BertForSequenceClassification model from a BertForSequenceClassification model).\n"
          ]
        }
      ]
    },
    {
      "cell_type": "markdown",
      "source": [
        "# Training Function"
      ],
      "metadata": {
        "id": "QNBMDSrFOaWY"
      }
    },
    {
      "cell_type": "code",
      "source": [
        "def train(\n",
        "    model,\n",
        "    loss_fn,\n",
        "    optimizer,\n",
        "    scheduler,\n",
        "    device,\n",
        "    data_loader,\n",
        "    n_examples\n",
        "):\n",
        "    model = model.train() # Setting Model in training mode\n",
        "\n",
        "    losses = []\n",
        "    correct_predictions = 0\n",
        "\n",
        "    for d in data_loader:\n",
        "        input_ids = d['input_ids'].to(device)  # [16, 512]\n",
        "        attention_mask = d['attention_mask'].to(device)  # [16, 512]\n",
        "        targets = d['spam'].to(device)  # [16]\n",
        "\n",
        "        # Forward Propogation\n",
        "        outputs = model(\n",
        "            input_ids=input_ids,\n",
        "            attention_mask=attention_mask\n",
        "        ) # [16, 3]\n",
        "\n",
        "        # Calculating Loss\n",
        "        loss = loss_fn(outputs, targets)\n",
        "\n",
        "        _, preds = torch.max(outputs, dim=1)\n",
        "\n",
        "        correct_predictions += torch.sum(preds == targets)\n",
        "        losses.append(loss.item())\n",
        "        \n",
        "        # Backward Propogation\n",
        "        loss.backward()\n",
        "        nn.utils.clip_grad_norm_(model.parameters(), max_norm=1.0) # Clipping Gradient (Exploding Gradient Problem)\n",
        "        optimizer.step()\n",
        "        scheduler.step()\n",
        "        optimizer.zero_grad() # Resetting gradients\n",
        "\n",
        "    train_acc = correct_predictions.double() / n_examples\n",
        "    train_loss = np.mean(losses)\n",
        "    \n",
        "    return train_acc, train_loss"
      ],
      "metadata": {
        "execution": {
          "iopub.status.busy": "2022-05-04T07:43:27.226172Z",
          "iopub.execute_input": "2022-05-04T07:43:27.226423Z",
          "iopub.status.idle": "2022-05-04T07:43:27.235463Z",
          "shell.execute_reply.started": "2022-05-04T07:43:27.226386Z",
          "shell.execute_reply": "2022-05-04T07:43:27.234806Z"
        },
        "trusted": true,
        "id": "hhw1DdvDOaWY"
      },
      "execution_count": 18,
      "outputs": []
    },
    {
      "cell_type": "markdown",
      "source": [
        "# Evaluation Function"
      ],
      "metadata": {
        "id": "DVZdet7rOaWY"
      }
    },
    {
      "cell_type": "code",
      "source": [
        "def evaluate_model(\n",
        "    model,\n",
        "    loss_fn,\n",
        "    device,\n",
        "    data_loader,\n",
        "    n_examples   \n",
        "):\n",
        "    model = model.eval() # Setting Model in evaluation mode\n",
        "\n",
        "    losses = []\n",
        "    correct_predictions = 0\n",
        "\n",
        "    with torch.no_grad():\n",
        "        for d in data_loader:\n",
        "            input_ids = d['input_ids'].to(device)  # [16, 512]\n",
        "            attention_mask = d['attention_mask'].to(device)  # [16, 512]\n",
        "            targets = d['spam'].to(device)  # [16]\n",
        "\n",
        "            # Forward Propogation\n",
        "            outputs = model(\n",
        "                input_ids=input_ids,\n",
        "                attention_mask=attention_mask\n",
        "            ) # [16, 3]\n",
        "\n",
        "            # Calculating Loss\n",
        "            loss = loss_fn(outputs, targets)\n",
        "\n",
        "            _, preds = torch.max(outputs, dim=1)\n",
        "\n",
        "            correct_predictions += torch.sum(preds == targets)\n",
        "            losses.append(loss.item())\n",
        "        \n",
        "    train_acc = correct_predictions.double() / n_examples\n",
        "    train_loss = np.mean(losses)\n",
        "\n",
        "    return train_acc, train_loss"
      ],
      "metadata": {
        "execution": {
          "iopub.status.busy": "2022-05-04T07:43:27.236592Z",
          "iopub.execute_input": "2022-05-04T07:43:27.237142Z",
          "iopub.status.idle": "2022-05-04T07:43:27.248010Z",
          "shell.execute_reply.started": "2022-05-04T07:43:27.237107Z",
          "shell.execute_reply": "2022-05-04T07:43:27.247290Z"
        },
        "trusted": true,
        "id": "KykHkYd9OaWY"
      },
      "execution_count": 19,
      "outputs": []
    },
    {
      "cell_type": "code",
      "source": [
        "def run_epochs(p):    \n",
        "    history = defaultdict(list)\n",
        "    best_accuracy = 0\n",
        "\n",
        "    for epoch in range(EPOCHS):\n",
        "        print(f'Epoch {epoch + 1}/{EPOCHS}')\n",
        "        print('-' * 10)\n",
        "        \n",
        "        train_acc, train_loss = train(\n",
        "            p[\"model\"],\n",
        "            p[\"loss_fn\"],\n",
        "            p[\"optimizer\"],\n",
        "            p[\"scheduler\"],\n",
        "            p[\"device\"],\n",
        "            p[\"train_data_loader\"],\n",
        "            len(p[\"df_train\"])\n",
        "        )\n",
        "\n",
        "        print(f'Train loss {train_loss} accuracy {train_acc}')\n",
        "\n",
        "        for k, v in p['val_data_loader'].items():\n",
        "          print(k)\n",
        "          val_acc, val_loss = evaluate_model(\n",
        "              p[\"model\"],\n",
        "              p[\"loss_fn\"],\n",
        "              p[\"device\"],\n",
        "              v,\n",
        "              len(p['df_vals'][k])\n",
        "          )\n",
        "\n",
        "          print(f'Validation loss {val_loss} accuracy {val_acc}')\n",
        "          print()\n",
        "\n",
        "        history['train_acc'].append(train_acc)\n",
        "        history['train_loss'].append(train_loss)\n",
        "        history['val_acc'].append(val_acc)\n",
        "        history['val_loss'].append(val_loss)\n",
        "\n",
        "        if val_acc > best_accuracy:\n",
        "            torch.save(model.state_dict(), f'M_{p[\"modelName\"]}_D_{p[\"data_source\"]}_best_model_state.bin')\n",
        "            best_accuracy = val_acc"
      ],
      "metadata": {
        "execution": {
          "iopub.status.busy": "2022-05-04T07:43:27.250035Z",
          "iopub.execute_input": "2022-05-04T07:43:27.250226Z",
          "iopub.status.idle": "2022-05-04T07:43:27.261065Z",
          "shell.execute_reply.started": "2022-05-04T07:43:27.250204Z",
          "shell.execute_reply": "2022-05-04T07:43:27.260258Z"
        },
        "trusted": true,
        "id": "AEwjqhb3OaWY"
      },
      "execution_count": 20,
      "outputs": []
    },
    {
      "cell_type": "markdown",
      "source": [
        "# Run Models"
      ],
      "metadata": {
        "id": "KuEK2p1JOaWZ"
      }
    },
    {
      "cell_type": "code",
      "source": [
        "test_dls = {} \n",
        "val_dls = {}\n",
        "\n",
        "df_vals = {}\n",
        "df_tests = {}\n",
        "df_combined = pd.DataFrame([], columns=['msg', 'spam'])\n",
        "\n",
        "for data_source in data_frames.keys():\n",
        "  df_train, df_test, df_val = getDataFrames(data_source)\n",
        "  df_combined = pd.concat([df_combined, df_train])\n",
        "  test_data_loader = create_data_loader(df_test, tokenizer, MAX_LEN, BATCH_SIZE)\n",
        "  test_dls[data_source] = test_data_loader\n",
        "  df_tests[data_source] = df_test\n",
        "  \n",
        "  val_data_loader = create_data_loader(df_val, tokenizer, MAX_LEN, BATCH_SIZE)\n",
        "  val_dls[data_source] = val_data_loader\n",
        "  df_vals[data_source] = df_val\n",
        "\n",
        "df_combined['spam'] = df_combined['spam'].astype(int)\n",
        "df_combined = df_combined.reset_index(drop=True)\n",
        "\n",
        "df_train = df_combined\n",
        "train_data_loader = create_data_loader(df_train, tokenizer, MAX_LEN, BATCH_SIZE)"
      ],
      "metadata": {
        "id": "tINl_QLAlHnb"
      },
      "execution_count": 21,
      "outputs": []
    },
    {
      "cell_type": "code",
      "source": [
        "%%time\n",
        "\n",
        "for modelName in models.keys():\n",
        "    if modelName == 'CNN':\n",
        "      continue\n",
        "      \n",
        "    print(f\"________ MODEL: {modelName} ________\")\n",
        "    \n",
        "    ### Model Unpacking\n",
        "    m = models[modelName]\n",
        "    model = m[\"model\"]\n",
        "    loss_fn = m[\"loss_fn\"]\n",
        "    # optimizer = AdamW(model.parameters(), lr=2e-3, correct_bias=False)\n",
        "    optimizer = optim.Adam(model.parameters(), lr = 0.001)\n",
        "\n",
        "    print(f\"________ {modelName}________\")\n",
        "\n",
        "        # Total Steps & Scheduler\n",
        "    total_steps = len(train_data_loader) * EPOCHS\n",
        "    scheduler = get_linear_schedule_with_warmup(\n",
        "      optimizer,\n",
        "      num_warmup_steps=0,\n",
        "      num_training_steps=total_steps\n",
        "    )\n",
        "    \n",
        "    # Parameters\n",
        "    params = {\n",
        "        \"modelName\": modelName,\n",
        "        \"data_source\": data_source,\n",
        "        \"model\": model,\n",
        "        \"loss_fn\": loss_fn,\n",
        "        \"optimizer\": optimizer,\n",
        "        \"scheduler\": scheduler,\n",
        "        \"device\": device,\n",
        "        \"train_data_loader\": train_data_loader,\n",
        "        \"val_data_loader\": val_dls,\n",
        "        \"df_train\" :df_train,\n",
        "        \"df_vals\": df_vals,\n",
        "        \"df_tests\": df_tests\n",
        "    }\n",
        "\n",
        "    run_epochs(params)\n",
        "    \n",
        "    # test_acc, _ = evaluate_model(\n",
        "    #     model,\n",
        "    #     loss_fn,\n",
        "    #     device,\n",
        "    #     test_data_loader,\n",
        "    #     len(df_test)\n",
        "    # )\n",
        "    # print(f\"TEST ACCURACY: \\t {test_acc.item()}\")"
      ],
      "metadata": {
        "colab": {
          "base_uri": "https://localhost:8080/",
          "height": 532
        },
        "id": "AoPzC01dUz7s",
        "outputId": "48fd4236-b5cc-4ce9-8226-fc91764653a1"
      },
      "execution_count": 24,
      "outputs": [
        {
          "output_type": "error",
          "ename": "KeyboardInterrupt",
          "evalue": "ignored",
          "traceback": [
            "\u001b[0;31m---------------------------------------------------------------------------\u001b[0m",
            "\u001b[0;31mKeyboardInterrupt\u001b[0m                         Traceback (most recent call last)",
            "\u001b[0;32m<ipython-input-24-6f066a8d475e>\u001b[0m in \u001b[0;36m<module>\u001b[0;34m()\u001b[0m\n\u001b[0;32m----> 1\u001b[0;31m \u001b[0mget_ipython\u001b[0m\u001b[0;34m(\u001b[0m\u001b[0;34m)\u001b[0m\u001b[0;34m.\u001b[0m\u001b[0mrun_cell_magic\u001b[0m\u001b[0;34m(\u001b[0m\u001b[0;34m'time'\u001b[0m\u001b[0;34m,\u001b[0m \u001b[0;34m''\u001b[0m\u001b[0;34m,\u001b[0m \u001b[0;34m'\\nfor modelName in models.keys():\\n    if modelName == \\'CNN\\':\\n      continue\\n      \\n    print(f\"________ MODEL: {modelName} ________\")\\n    \\n    ### Model Unpacking\\n    m = models[modelName]\\n    model = m[\"model\"]\\n    loss_fn = m[\"loss_fn\"]\\n    # optimizer = AdamW(model.parameters(), lr=2e-3, correct_bias=False)\\n    optimizer = optim.Adam(model.parameters(), lr = 0.001)\\n\\n    print(f\"________ {modelName}________\")\\n\\n        # Total Steps & Scheduler\\n    total_steps = len(train_data_loader) * EPOCHS\\n    scheduler = get_linear_schedule_with_warmup(\\n      optimizer,\\n      num_warmup_steps=0,\\n      num_training_steps=total_steps\\n    )\\n    \\n    # Parameters\\n    params = {\\n        \"modelName\": modelName,\\n        \"data_source\": data_source,\\n        \"model\": model,\\n        \"loss_fn\": loss_fn,\\n        \"optimizer\": optimizer,\\n        \"scheduler\": scheduler,\\n        \"device\": device,\\n        \"train_data_loader\": train_data_loader,\\n        \"val_data_loader\": val_dls,\\n        \"df_train\" :df_train,\\n        \"df_vals\": df_vals,\\n        \"df_tests\": df_tests\\n    }\\n\\n    run_epochs(params)\\n    \\n    # test_acc, _ = evaluate_model(\\n    #     model,\\n    #     loss_fn,\\n    #     device,\\n    #     test_data_loader,\\n    #     len(df_test)\\n    # )\\n    # print(f\"TEST ACCURACY: \\\\t {t...\n\u001b[0m",
            "\u001b[0;32m/usr/local/lib/python3.7/dist-packages/IPython/core/interactiveshell.py\u001b[0m in \u001b[0;36mrun_cell_magic\u001b[0;34m(self, magic_name, line, cell)\u001b[0m\n\u001b[1;32m   2115\u001b[0m             \u001b[0mmagic_arg_s\u001b[0m \u001b[0;34m=\u001b[0m \u001b[0mself\u001b[0m\u001b[0;34m.\u001b[0m\u001b[0mvar_expand\u001b[0m\u001b[0;34m(\u001b[0m\u001b[0mline\u001b[0m\u001b[0;34m,\u001b[0m \u001b[0mstack_depth\u001b[0m\u001b[0;34m)\u001b[0m\u001b[0;34m\u001b[0m\u001b[0;34m\u001b[0m\u001b[0m\n\u001b[1;32m   2116\u001b[0m             \u001b[0;32mwith\u001b[0m \u001b[0mself\u001b[0m\u001b[0;34m.\u001b[0m\u001b[0mbuiltin_trap\u001b[0m\u001b[0;34m:\u001b[0m\u001b[0;34m\u001b[0m\u001b[0;34m\u001b[0m\u001b[0m\n\u001b[0;32m-> 2117\u001b[0;31m                 \u001b[0mresult\u001b[0m \u001b[0;34m=\u001b[0m \u001b[0mfn\u001b[0m\u001b[0;34m(\u001b[0m\u001b[0mmagic_arg_s\u001b[0m\u001b[0;34m,\u001b[0m \u001b[0mcell\u001b[0m\u001b[0;34m)\u001b[0m\u001b[0;34m\u001b[0m\u001b[0;34m\u001b[0m\u001b[0m\n\u001b[0m\u001b[1;32m   2118\u001b[0m             \u001b[0;32mreturn\u001b[0m \u001b[0mresult\u001b[0m\u001b[0;34m\u001b[0m\u001b[0;34m\u001b[0m\u001b[0m\n\u001b[1;32m   2119\u001b[0m \u001b[0;34m\u001b[0m\u001b[0m\n",
            "\u001b[0;32m<decorator-gen-53>\u001b[0m in \u001b[0;36mtime\u001b[0;34m(self, line, cell, local_ns)\u001b[0m\n",
            "\u001b[0;32m/usr/local/lib/python3.7/dist-packages/IPython/core/magic.py\u001b[0m in \u001b[0;36m<lambda>\u001b[0;34m(f, *a, **k)\u001b[0m\n\u001b[1;32m    186\u001b[0m     \u001b[0;31m# but it's overkill for just that one bit of state.\u001b[0m\u001b[0;34m\u001b[0m\u001b[0;34m\u001b[0m\u001b[0;34m\u001b[0m\u001b[0m\n\u001b[1;32m    187\u001b[0m     \u001b[0;32mdef\u001b[0m \u001b[0mmagic_deco\u001b[0m\u001b[0;34m(\u001b[0m\u001b[0marg\u001b[0m\u001b[0;34m)\u001b[0m\u001b[0;34m:\u001b[0m\u001b[0;34m\u001b[0m\u001b[0;34m\u001b[0m\u001b[0m\n\u001b[0;32m--> 188\u001b[0;31m         \u001b[0mcall\u001b[0m \u001b[0;34m=\u001b[0m \u001b[0;32mlambda\u001b[0m \u001b[0mf\u001b[0m\u001b[0;34m,\u001b[0m \u001b[0;34m*\u001b[0m\u001b[0ma\u001b[0m\u001b[0;34m,\u001b[0m \u001b[0;34m**\u001b[0m\u001b[0mk\u001b[0m\u001b[0;34m:\u001b[0m \u001b[0mf\u001b[0m\u001b[0;34m(\u001b[0m\u001b[0;34m*\u001b[0m\u001b[0ma\u001b[0m\u001b[0;34m,\u001b[0m \u001b[0;34m**\u001b[0m\u001b[0mk\u001b[0m\u001b[0;34m)\u001b[0m\u001b[0;34m\u001b[0m\u001b[0;34m\u001b[0m\u001b[0m\n\u001b[0m\u001b[1;32m    189\u001b[0m \u001b[0;34m\u001b[0m\u001b[0m\n\u001b[1;32m    190\u001b[0m         \u001b[0;32mif\u001b[0m \u001b[0mcallable\u001b[0m\u001b[0;34m(\u001b[0m\u001b[0marg\u001b[0m\u001b[0;34m)\u001b[0m\u001b[0;34m:\u001b[0m\u001b[0;34m\u001b[0m\u001b[0;34m\u001b[0m\u001b[0m\n",
            "\u001b[0;32m/usr/local/lib/python3.7/dist-packages/IPython/core/magics/execution.py\u001b[0m in \u001b[0;36mtime\u001b[0;34m(self, line, cell, local_ns)\u001b[0m\n\u001b[1;32m   1191\u001b[0m         \u001b[0;32melse\u001b[0m\u001b[0;34m:\u001b[0m\u001b[0;34m\u001b[0m\u001b[0;34m\u001b[0m\u001b[0m\n\u001b[1;32m   1192\u001b[0m             \u001b[0mst\u001b[0m \u001b[0;34m=\u001b[0m \u001b[0mclock2\u001b[0m\u001b[0;34m(\u001b[0m\u001b[0;34m)\u001b[0m\u001b[0;34m\u001b[0m\u001b[0;34m\u001b[0m\u001b[0m\n\u001b[0;32m-> 1193\u001b[0;31m             \u001b[0mexec\u001b[0m\u001b[0;34m(\u001b[0m\u001b[0mcode\u001b[0m\u001b[0;34m,\u001b[0m \u001b[0mglob\u001b[0m\u001b[0;34m,\u001b[0m \u001b[0mlocal_ns\u001b[0m\u001b[0;34m)\u001b[0m\u001b[0;34m\u001b[0m\u001b[0;34m\u001b[0m\u001b[0m\n\u001b[0m\u001b[1;32m   1194\u001b[0m             \u001b[0mend\u001b[0m \u001b[0;34m=\u001b[0m \u001b[0mclock2\u001b[0m\u001b[0;34m(\u001b[0m\u001b[0;34m)\u001b[0m\u001b[0;34m\u001b[0m\u001b[0;34m\u001b[0m\u001b[0m\n\u001b[1;32m   1195\u001b[0m             \u001b[0mout\u001b[0m \u001b[0;34m=\u001b[0m \u001b[0;32mNone\u001b[0m\u001b[0;34m\u001b[0m\u001b[0;34m\u001b[0m\u001b[0m\n",
            "\u001b[0;32m<timed exec>\u001b[0m in \u001b[0;36m<module>\u001b[0;34m()\u001b[0m\n",
            "\u001b[0;32m<ipython-input-20-6a078ecd3949>\u001b[0m in \u001b[0;36mrun_epochs\u001b[0;34m(p)\u001b[0m\n\u001b[1;32m     14\u001b[0m             \u001b[0mp\u001b[0m\u001b[0;34m[\u001b[0m\u001b[0;34m\"device\"\u001b[0m\u001b[0;34m]\u001b[0m\u001b[0;34m,\u001b[0m\u001b[0;34m\u001b[0m\u001b[0;34m\u001b[0m\u001b[0m\n\u001b[1;32m     15\u001b[0m             \u001b[0mp\u001b[0m\u001b[0;34m[\u001b[0m\u001b[0;34m\"train_data_loader\"\u001b[0m\u001b[0;34m]\u001b[0m\u001b[0;34m,\u001b[0m\u001b[0;34m\u001b[0m\u001b[0;34m\u001b[0m\u001b[0m\n\u001b[0;32m---> 16\u001b[0;31m             \u001b[0mlen\u001b[0m\u001b[0;34m(\u001b[0m\u001b[0mp\u001b[0m\u001b[0;34m[\u001b[0m\u001b[0;34m\"df_train\"\u001b[0m\u001b[0;34m]\u001b[0m\u001b[0;34m)\u001b[0m\u001b[0;34m\u001b[0m\u001b[0;34m\u001b[0m\u001b[0m\n\u001b[0m\u001b[1;32m     17\u001b[0m         )\n\u001b[1;32m     18\u001b[0m \u001b[0;34m\u001b[0m\u001b[0m\n",
            "\u001b[0;32m<ipython-input-18-a4c787b2645e>\u001b[0m in \u001b[0;36mtrain\u001b[0;34m(model, loss_fn, optimizer, scheduler, device, data_loader, n_examples)\u001b[0m\n\u001b[1;32m     33\u001b[0m \u001b[0;34m\u001b[0m\u001b[0m\n\u001b[1;32m     34\u001b[0m         \u001b[0;31m# Backward Propogation\u001b[0m\u001b[0;34m\u001b[0m\u001b[0;34m\u001b[0m\u001b[0;34m\u001b[0m\u001b[0m\n\u001b[0;32m---> 35\u001b[0;31m         \u001b[0mloss\u001b[0m\u001b[0;34m.\u001b[0m\u001b[0mbackward\u001b[0m\u001b[0;34m(\u001b[0m\u001b[0;34m)\u001b[0m\u001b[0;34m\u001b[0m\u001b[0;34m\u001b[0m\u001b[0m\n\u001b[0m\u001b[1;32m     36\u001b[0m         \u001b[0mnn\u001b[0m\u001b[0;34m.\u001b[0m\u001b[0mutils\u001b[0m\u001b[0;34m.\u001b[0m\u001b[0mclip_grad_norm_\u001b[0m\u001b[0;34m(\u001b[0m\u001b[0mmodel\u001b[0m\u001b[0;34m.\u001b[0m\u001b[0mparameters\u001b[0m\u001b[0;34m(\u001b[0m\u001b[0;34m)\u001b[0m\u001b[0;34m,\u001b[0m \u001b[0mmax_norm\u001b[0m\u001b[0;34m=\u001b[0m\u001b[0;36m1.0\u001b[0m\u001b[0;34m)\u001b[0m \u001b[0;31m# Clipping Gradient (Exploding Gradient Problem)\u001b[0m\u001b[0;34m\u001b[0m\u001b[0;34m\u001b[0m\u001b[0m\n\u001b[1;32m     37\u001b[0m         \u001b[0moptimizer\u001b[0m\u001b[0;34m.\u001b[0m\u001b[0mstep\u001b[0m\u001b[0;34m(\u001b[0m\u001b[0;34m)\u001b[0m\u001b[0;34m\u001b[0m\u001b[0;34m\u001b[0m\u001b[0m\n",
            "\u001b[0;32m/usr/local/lib/python3.7/dist-packages/torch/_tensor.py\u001b[0m in \u001b[0;36mbackward\u001b[0;34m(self, gradient, retain_graph, create_graph, inputs)\u001b[0m\n\u001b[1;32m    361\u001b[0m                 \u001b[0mcreate_graph\u001b[0m\u001b[0;34m=\u001b[0m\u001b[0mcreate_graph\u001b[0m\u001b[0;34m,\u001b[0m\u001b[0;34m\u001b[0m\u001b[0;34m\u001b[0m\u001b[0m\n\u001b[1;32m    362\u001b[0m                 inputs=inputs)\n\u001b[0;32m--> 363\u001b[0;31m         \u001b[0mtorch\u001b[0m\u001b[0;34m.\u001b[0m\u001b[0mautograd\u001b[0m\u001b[0;34m.\u001b[0m\u001b[0mbackward\u001b[0m\u001b[0;34m(\u001b[0m\u001b[0mself\u001b[0m\u001b[0;34m,\u001b[0m \u001b[0mgradient\u001b[0m\u001b[0;34m,\u001b[0m \u001b[0mretain_graph\u001b[0m\u001b[0;34m,\u001b[0m \u001b[0mcreate_graph\u001b[0m\u001b[0;34m,\u001b[0m \u001b[0minputs\u001b[0m\u001b[0;34m=\u001b[0m\u001b[0minputs\u001b[0m\u001b[0;34m)\u001b[0m\u001b[0;34m\u001b[0m\u001b[0;34m\u001b[0m\u001b[0m\n\u001b[0m\u001b[1;32m    364\u001b[0m \u001b[0;34m\u001b[0m\u001b[0m\n\u001b[1;32m    365\u001b[0m     \u001b[0;32mdef\u001b[0m \u001b[0mregister_hook\u001b[0m\u001b[0;34m(\u001b[0m\u001b[0mself\u001b[0m\u001b[0;34m,\u001b[0m \u001b[0mhook\u001b[0m\u001b[0;34m)\u001b[0m\u001b[0;34m:\u001b[0m\u001b[0;34m\u001b[0m\u001b[0;34m\u001b[0m\u001b[0m\n",
            "\u001b[0;32m/usr/local/lib/python3.7/dist-packages/torch/autograd/__init__.py\u001b[0m in \u001b[0;36mbackward\u001b[0;34m(tensors, grad_tensors, retain_graph, create_graph, grad_variables, inputs)\u001b[0m\n\u001b[1;32m    173\u001b[0m     Variable._execution_engine.run_backward(  # Calls into the C++ engine to run the backward pass\n\u001b[1;32m    174\u001b[0m         \u001b[0mtensors\u001b[0m\u001b[0;34m,\u001b[0m \u001b[0mgrad_tensors_\u001b[0m\u001b[0;34m,\u001b[0m \u001b[0mretain_graph\u001b[0m\u001b[0;34m,\u001b[0m \u001b[0mcreate_graph\u001b[0m\u001b[0;34m,\u001b[0m \u001b[0minputs\u001b[0m\u001b[0;34m,\u001b[0m\u001b[0;34m\u001b[0m\u001b[0;34m\u001b[0m\u001b[0m\n\u001b[0;32m--> 175\u001b[0;31m         allow_unreachable=True, accumulate_grad=True)  # Calls into the C++ engine to run the backward pass\n\u001b[0m\u001b[1;32m    176\u001b[0m \u001b[0;34m\u001b[0m\u001b[0m\n\u001b[1;32m    177\u001b[0m def grad(\n",
            "\u001b[0;31mKeyboardInterrupt\u001b[0m: "
          ]
        }
      ]
    },
    {
      "cell_type": "code",
      "source": [
        ""
      ],
      "metadata": {
        "id": "U8oGQ3OJRlYK"
      },
      "execution_count": null,
      "outputs": []
    },
    {
      "cell_type": "code",
      "source": [
        ""
      ],
      "metadata": {
        "id": "sH9Qw5ZOOaWZ"
      },
      "execution_count": null,
      "outputs": []
    }
  ]
}