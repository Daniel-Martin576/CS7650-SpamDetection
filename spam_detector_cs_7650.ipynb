{
  "metadata": {
    "kernelspec": {
      "language": "python",
      "display_name": "Python 3",
      "name": "python3"
    },
    "language_info": {
      "name": "python",
      "version": "3.7.12",
      "mimetype": "text/x-python",
      "codemirror_mode": {
        "name": "ipython",
        "version": 3
      },
      "pygments_lexer": "ipython3",
      "nbconvert_exporter": "python",
      "file_extension": ".py"
    },
    "colab": {
      "name": "spam-detector-cs-7650.ipynb",
      "provenance": [],
      "machine_shape": "hm"
    },
    "accelerator": "GPU"
  },
  "nbformat_minor": 0,
  "nbformat": 4,
  "cells": [
    {
      "cell_type": "markdown",
      "source": [
        "# Installing & Importing Dependencies"
      ],
      "metadata": {
        "id": "PSR9nMzPOaWR"
      }
    },
    {
      "cell_type": "code",
      "source": [
        "import warnings\n",
        "warnings.filterwarnings('ignore')"
      ],
      "metadata": {
        "execution": {
          "iopub.status.busy": "2022-05-04T07:42:56.166006Z",
          "iopub.execute_input": "2022-05-04T07:42:56.166311Z",
          "iopub.status.idle": "2022-05-04T07:42:56.192239Z",
          "shell.execute_reply.started": "2022-05-04T07:42:56.166234Z",
          "shell.execute_reply": "2022-05-04T07:42:56.191603Z"
        },
        "trusted": true,
        "id": "dBAcDZV2OaWT"
      },
      "execution_count": 1,
      "outputs": []
    },
    {
      "cell_type": "code",
      "source": [
        "!pip install transformers --quiet"
      ],
      "metadata": {
        "execution": {
          "iopub.status.busy": "2022-05-04T07:42:56.225964Z",
          "iopub.execute_input": "2022-05-04T07:42:56.226258Z",
          "iopub.status.idle": "2022-05-04T07:43:06.601262Z",
          "shell.execute_reply.started": "2022-05-04T07:42:56.226229Z",
          "shell.execute_reply": "2022-05-04T07:43:06.600461Z"
        },
        "trusted": true,
        "id": "G7e5X0pWOaWT"
      },
      "execution_count": 2,
      "outputs": []
    },
    {
      "cell_type": "code",
      "source": [
        "# PyTorch\n",
        "import torch\n",
        "import torch.nn as nn\n",
        "import torch.optim as optim\n",
        "from torch.utils.data import Dataset, DataLoader\n",
        "\n",
        "# SciKit Learn\n",
        "from sklearn.model_selection import train_test_split as tts\n",
        "from sklearn.metrics import accuracy_score, precision_score, recall_score, roc_auc_score, f1_score, confusion_matrix\n",
        "\n",
        "# Transformers\n",
        "from transformers import BertTokenizer, BertModel, AdamW, get_linear_schedule_with_warmup\n",
        "from transformers.models.bert.modeling_bert import BertEmbeddings\n",
        "\n",
        "# Others\n",
        "import numpy as np\n",
        "import pandas as pd\n",
        "import matplotlib.pyplot as plt\n",
        "import seaborn as sns\n",
        "from collections import defaultdict"
      ],
      "metadata": {
        "execution": {
          "iopub.status.busy": "2022-05-04T07:43:06.603397Z",
          "iopub.execute_input": "2022-05-04T07:43:06.603685Z",
          "iopub.status.idle": "2022-05-04T07:43:13.168905Z",
          "shell.execute_reply.started": "2022-05-04T07:43:06.603648Z",
          "shell.execute_reply": "2022-05-04T07:43:13.168182Z"
        },
        "trusted": true,
        "id": "iNB6wQliOaWU"
      },
      "execution_count": 3,
      "outputs": []
    },
    {
      "cell_type": "code",
      "source": [
        "# Global Config\n",
        "PRE_TRAINED_MODEL_NAME = 'prajjwal1/bert-tiny'                     # Pre-trained model\n",
        "tokenizer = BertTokenizer.from_pretrained(PRE_TRAINED_MODEL_NAME)  # Tokenizer\n",
        "\n",
        "EPOCHS=10              # Number of epochs\n",
        "MAX_LEN=512            # Maximum Length\n",
        "BATCH_SIZE=16          # Batch Size\n",
        "device = 'cuda'        # GPU "
      ],
      "metadata": {
        "execution": {
          "iopub.status.busy": "2022-05-04T07:43:13.170082Z",
          "iopub.execute_input": "2022-05-04T07:43:13.170346Z",
          "iopub.status.idle": "2022-05-04T07:43:16.910473Z",
          "shell.execute_reply.started": "2022-05-04T07:43:13.170300Z",
          "shell.execute_reply": "2022-05-04T07:43:16.909783Z"
        },
        "trusted": true,
        "id": "vjmpk6zzOaWU"
      },
      "execution_count": 24,
      "outputs": []
    },
    {
      "cell_type": "markdown",
      "source": [
        "# Reading & Preprocessing Data"
      ],
      "metadata": {
        "id": "eaj0GY7ROaWU"
      }
    },
    {
      "cell_type": "code",
      "source": [
        "### SOURCE, PATH, MSG, SPAM\n",
        "# data_configs = [\n",
        "#     (\"Youtube\", \"../input/cs7650-dataset/Dataset/Youtube/youtube_train.csv\", '''df[\"CONTENT\"]''', '''df[\"CLASS\"]'''),\n",
        "#     (\"SMS\", \"https://raw.githubusercontent.com/animesharma3/SPAM-SMS-Detection/master/spam_sms_collection.csv\", '''df[\"msg\"]''', '''df[\"spam\"]'''),\n",
        "#     (\"Email\", \"../input/cs7650-dataset/Dataset/Email/email_spam.csv\", '''df[\"text\"]''', '''(1 * (df[\"label_num\"] == 0))'''),\n",
        "#     (\"Twitter\", \"../input/cs7650-dataset/Dataset/Twitter/train.csv\", '''df[\"Tweet\"]''', '''(1 * (df[\"Type\"] == \"Quality\"))''')\n",
        "# ]\n",
        "\n",
        "data_configs = [\n",
        "    (\"Youtube\", \"youtube_train.csv\", '''df[\"CONTENT\"]''', '''df[\"CLASS\"]'''),\n",
        "    (\"SMS\", \"https://raw.githubusercontent.com/animesharma3/SPAM-SMS-Detection/master/spam_sms_collection.csv\", '''df[\"msg\"]''', '''df[\"spam\"]'''),\n",
        "    (\"Email\", \"email_spam.csv\", '''df[\"text\"]''', '''(1 * (df[\"label_num\"] == 1))'''),\n",
        "    (\"Twitter\", \"train.csv\", '''df[\"Tweet\"]''', '''(1 * (df[\"Type\"] == \"Spam\"))''')\n",
        "]\n",
        "\n",
        "data_frames = {}\n",
        "\n",
        "for config in data_configs:\n",
        "    src, path, msg, spam = config\n",
        "    df = pd.read_csv(path)\n",
        "    df['msg'] = eval(msg)\n",
        "    df['spam'] = eval(spam)\n",
        "    df = df[['msg', 'spam']]\n",
        "    data_frames[src] = df"
      ],
      "metadata": {
        "execution": {
          "iopub.status.busy": "2022-05-04T07:43:16.912775Z",
          "iopub.execute_input": "2022-05-04T07:43:16.913118Z",
          "iopub.status.idle": "2022-05-04T07:43:17.444348Z",
          "shell.execute_reply.started": "2022-05-04T07:43:16.913075Z",
          "shell.execute_reply": "2022-05-04T07:43:17.443618Z"
        },
        "trusted": true,
        "id": "EpIzQMykOaWV"
      },
      "execution_count": 5,
      "outputs": []
    },
    {
      "cell_type": "code",
      "source": [
        "# Youtube Data\n",
        "data_frames[\"Youtube\"].head()"
      ],
      "metadata": {
        "execution": {
          "iopub.status.busy": "2022-05-04T07:43:17.445493Z",
          "iopub.execute_input": "2022-05-04T07:43:17.445764Z",
          "iopub.status.idle": "2022-05-04T07:43:17.461204Z",
          "shell.execute_reply.started": "2022-05-04T07:43:17.445729Z",
          "shell.execute_reply": "2022-05-04T07:43:17.459762Z"
        },
        "trusted": true,
        "colab": {
          "base_uri": "https://localhost:8080/",
          "height": 206
        },
        "id": "5LZynbaiOaWV",
        "outputId": "e915aeb6-481a-4f0c-b9bb-a6378c8ad7de"
      },
      "execution_count": 6,
      "outputs": [
        {
          "output_type": "execute_result",
          "data": {
            "text/plain": [
              "                                                 msg  spam\n",
              "0  Huh, anyway check out this you[tube] channel: ...     1\n",
              "1  Hey guys check out my new channel and our firs...     1\n",
              "2             just for test I have to say murdev.com     1\n",
              "3   me shaking my sexy ass on my channel enjoy ^_^ ﻿     1\n",
              "4            watch?v=vtaRGgvGtWQ   Check this out .﻿     1"
            ],
            "text/html": [
              "\n",
              "  <div id=\"df-80c34643-773b-4bf2-a8ed-167bc1d77d12\">\n",
              "    <div class=\"colab-df-container\">\n",
              "      <div>\n",
              "<style scoped>\n",
              "    .dataframe tbody tr th:only-of-type {\n",
              "        vertical-align: middle;\n",
              "    }\n",
              "\n",
              "    .dataframe tbody tr th {\n",
              "        vertical-align: top;\n",
              "    }\n",
              "\n",
              "    .dataframe thead th {\n",
              "        text-align: right;\n",
              "    }\n",
              "</style>\n",
              "<table border=\"1\" class=\"dataframe\">\n",
              "  <thead>\n",
              "    <tr style=\"text-align: right;\">\n",
              "      <th></th>\n",
              "      <th>msg</th>\n",
              "      <th>spam</th>\n",
              "    </tr>\n",
              "  </thead>\n",
              "  <tbody>\n",
              "    <tr>\n",
              "      <th>0</th>\n",
              "      <td>Huh, anyway check out this you[tube] channel: ...</td>\n",
              "      <td>1</td>\n",
              "    </tr>\n",
              "    <tr>\n",
              "      <th>1</th>\n",
              "      <td>Hey guys check out my new channel and our firs...</td>\n",
              "      <td>1</td>\n",
              "    </tr>\n",
              "    <tr>\n",
              "      <th>2</th>\n",
              "      <td>just for test I have to say murdev.com</td>\n",
              "      <td>1</td>\n",
              "    </tr>\n",
              "    <tr>\n",
              "      <th>3</th>\n",
              "      <td>me shaking my sexy ass on my channel enjoy ^_^ ﻿</td>\n",
              "      <td>1</td>\n",
              "    </tr>\n",
              "    <tr>\n",
              "      <th>4</th>\n",
              "      <td>watch?v=vtaRGgvGtWQ   Check this out .﻿</td>\n",
              "      <td>1</td>\n",
              "    </tr>\n",
              "  </tbody>\n",
              "</table>\n",
              "</div>\n",
              "      <button class=\"colab-df-convert\" onclick=\"convertToInteractive('df-80c34643-773b-4bf2-a8ed-167bc1d77d12')\"\n",
              "              title=\"Convert this dataframe to an interactive table.\"\n",
              "              style=\"display:none;\">\n",
              "        \n",
              "  <svg xmlns=\"http://www.w3.org/2000/svg\" height=\"24px\"viewBox=\"0 0 24 24\"\n",
              "       width=\"24px\">\n",
              "    <path d=\"M0 0h24v24H0V0z\" fill=\"none\"/>\n",
              "    <path d=\"M18.56 5.44l.94 2.06.94-2.06 2.06-.94-2.06-.94-.94-2.06-.94 2.06-2.06.94zm-11 1L8.5 8.5l.94-2.06 2.06-.94-2.06-.94L8.5 2.5l-.94 2.06-2.06.94zm10 10l.94 2.06.94-2.06 2.06-.94-2.06-.94-.94-2.06-.94 2.06-2.06.94z\"/><path d=\"M17.41 7.96l-1.37-1.37c-.4-.4-.92-.59-1.43-.59-.52 0-1.04.2-1.43.59L10.3 9.45l-7.72 7.72c-.78.78-.78 2.05 0 2.83L4 21.41c.39.39.9.59 1.41.59.51 0 1.02-.2 1.41-.59l7.78-7.78 2.81-2.81c.8-.78.8-2.07 0-2.86zM5.41 20L4 18.59l7.72-7.72 1.47 1.35L5.41 20z\"/>\n",
              "  </svg>\n",
              "      </button>\n",
              "      \n",
              "  <style>\n",
              "    .colab-df-container {\n",
              "      display:flex;\n",
              "      flex-wrap:wrap;\n",
              "      gap: 12px;\n",
              "    }\n",
              "\n",
              "    .colab-df-convert {\n",
              "      background-color: #E8F0FE;\n",
              "      border: none;\n",
              "      border-radius: 50%;\n",
              "      cursor: pointer;\n",
              "      display: none;\n",
              "      fill: #1967D2;\n",
              "      height: 32px;\n",
              "      padding: 0 0 0 0;\n",
              "      width: 32px;\n",
              "    }\n",
              "\n",
              "    .colab-df-convert:hover {\n",
              "      background-color: #E2EBFA;\n",
              "      box-shadow: 0px 1px 2px rgba(60, 64, 67, 0.3), 0px 1px 3px 1px rgba(60, 64, 67, 0.15);\n",
              "      fill: #174EA6;\n",
              "    }\n",
              "\n",
              "    [theme=dark] .colab-df-convert {\n",
              "      background-color: #3B4455;\n",
              "      fill: #D2E3FC;\n",
              "    }\n",
              "\n",
              "    [theme=dark] .colab-df-convert:hover {\n",
              "      background-color: #434B5C;\n",
              "      box-shadow: 0px 1px 3px 1px rgba(0, 0, 0, 0.15);\n",
              "      filter: drop-shadow(0px 1px 2px rgba(0, 0, 0, 0.3));\n",
              "      fill: #FFFFFF;\n",
              "    }\n",
              "  </style>\n",
              "\n",
              "      <script>\n",
              "        const buttonEl =\n",
              "          document.querySelector('#df-80c34643-773b-4bf2-a8ed-167bc1d77d12 button.colab-df-convert');\n",
              "        buttonEl.style.display =\n",
              "          google.colab.kernel.accessAllowed ? 'block' : 'none';\n",
              "\n",
              "        async function convertToInteractive(key) {\n",
              "          const element = document.querySelector('#df-80c34643-773b-4bf2-a8ed-167bc1d77d12');\n",
              "          const dataTable =\n",
              "            await google.colab.kernel.invokeFunction('convertToInteractive',\n",
              "                                                     [key], {});\n",
              "          if (!dataTable) return;\n",
              "\n",
              "          const docLinkHtml = 'Like what you see? Visit the ' +\n",
              "            '<a target=\"_blank\" href=https://colab.research.google.com/notebooks/data_table.ipynb>data table notebook</a>'\n",
              "            + ' to learn more about interactive tables.';\n",
              "          element.innerHTML = '';\n",
              "          dataTable['output_type'] = 'display_data';\n",
              "          await google.colab.output.renderOutput(dataTable, element);\n",
              "          const docLink = document.createElement('div');\n",
              "          docLink.innerHTML = docLinkHtml;\n",
              "          element.appendChild(docLink);\n",
              "        }\n",
              "      </script>\n",
              "    </div>\n",
              "  </div>\n",
              "  "
            ]
          },
          "metadata": {},
          "execution_count": 6
        }
      ]
    },
    {
      "cell_type": "code",
      "source": [
        "# Twitter Data\n",
        "data_frames[\"Twitter\"].loc[1]"
      ],
      "metadata": {
        "execution": {
          "iopub.status.busy": "2022-05-04T07:43:17.462491Z",
          "iopub.execute_input": "2022-05-04T07:43:17.462778Z",
          "iopub.status.idle": "2022-05-04T07:43:17.470484Z",
          "shell.execute_reply.started": "2022-05-04T07:43:17.462742Z",
          "shell.execute_reply": "2022-05-04T07:43:17.469619Z"
        },
        "trusted": true,
        "colab": {
          "base_uri": "https://localhost:8080/"
        },
        "id": "0MyA8P43OaWV",
        "outputId": "0f82dca3-543c-4df3-d622-cd919047aac0"
      },
      "execution_count": 7,
      "outputs": [
        {
          "output_type": "execute_result",
          "data": {
            "text/plain": [
              "msg     Eren sent a glare towards Mikasa then nodded a...\n",
              "spam                                                    0\n",
              "Name: 1, dtype: object"
            ]
          },
          "metadata": {},
          "execution_count": 7
        }
      ]
    },
    {
      "cell_type": "code",
      "source": [
        "# SMS Data\n",
        "data_frames[\"SMS\"].head()"
      ],
      "metadata": {
        "execution": {
          "iopub.status.busy": "2022-05-04T07:43:17.471746Z",
          "iopub.execute_input": "2022-05-04T07:43:17.472694Z",
          "iopub.status.idle": "2022-05-04T07:43:17.483597Z",
          "shell.execute_reply.started": "2022-05-04T07:43:17.472657Z",
          "shell.execute_reply": "2022-05-04T07:43:17.482709Z"
        },
        "trusted": true,
        "colab": {
          "base_uri": "https://localhost:8080/",
          "height": 206
        },
        "id": "BS_OhVA_OaWW",
        "outputId": "dbc10be4-51f7-4e49-c1d6-c6df6a248e8c"
      },
      "execution_count": 8,
      "outputs": [
        {
          "output_type": "execute_result",
          "data": {
            "text/plain": [
              "                                                 msg  spam\n",
              "0  go jurong point crazy available bugis n great ...     0\n",
              "1                            ok lar joking wif u oni     0\n",
              "2  free entry wkly comp win fa cup final tkts st ...     1\n",
              "3                u dun say early hor u c already say     0\n",
              "4                nah think go usf life around though     0"
            ],
            "text/html": [
              "\n",
              "  <div id=\"df-b7c368b4-d92f-4648-83e8-485eb3939069\">\n",
              "    <div class=\"colab-df-container\">\n",
              "      <div>\n",
              "<style scoped>\n",
              "    .dataframe tbody tr th:only-of-type {\n",
              "        vertical-align: middle;\n",
              "    }\n",
              "\n",
              "    .dataframe tbody tr th {\n",
              "        vertical-align: top;\n",
              "    }\n",
              "\n",
              "    .dataframe thead th {\n",
              "        text-align: right;\n",
              "    }\n",
              "</style>\n",
              "<table border=\"1\" class=\"dataframe\">\n",
              "  <thead>\n",
              "    <tr style=\"text-align: right;\">\n",
              "      <th></th>\n",
              "      <th>msg</th>\n",
              "      <th>spam</th>\n",
              "    </tr>\n",
              "  </thead>\n",
              "  <tbody>\n",
              "    <tr>\n",
              "      <th>0</th>\n",
              "      <td>go jurong point crazy available bugis n great ...</td>\n",
              "      <td>0</td>\n",
              "    </tr>\n",
              "    <tr>\n",
              "      <th>1</th>\n",
              "      <td>ok lar joking wif u oni</td>\n",
              "      <td>0</td>\n",
              "    </tr>\n",
              "    <tr>\n",
              "      <th>2</th>\n",
              "      <td>free entry wkly comp win fa cup final tkts st ...</td>\n",
              "      <td>1</td>\n",
              "    </tr>\n",
              "    <tr>\n",
              "      <th>3</th>\n",
              "      <td>u dun say early hor u c already say</td>\n",
              "      <td>0</td>\n",
              "    </tr>\n",
              "    <tr>\n",
              "      <th>4</th>\n",
              "      <td>nah think go usf life around though</td>\n",
              "      <td>0</td>\n",
              "    </tr>\n",
              "  </tbody>\n",
              "</table>\n",
              "</div>\n",
              "      <button class=\"colab-df-convert\" onclick=\"convertToInteractive('df-b7c368b4-d92f-4648-83e8-485eb3939069')\"\n",
              "              title=\"Convert this dataframe to an interactive table.\"\n",
              "              style=\"display:none;\">\n",
              "        \n",
              "  <svg xmlns=\"http://www.w3.org/2000/svg\" height=\"24px\"viewBox=\"0 0 24 24\"\n",
              "       width=\"24px\">\n",
              "    <path d=\"M0 0h24v24H0V0z\" fill=\"none\"/>\n",
              "    <path d=\"M18.56 5.44l.94 2.06.94-2.06 2.06-.94-2.06-.94-.94-2.06-.94 2.06-2.06.94zm-11 1L8.5 8.5l.94-2.06 2.06-.94-2.06-.94L8.5 2.5l-.94 2.06-2.06.94zm10 10l.94 2.06.94-2.06 2.06-.94-2.06-.94-.94-2.06-.94 2.06-2.06.94z\"/><path d=\"M17.41 7.96l-1.37-1.37c-.4-.4-.92-.59-1.43-.59-.52 0-1.04.2-1.43.59L10.3 9.45l-7.72 7.72c-.78.78-.78 2.05 0 2.83L4 21.41c.39.39.9.59 1.41.59.51 0 1.02-.2 1.41-.59l7.78-7.78 2.81-2.81c.8-.78.8-2.07 0-2.86zM5.41 20L4 18.59l7.72-7.72 1.47 1.35L5.41 20z\"/>\n",
              "  </svg>\n",
              "      </button>\n",
              "      \n",
              "  <style>\n",
              "    .colab-df-container {\n",
              "      display:flex;\n",
              "      flex-wrap:wrap;\n",
              "      gap: 12px;\n",
              "    }\n",
              "\n",
              "    .colab-df-convert {\n",
              "      background-color: #E8F0FE;\n",
              "      border: none;\n",
              "      border-radius: 50%;\n",
              "      cursor: pointer;\n",
              "      display: none;\n",
              "      fill: #1967D2;\n",
              "      height: 32px;\n",
              "      padding: 0 0 0 0;\n",
              "      width: 32px;\n",
              "    }\n",
              "\n",
              "    .colab-df-convert:hover {\n",
              "      background-color: #E2EBFA;\n",
              "      box-shadow: 0px 1px 2px rgba(60, 64, 67, 0.3), 0px 1px 3px 1px rgba(60, 64, 67, 0.15);\n",
              "      fill: #174EA6;\n",
              "    }\n",
              "\n",
              "    [theme=dark] .colab-df-convert {\n",
              "      background-color: #3B4455;\n",
              "      fill: #D2E3FC;\n",
              "    }\n",
              "\n",
              "    [theme=dark] .colab-df-convert:hover {\n",
              "      background-color: #434B5C;\n",
              "      box-shadow: 0px 1px 3px 1px rgba(0, 0, 0, 0.15);\n",
              "      filter: drop-shadow(0px 1px 2px rgba(0, 0, 0, 0.3));\n",
              "      fill: #FFFFFF;\n",
              "    }\n",
              "  </style>\n",
              "\n",
              "      <script>\n",
              "        const buttonEl =\n",
              "          document.querySelector('#df-b7c368b4-d92f-4648-83e8-485eb3939069 button.colab-df-convert');\n",
              "        buttonEl.style.display =\n",
              "          google.colab.kernel.accessAllowed ? 'block' : 'none';\n",
              "\n",
              "        async function convertToInteractive(key) {\n",
              "          const element = document.querySelector('#df-b7c368b4-d92f-4648-83e8-485eb3939069');\n",
              "          const dataTable =\n",
              "            await google.colab.kernel.invokeFunction('convertToInteractive',\n",
              "                                                     [key], {});\n",
              "          if (!dataTable) return;\n",
              "\n",
              "          const docLinkHtml = 'Like what you see? Visit the ' +\n",
              "            '<a target=\"_blank\" href=https://colab.research.google.com/notebooks/data_table.ipynb>data table notebook</a>'\n",
              "            + ' to learn more about interactive tables.';\n",
              "          element.innerHTML = '';\n",
              "          dataTable['output_type'] = 'display_data';\n",
              "          await google.colab.output.renderOutput(dataTable, element);\n",
              "          const docLink = document.createElement('div');\n",
              "          docLink.innerHTML = docLinkHtml;\n",
              "          element.appendChild(docLink);\n",
              "        }\n",
              "      </script>\n",
              "    </div>\n",
              "  </div>\n",
              "  "
            ]
          },
          "metadata": {},
          "execution_count": 8
        }
      ]
    },
    {
      "cell_type": "code",
      "source": [
        "# Email Data\n",
        "data_frames[\"Email\"].head()"
      ],
      "metadata": {
        "execution": {
          "iopub.status.busy": "2022-05-04T07:43:17.485426Z",
          "iopub.execute_input": "2022-05-04T07:43:17.485906Z",
          "iopub.status.idle": "2022-05-04T07:43:17.494856Z",
          "shell.execute_reply.started": "2022-05-04T07:43:17.485870Z",
          "shell.execute_reply": "2022-05-04T07:43:17.493972Z"
        },
        "trusted": true,
        "colab": {
          "base_uri": "https://localhost:8080/",
          "height": 206
        },
        "id": "UWb_Ruf6OaWW",
        "outputId": "9b3c1a55-8966-479e-eb12-d0be6d3e5c4d"
      },
      "execution_count": 9,
      "outputs": [
        {
          "output_type": "execute_result",
          "data": {
            "text/plain": [
              "                                                 msg  spam\n",
              "0  Subject: enron methanol ; meter # : 988291\\r\\n...     0\n",
              "1  Subject: hpl nom for january 9 , 2001\\r\\n( see...     0\n",
              "2  Subject: neon retreat\\r\\nho ho ho , we ' re ar...     0\n",
              "3  Subject: photoshop , windows , office . cheap ...     1\n",
              "4  Subject: re : indian springs\\r\\nthis deal is t...     0"
            ],
            "text/html": [
              "\n",
              "  <div id=\"df-732d029c-a064-4f1d-9c22-72b96ff45891\">\n",
              "    <div class=\"colab-df-container\">\n",
              "      <div>\n",
              "<style scoped>\n",
              "    .dataframe tbody tr th:only-of-type {\n",
              "        vertical-align: middle;\n",
              "    }\n",
              "\n",
              "    .dataframe tbody tr th {\n",
              "        vertical-align: top;\n",
              "    }\n",
              "\n",
              "    .dataframe thead th {\n",
              "        text-align: right;\n",
              "    }\n",
              "</style>\n",
              "<table border=\"1\" class=\"dataframe\">\n",
              "  <thead>\n",
              "    <tr style=\"text-align: right;\">\n",
              "      <th></th>\n",
              "      <th>msg</th>\n",
              "      <th>spam</th>\n",
              "    </tr>\n",
              "  </thead>\n",
              "  <tbody>\n",
              "    <tr>\n",
              "      <th>0</th>\n",
              "      <td>Subject: enron methanol ; meter # : 988291\\r\\n...</td>\n",
              "      <td>0</td>\n",
              "    </tr>\n",
              "    <tr>\n",
              "      <th>1</th>\n",
              "      <td>Subject: hpl nom for january 9 , 2001\\r\\n( see...</td>\n",
              "      <td>0</td>\n",
              "    </tr>\n",
              "    <tr>\n",
              "      <th>2</th>\n",
              "      <td>Subject: neon retreat\\r\\nho ho ho , we ' re ar...</td>\n",
              "      <td>0</td>\n",
              "    </tr>\n",
              "    <tr>\n",
              "      <th>3</th>\n",
              "      <td>Subject: photoshop , windows , office . cheap ...</td>\n",
              "      <td>1</td>\n",
              "    </tr>\n",
              "    <tr>\n",
              "      <th>4</th>\n",
              "      <td>Subject: re : indian springs\\r\\nthis deal is t...</td>\n",
              "      <td>0</td>\n",
              "    </tr>\n",
              "  </tbody>\n",
              "</table>\n",
              "</div>\n",
              "      <button class=\"colab-df-convert\" onclick=\"convertToInteractive('df-732d029c-a064-4f1d-9c22-72b96ff45891')\"\n",
              "              title=\"Convert this dataframe to an interactive table.\"\n",
              "              style=\"display:none;\">\n",
              "        \n",
              "  <svg xmlns=\"http://www.w3.org/2000/svg\" height=\"24px\"viewBox=\"0 0 24 24\"\n",
              "       width=\"24px\">\n",
              "    <path d=\"M0 0h24v24H0V0z\" fill=\"none\"/>\n",
              "    <path d=\"M18.56 5.44l.94 2.06.94-2.06 2.06-.94-2.06-.94-.94-2.06-.94 2.06-2.06.94zm-11 1L8.5 8.5l.94-2.06 2.06-.94-2.06-.94L8.5 2.5l-.94 2.06-2.06.94zm10 10l.94 2.06.94-2.06 2.06-.94-2.06-.94-.94-2.06-.94 2.06-2.06.94z\"/><path d=\"M17.41 7.96l-1.37-1.37c-.4-.4-.92-.59-1.43-.59-.52 0-1.04.2-1.43.59L10.3 9.45l-7.72 7.72c-.78.78-.78 2.05 0 2.83L4 21.41c.39.39.9.59 1.41.59.51 0 1.02-.2 1.41-.59l7.78-7.78 2.81-2.81c.8-.78.8-2.07 0-2.86zM5.41 20L4 18.59l7.72-7.72 1.47 1.35L5.41 20z\"/>\n",
              "  </svg>\n",
              "      </button>\n",
              "      \n",
              "  <style>\n",
              "    .colab-df-container {\n",
              "      display:flex;\n",
              "      flex-wrap:wrap;\n",
              "      gap: 12px;\n",
              "    }\n",
              "\n",
              "    .colab-df-convert {\n",
              "      background-color: #E8F0FE;\n",
              "      border: none;\n",
              "      border-radius: 50%;\n",
              "      cursor: pointer;\n",
              "      display: none;\n",
              "      fill: #1967D2;\n",
              "      height: 32px;\n",
              "      padding: 0 0 0 0;\n",
              "      width: 32px;\n",
              "    }\n",
              "\n",
              "    .colab-df-convert:hover {\n",
              "      background-color: #E2EBFA;\n",
              "      box-shadow: 0px 1px 2px rgba(60, 64, 67, 0.3), 0px 1px 3px 1px rgba(60, 64, 67, 0.15);\n",
              "      fill: #174EA6;\n",
              "    }\n",
              "\n",
              "    [theme=dark] .colab-df-convert {\n",
              "      background-color: #3B4455;\n",
              "      fill: #D2E3FC;\n",
              "    }\n",
              "\n",
              "    [theme=dark] .colab-df-convert:hover {\n",
              "      background-color: #434B5C;\n",
              "      box-shadow: 0px 1px 3px 1px rgba(0, 0, 0, 0.15);\n",
              "      filter: drop-shadow(0px 1px 2px rgba(0, 0, 0, 0.3));\n",
              "      fill: #FFFFFF;\n",
              "    }\n",
              "  </style>\n",
              "\n",
              "      <script>\n",
              "        const buttonEl =\n",
              "          document.querySelector('#df-732d029c-a064-4f1d-9c22-72b96ff45891 button.colab-df-convert');\n",
              "        buttonEl.style.display =\n",
              "          google.colab.kernel.accessAllowed ? 'block' : 'none';\n",
              "\n",
              "        async function convertToInteractive(key) {\n",
              "          const element = document.querySelector('#df-732d029c-a064-4f1d-9c22-72b96ff45891');\n",
              "          const dataTable =\n",
              "            await google.colab.kernel.invokeFunction('convertToInteractive',\n",
              "                                                     [key], {});\n",
              "          if (!dataTable) return;\n",
              "\n",
              "          const docLinkHtml = 'Like what you see? Visit the ' +\n",
              "            '<a target=\"_blank\" href=https://colab.research.google.com/notebooks/data_table.ipynb>data table notebook</a>'\n",
              "            + ' to learn more about interactive tables.';\n",
              "          element.innerHTML = '';\n",
              "          dataTable['output_type'] = 'display_data';\n",
              "          await google.colab.output.renderOutput(dataTable, element);\n",
              "          const docLink = document.createElement('div');\n",
              "          docLink.innerHTML = docLinkHtml;\n",
              "          element.appendChild(docLink);\n",
              "        }\n",
              "      </script>\n",
              "    </div>\n",
              "  </div>\n",
              "  "
            ]
          },
          "metadata": {},
          "execution_count": 9
        }
      ]
    },
    {
      "cell_type": "code",
      "source": [
        "class SpamDataset(Dataset):\n",
        "    def __init__(self, spam, msgs, tokenizer, max_len):\n",
        "        self.msgs = msgs\n",
        "        self.spam = spam\n",
        "        self.tokenizer = tokenizer\n",
        "        self.max_len = max_len\n",
        "\n",
        "    def __len__(self):\n",
        "        return len(self.msgs)\n",
        "\n",
        "    def __getitem__(self, i):\n",
        "        msg = str(self.msgs[i])\n",
        "        spam = self.spam[i]\n",
        "\n",
        "        encoding = self.tokenizer.encode_plus(\n",
        "            msg, \n",
        "            add_special_tokens=True,\n",
        "            max_length=self.max_len,\n",
        "            truncation=True,\n",
        "            return_token_type_ids=False,\n",
        "            pad_to_max_length=True,\n",
        "            return_attention_mask=True,\n",
        "            return_tensors='pt'\n",
        "        )\n",
        "\n",
        "        return {\n",
        "            'msg': msg,\n",
        "            'input_ids': encoding['input_ids'].flatten(),\n",
        "            'attention_mask': encoding['attention_mask'].flatten(),\n",
        "            'spam': torch.tensor(spam, dtype=torch.long)\n",
        "        }"
      ],
      "metadata": {
        "execution": {
          "iopub.status.busy": "2022-05-04T07:43:17.496161Z",
          "iopub.execute_input": "2022-05-04T07:43:17.496958Z",
          "iopub.status.idle": "2022-05-04T07:43:17.505836Z",
          "shell.execute_reply.started": "2022-05-04T07:43:17.496923Z",
          "shell.execute_reply": "2022-05-04T07:43:17.505075Z"
        },
        "trusted": true,
        "id": "gHNu7hEjOaWW"
      },
      "execution_count": 10,
      "outputs": []
    },
    {
      "cell_type": "code",
      "source": [
        "def create_data_loader(df, tokenizer, max_len, batch_size):\n",
        "    ds = SpamDataset(\n",
        "        spam=df['spam'].to_numpy(),\n",
        "        msgs=df['msg'].to_numpy(),\n",
        "        tokenizer=tokenizer,\n",
        "        max_len=max_len\n",
        "    )\n",
        "\n",
        "    return DataLoader(\n",
        "        ds,\n",
        "        batch_size=batch_size,\n",
        "        num_workers=4\n",
        "    )"
      ],
      "metadata": {
        "execution": {
          "iopub.status.busy": "2022-05-04T07:43:17.508815Z",
          "iopub.execute_input": "2022-05-04T07:43:17.509010Z",
          "iopub.status.idle": "2022-05-04T07:43:17.517424Z",
          "shell.execute_reply.started": "2022-05-04T07:43:17.508988Z",
          "shell.execute_reply": "2022-05-04T07:43:17.516727Z"
        },
        "trusted": true,
        "id": "PkbK0yKcOaWX"
      },
      "execution_count": 11,
      "outputs": []
    },
    {
      "cell_type": "code",
      "source": [
        "# Returns train, test, validation data frames\n",
        "def getDataFrames(source):\n",
        "    df = data_frames[source]\n",
        "    df_train, df_val = tts(\n",
        "        df,\n",
        "        test_size=0.2,\n",
        "        shuffle=True,\n",
        "    )\n",
        "    _, df_test = tts(\n",
        "        df_val,\n",
        "        test_size=0.5,\n",
        "        shuffle=True,\n",
        "    )\n",
        "    return df_train, df_test, df_val"
      ],
      "metadata": {
        "execution": {
          "iopub.status.busy": "2022-05-04T07:43:17.518908Z",
          "iopub.execute_input": "2022-05-04T07:43:17.519413Z",
          "iopub.status.idle": "2022-05-04T07:43:17.526335Z",
          "shell.execute_reply.started": "2022-05-04T07:43:17.519377Z",
          "shell.execute_reply": "2022-05-04T07:43:17.525595Z"
        },
        "trusted": true,
        "id": "3KcuQ2jUOaWX"
      },
      "execution_count": 12,
      "outputs": []
    },
    {
      "cell_type": "code",
      "source": [
        "# Test getDataFrames with Twitter data\n",
        "\n",
        "twitter_train, twitter_test, twitter_val = getDataFrames(\"Twitter\")\n",
        "print(\"twitter_train\", twitter_train.shape)\n",
        "print(\"twitter_test\", twitter_test.shape)\n",
        "print(\"twitter_val\", twitter_val.shape)"
      ],
      "metadata": {
        "execution": {
          "iopub.status.busy": "2022-05-04T07:43:17.527208Z",
          "iopub.execute_input": "2022-05-04T07:43:17.527399Z",
          "iopub.status.idle": "2022-05-04T07:43:17.541866Z",
          "shell.execute_reply.started": "2022-05-04T07:43:17.527359Z",
          "shell.execute_reply": "2022-05-04T07:43:17.541182Z"
        },
        "trusted": true,
        "colab": {
          "base_uri": "https://localhost:8080/"
        },
        "id": "WzRKyXyJOaWX",
        "outputId": "2254587f-44ed-42a7-b0fd-fd0c76f3657a"
      },
      "execution_count": 13,
      "outputs": [
        {
          "output_type": "stream",
          "name": "stdout",
          "text": [
            "twitter_train (9574, 2)\n",
            "twitter_test (1197, 2)\n",
            "twitter_val (2394, 2)\n"
          ]
        }
      ]
    },
    {
      "cell_type": "markdown",
      "source": [
        "# Models"
      ],
      "metadata": {
        "id": "K2d3sDA3OaWX"
      }
    },
    {
      "cell_type": "markdown",
      "source": [
        "### 1. CNN"
      ],
      "metadata": {
        "id": "XiODSouEOaWX"
      }
    },
    {
      "cell_type": "code",
      "source": [
        "class CNN(nn.Module):\n",
        "    def __init__(self, NUM_CLASSES = 2, DIM_EMB = MAX_LEN):\n",
        "        super(CNN, self).__init__()\n",
        "        self.Embedding = self.bert = BertModel.from_pretrained(PRE_TRAINED_MODEL_NAME).get_input_embeddings()\n",
        "        self.conv1d_list = nn.ModuleList([\n",
        "            nn.Conv1d(in_channels=DIM_EMB,\n",
        "                      out_channels=2,\n",
        "                      kernel_size=ks)\n",
        "            for ks in range(2, 5)\n",
        "        ])\n",
        "        self.ReLU = nn.ReLU()\n",
        "        self.MaxPool = nn.MaxPool1d\n",
        "        self.Dropout = nn.Dropout()\n",
        "        self.Linear = nn.Linear(6, NUM_CLASSES)\n",
        "        self.LogSoftmax = nn.LogSoftmax(dim=1)\n",
        "\n",
        "    def forward(self, input_ids, attention_mask):\n",
        "        E = self.Embedding(input_ids)\n",
        "        R = [self.ReLU(conv1d(E)) for conv1d in self.conv1d_list]\n",
        "        M = [self.MaxPool(kernel_size=r.shape[2])(r) for r in R]\n",
        "        C = torch.cat([m.squeeze(dim=2) for m in M], dim = 1)\n",
        "        L = self.Linear(C)\n",
        "        X = self.LogSoftmax(L)\n",
        "        return X"
      ],
      "metadata": {
        "execution": {
          "iopub.status.busy": "2022-05-04T07:43:17.543222Z",
          "iopub.execute_input": "2022-05-04T07:43:17.543527Z",
          "iopub.status.idle": "2022-05-04T07:43:17.552482Z",
          "shell.execute_reply.started": "2022-05-04T07:43:17.543495Z",
          "shell.execute_reply": "2022-05-04T07:43:17.551743Z"
        },
        "trusted": true,
        "id": "exItBao7OaWX"
      },
      "execution_count": 14,
      "outputs": []
    },
    {
      "cell_type": "markdown",
      "source": [
        "### 2. BERT"
      ],
      "metadata": {
        "id": "128Hc-R0OaWX"
      }
    },
    {
      "cell_type": "code",
      "source": [
        "class BERT(nn.Module):\n",
        "    def __init__(self, n_classes):\n",
        "        super(BERT, self).__init__()\n",
        "        self.bert = BertModel.from_pretrained(PRE_TRAINED_MODEL_NAME)\n",
        "        self.drop = nn.Dropout(p=0.3)\n",
        "        self.out = nn.Linear(self.bert.config.hidden_size, n_classes)\n",
        "        \n",
        "    def forward(self, input_ids, attention_mask):\n",
        "        pooled_output = self.bert(\n",
        "            input_ids=input_ids,\n",
        "            attention_mask=attention_mask\n",
        "        )[1]\n",
        "        output = self.drop(pooled_output)\n",
        "        return self.out(output)"
      ],
      "metadata": {
        "execution": {
          "iopub.status.busy": "2022-05-04T07:43:17.554057Z",
          "iopub.execute_input": "2022-05-04T07:43:17.554519Z",
          "iopub.status.idle": "2022-05-04T07:43:17.564211Z",
          "shell.execute_reply.started": "2022-05-04T07:43:17.554487Z",
          "shell.execute_reply": "2022-05-04T07:43:17.563350Z"
        },
        "trusted": true,
        "id": "P9gwM_y3OaWY"
      },
      "execution_count": 15,
      "outputs": []
    },
    {
      "cell_type": "markdown",
      "source": [
        "### 3. biLSTM"
      ],
      "metadata": {
        "id": "pK8QvrkNOaWY"
      }
    },
    {
      "cell_type": "code",
      "source": [
        "class biLSTM(nn.Module):\n",
        "    def __init__(self, h_dim=100, max_len=MAX_LEN, emd_dim=100, lstm_layers=1, dropout_rate=0.2):\n",
        "        super(biLSTM, self).__init__()\n",
        "        self.embeddings = self.bert = BertModel.from_pretrained(\n",
        "            PRE_TRAINED_MODEL_NAME).get_input_embeddings()\n",
        "#         print(self.embeddings)\n",
        "\n",
        "        self.text_len = max_len\n",
        "        self.lstm_layers = lstm_layers\n",
        "        self.h_dim = h_dim\n",
        "        \n",
        "        # self.embedding = nn.Embedding(max_len, max_len, padding_idx=0)\n",
        "        self.lstm = nn.LSTM(input_size=128,\n",
        "                            hidden_size=h_dim,\n",
        "                            num_layers=lstm_layers,\n",
        "                            batch_first=True,\n",
        "                            bidirectional=True)\n",
        "        self.fc = nn.Linear(2 * lstm_layers * h_dim, 2)\n",
        "        self.sigmoid = nn.Sigmoid()\n",
        "\n",
        "    def forward(self, input_ids, attention_mask):\n",
        "        N, L = input_ids.shape\n",
        "        embedding_output = self.embeddings(input_ids)\n",
        "        out, (h, c) = self.lstm(embedding_output)\n",
        "        h = h.permute(1, 0, 2).resize(N, 2 * self.lstm_layers * self.h_dim)\n",
        "\n",
        "        return torch.sigmoid(self.fc(h))"
      ],
      "metadata": {
        "execution": {
          "iopub.status.busy": "2022-05-04T07:43:17.566021Z",
          "iopub.execute_input": "2022-05-04T07:43:17.567975Z",
          "iopub.status.idle": "2022-05-04T07:43:17.577224Z",
          "shell.execute_reply.started": "2022-05-04T07:43:17.567939Z",
          "shell.execute_reply": "2022-05-04T07:43:17.576479Z"
        },
        "trusted": true,
        "id": "agKl9nEAOaWY"
      },
      "execution_count": 16,
      "outputs": []
    },
    {
      "cell_type": "code",
      "source": [
        "# List of Models\n",
        "models = {\n",
        "    \"CNN\": nn.ModuleDict({\n",
        "        \"model\": CNN().to(device),\n",
        "        \"loss_fn\": nn.NLLLoss().to(device)\n",
        "    }),\n",
        "    \"BERT\": nn.ModuleDict({\n",
        "        \"model\": BERT(n_classes=2).to(device),\n",
        "        \"loss_fn\": nn.CrossEntropyLoss().to(device)\n",
        "    }),\n",
        "    \"biLSTM\": nn.ModuleDict({\n",
        "        \"model\": biLSTM(h_dim=100, lstm_layers=2).to(device),\n",
        "        \"loss_fn\": nn.CrossEntropyLoss().to(device)\n",
        "    }),\n",
        "}"
      ],
      "metadata": {
        "execution": {
          "iopub.status.busy": "2022-05-04T07:43:17.578691Z",
          "iopub.execute_input": "2022-05-04T07:43:17.579287Z",
          "iopub.status.idle": "2022-05-04T07:43:27.224819Z",
          "shell.execute_reply.started": "2022-05-04T07:43:17.579248Z",
          "shell.execute_reply": "2022-05-04T07:43:27.224077Z"
        },
        "trusted": true,
        "colab": {
          "base_uri": "https://localhost:8080/"
        },
        "id": "d_1Rorh3OaWY",
        "outputId": "ff7d1d66-1d8b-4475-cb4d-d95325d3e880"
      },
      "execution_count": 17,
      "outputs": [
        {
          "output_type": "stream",
          "name": "stderr",
          "text": [
            "Some weights of the model checkpoint at prajjwal1/bert-tiny were not used when initializing BertModel: ['cls.predictions.transform.dense.weight', 'cls.seq_relationship.weight', 'cls.predictions.decoder.weight', 'cls.predictions.transform.LayerNorm.weight', 'cls.predictions.bias', 'cls.seq_relationship.bias', 'cls.predictions.decoder.bias', 'cls.predictions.transform.dense.bias', 'cls.predictions.transform.LayerNorm.bias']\n",
            "- This IS expected if you are initializing BertModel from the checkpoint of a model trained on another task or with another architecture (e.g. initializing a BertForSequenceClassification model from a BertForPreTraining model).\n",
            "- This IS NOT expected if you are initializing BertModel from the checkpoint of a model that you expect to be exactly identical (initializing a BertForSequenceClassification model from a BertForSequenceClassification model).\n",
            "Some weights of the model checkpoint at prajjwal1/bert-tiny were not used when initializing BertModel: ['cls.predictions.transform.dense.weight', 'cls.seq_relationship.weight', 'cls.predictions.decoder.weight', 'cls.predictions.transform.LayerNorm.weight', 'cls.predictions.bias', 'cls.seq_relationship.bias', 'cls.predictions.decoder.bias', 'cls.predictions.transform.dense.bias', 'cls.predictions.transform.LayerNorm.bias']\n",
            "- This IS expected if you are initializing BertModel from the checkpoint of a model trained on another task or with another architecture (e.g. initializing a BertForSequenceClassification model from a BertForPreTraining model).\n",
            "- This IS NOT expected if you are initializing BertModel from the checkpoint of a model that you expect to be exactly identical (initializing a BertForSequenceClassification model from a BertForSequenceClassification model).\n",
            "Some weights of the model checkpoint at prajjwal1/bert-tiny were not used when initializing BertModel: ['cls.predictions.transform.dense.weight', 'cls.seq_relationship.weight', 'cls.predictions.decoder.weight', 'cls.predictions.transform.LayerNorm.weight', 'cls.predictions.bias', 'cls.seq_relationship.bias', 'cls.predictions.decoder.bias', 'cls.predictions.transform.dense.bias', 'cls.predictions.transform.LayerNorm.bias']\n",
            "- This IS expected if you are initializing BertModel from the checkpoint of a model trained on another task or with another architecture (e.g. initializing a BertForSequenceClassification model from a BertForPreTraining model).\n",
            "- This IS NOT expected if you are initializing BertModel from the checkpoint of a model that you expect to be exactly identical (initializing a BertForSequenceClassification model from a BertForSequenceClassification model).\n"
          ]
        }
      ]
    },
    {
      "cell_type": "markdown",
      "source": [
        "# Training Function"
      ],
      "metadata": {
        "id": "QNBMDSrFOaWY"
      }
    },
    {
      "cell_type": "code",
      "source": [
        "def train(\n",
        "    model,\n",
        "    loss_fn,\n",
        "    optimizer,\n",
        "    scheduler,\n",
        "    device,\n",
        "    data_loader,\n",
        "    n_examples\n",
        "):\n",
        "    model = model.train() # Setting Model in training mode\n",
        "\n",
        "    losses = []\n",
        "    correct_predictions = 0\n",
        "\n",
        "    for d in data_loader:\n",
        "        input_ids = d['input_ids'].to(device)  # [16, 512]\n",
        "        attention_mask = d['attention_mask'].to(device)  # [16, 512]\n",
        "        targets = d['spam'].to(device)  # [16]\n",
        "\n",
        "        # Forward Propogation\n",
        "        outputs = model(\n",
        "            input_ids=input_ids,\n",
        "            attention_mask=attention_mask\n",
        "        ) # [16, 3]\n",
        "\n",
        "        # Calculating Loss\n",
        "        loss = loss_fn(outputs, targets)\n",
        "\n",
        "        _, preds = torch.max(outputs, dim=1)\n",
        "\n",
        "        correct_predictions += torch.sum(preds == targets)\n",
        "        losses.append(loss.item())\n",
        "        \n",
        "        # Backward Propogation\n",
        "        loss.backward()\n",
        "        nn.utils.clip_grad_norm_(model.parameters(), max_norm=1.0) # Clipping Gradient (Exploding Gradient Problem)\n",
        "        optimizer.step()\n",
        "        scheduler.step()\n",
        "        optimizer.zero_grad() # Resetting gradients\n",
        "\n",
        "    train_acc = correct_predictions.double() / n_examples\n",
        "    train_loss = np.mean(losses)\n",
        "    \n",
        "    return train_acc, train_loss"
      ],
      "metadata": {
        "execution": {
          "iopub.status.busy": "2022-05-04T07:43:27.226172Z",
          "iopub.execute_input": "2022-05-04T07:43:27.226423Z",
          "iopub.status.idle": "2022-05-04T07:43:27.235463Z",
          "shell.execute_reply.started": "2022-05-04T07:43:27.226386Z",
          "shell.execute_reply": "2022-05-04T07:43:27.234806Z"
        },
        "trusted": true,
        "id": "hhw1DdvDOaWY"
      },
      "execution_count": 18,
      "outputs": []
    },
    {
      "cell_type": "markdown",
      "source": [
        "# Evaluation Function"
      ],
      "metadata": {
        "id": "DVZdet7rOaWY"
      }
    },
    {
      "cell_type": "code",
      "source": [
        "def evaluate_model(\n",
        "    model,\n",
        "    loss_fn,\n",
        "    device,\n",
        "    data_loader,\n",
        "    n_examples   \n",
        "):\n",
        "    model = model.eval() # Setting Model in evaluation mode\n",
        "\n",
        "    losses = []\n",
        "    correct_predictions = 0\n",
        "    \n",
        "    \n",
        "    all_preds, all_targets = None, None\n",
        "    with torch.no_grad():\n",
        "        for d in data_loader:\n",
        "            input_ids = d['input_ids'].to(device)  # [16, 512]\n",
        "            attention_mask = d['attention_mask'].to(device)  # [16, 512]\n",
        "            targets = d['spam'].to(device)  # [16]\n",
        "\n",
        "            # Forward Propogation\n",
        "            outputs = model(\n",
        "                input_ids=input_ids,\n",
        "                attention_mask=attention_mask\n",
        "            ) # [16, 3]\n",
        "\n",
        "            # Calculating Loss\n",
        "            loss = loss_fn(outputs, targets)\n",
        "\n",
        "            _, preds = torch.max(outputs, dim=1)\n",
        "\n",
        "            correct_predictions += torch.sum(preds == targets)\n",
        "            losses.append(loss.item())\n",
        "            if all_preds is None:\n",
        "                all_preds = preds\n",
        "                all_targets = targets\n",
        "            else:\n",
        "                all_preds = torch.cat((all_preds, preds))\n",
        "                all_targets = torch.cat((all_targets, targets))\n",
        "        \n",
        "    f1 = f1_score(all_targets.cpu(), all_preds.cpu())\n",
        "    train_acc = correct_predictions.double() / n_examples\n",
        "    train_loss = np.mean(losses)\n",
        "\n",
        "    return train_acc, train_loss, f1"
      ],
      "metadata": {
        "execution": {
          "iopub.status.busy": "2022-05-04T07:43:27.236592Z",
          "iopub.execute_input": "2022-05-04T07:43:27.237142Z",
          "iopub.status.idle": "2022-05-04T07:43:27.248010Z",
          "shell.execute_reply.started": "2022-05-04T07:43:27.237107Z",
          "shell.execute_reply": "2022-05-04T07:43:27.247290Z"
        },
        "trusted": true,
        "id": "KykHkYd9OaWY"
      },
      "execution_count": 19,
      "outputs": []
    },
    {
      "cell_type": "code",
      "source": [
        "def run_epochs(p):    \n",
        "    history = defaultdict(list)\n",
        "    best_accuracy = 0\n",
        "    best_f1 = 0\n",
        "\n",
        "    for epoch in range(EPOCHS):\n",
        "        print(f'Epoch {epoch + 1}/{EPOCHS}')\n",
        "        print('-' * 10)\n",
        "        \n",
        "        train_acc, train_loss = train(\n",
        "            p[\"model\"],\n",
        "            p[\"loss_fn\"],\n",
        "            p[\"optimizer\"],\n",
        "            p[\"scheduler\"],\n",
        "            p[\"device\"],\n",
        "            p[\"train_data_loader\"],\n",
        "            len(p[\"df_train\"])\n",
        "        )\n",
        "\n",
        "        print(f'Train loss {train_loss} accuracy {train_acc}')\n",
        "\n",
        "        total_val_acc = 0\n",
        "        total_val_f1 = 0\n",
        "\n",
        "        for k, v in p['val_data_loader'].items():\n",
        "          print(k)\n",
        "          val_acc, val_loss, val_f1 = evaluate_model(\n",
        "              p[\"model\"],\n",
        "              p[\"loss_fn\"],\n",
        "              p[\"device\"],\n",
        "              v,\n",
        "              len(p['df_vals'][k])\n",
        "          )\n",
        "          total_val_acc += val_acc\n",
        "          total_val_f1 += val_f1\n",
        "\n",
        "          print(f'Validation loss {val_loss} accuracy {val_acc} f1 {val_f1}')\n",
        "          print()\n",
        "        avg_val_acc = total_val_acc / len(p['val_data_loader'])\n",
        "        avg_val_f1 = total_val_f1 / len(p['val_data_loader'])\n",
        "\n",
        "        if avg_val_f1 > best_f1:\n",
        "            torch.save(model.state_dict(), f'M_{p[\"modelName\"]}_D_{p[\"data_source\"]}_best_model_state.bin')\n",
        "            best_f1 = avg_val_f1\n",
        "            best_accuracy = avg_val_acc\n",
        "    print(f\"best f1: {avg_val_f1}, accuracy: {best_accuracy}\")\n"
      ],
      "metadata": {
        "execution": {
          "iopub.status.busy": "2022-05-04T07:43:27.250035Z",
          "iopub.execute_input": "2022-05-04T07:43:27.250226Z",
          "iopub.status.idle": "2022-05-04T07:43:27.261065Z",
          "shell.execute_reply.started": "2022-05-04T07:43:27.250204Z",
          "shell.execute_reply": "2022-05-04T07:43:27.260258Z"
        },
        "trusted": true,
        "id": "AEwjqhb3OaWY"
      },
      "execution_count": 20,
      "outputs": []
    },
    {
      "cell_type": "markdown",
      "source": [
        "# Run Models"
      ],
      "metadata": {
        "id": "KuEK2p1JOaWZ"
      }
    },
    {
      "cell_type": "code",
      "source": [
        "test_dls = {} \n",
        "val_dls = {}\n",
        "\n",
        "df_vals = {}\n",
        "df_tests = {}\n",
        "df_combined = pd.DataFrame([], columns=['msg', 'spam'])\n",
        "\n",
        "for data_source in data_frames.keys():\n",
        "  df_train, df_test, df_val = getDataFrames(data_source)\n",
        "  df_combined = pd.concat([df_combined, df_train])\n",
        "  test_data_loader = create_data_loader(df_test, tokenizer, MAX_LEN, BATCH_SIZE)\n",
        "  test_dls[data_source] = test_data_loader\n",
        "  df_tests[data_source] = df_test\n",
        "  \n",
        "  val_data_loader = create_data_loader(df_val, tokenizer, MAX_LEN, BATCH_SIZE)\n",
        "  val_dls[data_source] = val_data_loader\n",
        "  df_vals[data_source] = df_val\n",
        "\n",
        "df_combined['spam'] = df_combined['spam'].astype(int)\n",
        "df_combined = df_combined.reset_index(drop=True)\n",
        "\n",
        "df_train = df_combined\n",
        "train_data_loader = create_data_loader(df_train, tokenizer, MAX_LEN, BATCH_SIZE)"
      ],
      "metadata": {
        "id": "tINl_QLAlHnb"
      },
      "execution_count": 21,
      "outputs": []
    },
    {
      "cell_type": "code",
      "source": [
        "%%time\n",
        "\n",
        "for modelName in models.keys():\n",
        "\n",
        "    print(f\"________ MODEL: {modelName} ________\")\n",
        "    \n",
        "    ### Model Unpacking\n",
        "    m = models[modelName]\n",
        "    model = m[\"model\"]\n",
        "    loss_fn = m[\"loss_fn\"]\n",
        "    # optimizer = AdamW(model.parameters(), lr=2e-3, correct_bias=False)\n",
        "    optimizer = optim.Adam(model.parameters(), lr = 0.001)\n",
        "\n",
        "    print(f\"________ {modelName}________\")\n",
        "\n",
        "        # Total Steps & Scheduler\n",
        "    total_steps = len(train_data_loader) * EPOCHS\n",
        "    scheduler = get_linear_schedule_with_warmup(\n",
        "      optimizer,\n",
        "      num_warmup_steps=0,\n",
        "      num_training_steps=total_steps\n",
        "    )\n",
        "    \n",
        "    # Parameters\n",
        "    params = {\n",
        "        \"modelName\": modelName,\n",
        "        \"data_source\": data_source,\n",
        "        \"model\": model,\n",
        "        \"loss_fn\": loss_fn,\n",
        "        \"optimizer\": optimizer,\n",
        "        \"scheduler\": scheduler,\n",
        "        \"device\": device,\n",
        "        \"train_data_loader\": train_data_loader,\n",
        "        \"val_data_loader\": val_dls,\n",
        "        \"df_train\" :df_train,\n",
        "        \"df_vals\": df_vals,\n",
        "        \"df_tests\": df_tests\n",
        "    }\n",
        "\n",
        "    run_epochs(params)\n",
        "    \n",
        "    # test_acc, _ = evaluate_model(\n",
        "    #     model,\n",
        "    #     loss_fn,\n",
        "    #     device,\n",
        "    #     test_data_loader,\n",
        "    #     len(df_test)\n",
        "    # )\n",
        "    # print(f\"TEST ACCURACY: \\t {test_acc.item()}\")"
      ],
      "metadata": {
        "colab": {
          "base_uri": "https://localhost:8080/"
        },
        "id": "AoPzC01dUz7s",
        "outputId": "217fc66a-2f28-473a-e7fb-9c819c5793f6"
      },
      "execution_count": null,
      "outputs": [
        {
          "output_type": "stream",
          "name": "stdout",
          "text": [
            "Train loss 0.2372853233289529 accuracy 0.9112057168922001\n",
            "Youtube\n",
            "Validation loss 1.0429229950904846 accuracy 0.5280612244897959 f1 0.2570281124497992\n",
            "\n",
            "SMS\n",
            "Validation loss 0.4069904842547008 accuracy 0.8869955156950673 f1 0.5\n",
            "\n",
            "Email\n",
            "Validation loss 0.6431871104698915 accuracy 0.7990338164251207 f1 0.6133828996282528\n",
            "\n",
            "Twitter\n",
            "Validation loss 0.24160426614185174 accuracy 0.9314954051796156 f1 0.9285091543156059\n",
            "\n",
            "Epoch 3/10\n",
            "----------\n"
          ]
        }
      ]
    },
    {
      "cell_type": "code",
      "source": [
        ""
      ],
      "metadata": {
        "id": "U8oGQ3OJRlYK"
      },
      "execution_count": null,
      "outputs": []
    },
    {
      "cell_type": "code",
      "source": [
        ""
      ],
      "metadata": {
        "id": "sH9Qw5ZOOaWZ"
      },
      "execution_count": null,
      "outputs": []
    }
  ]
}