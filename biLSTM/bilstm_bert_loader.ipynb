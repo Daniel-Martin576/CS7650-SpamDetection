{
  "cells": [
    {
      "cell_type": "markdown",
      "metadata": {
        "id": "view-in-github"
      },
      "source": [
        "<a href=\"https://colab.research.google.com/github/animesharma3/Spam-Detector-BERT-Pytorch-Transformers-Hugging-Face-NLP-State-of-the-Art-Model./blob/main/Spam_Detector_%7C_BERT_%7C_Pytorch_%7C_Transformers_%7C_Hugging_Face_%7C_NLP_%7C_State_of_the_Art_Model.ipynb\" target=\"_parent\"><img src=\"https://colab.research.google.com/assets/colab-badge.svg\" alt=\"Open In Colab\"/></a>"
      ]
    },
    {
      "cell_type": "markdown",
      "metadata": {
        "id": "-INlSfgHgBzA"
      },
      "source": [
        "# Installing and Importing Dependencies"
      ]
    },
    {
      "cell_type": "code",
      "execution_count": 1,
      "metadata": {
        "colab": {
          "base_uri": "https://localhost:8080/"
        },
        "id": "Qc5FU0v82Avh",
        "outputId": "891bd767-f619-4b8a-f890-8482f89bb829"
      },
      "outputs": [
        {
          "output_type": "stream",
          "name": "stdout",
          "text": [
            "Requirement already satisfied: transformers in /usr/local/lib/python3.7/dist-packages (4.18.0)\n",
            "Requirement already satisfied: numpy>=1.17 in /usr/local/lib/python3.7/dist-packages (from transformers) (1.21.6)\n",
            "Requirement already satisfied: pyyaml>=5.1 in /usr/local/lib/python3.7/dist-packages (from transformers) (6.0)\n",
            "Requirement already satisfied: tqdm>=4.27 in /usr/local/lib/python3.7/dist-packages (from transformers) (4.64.0)\n",
            "Requirement already satisfied: regex!=2019.12.17 in /usr/local/lib/python3.7/dist-packages (from transformers) (2019.12.20)\n",
            "Requirement already satisfied: requests in /usr/local/lib/python3.7/dist-packages (from transformers) (2.23.0)\n",
            "Requirement already satisfied: huggingface-hub<1.0,>=0.1.0 in /usr/local/lib/python3.7/dist-packages (from transformers) (0.5.1)\n",
            "Requirement already satisfied: filelock in /usr/local/lib/python3.7/dist-packages (from transformers) (3.6.0)\n",
            "Requirement already satisfied: sacremoses in /usr/local/lib/python3.7/dist-packages (from transformers) (0.0.53)\n",
            "Requirement already satisfied: importlib-metadata in /usr/local/lib/python3.7/dist-packages (from transformers) (4.11.3)\n",
            "Requirement already satisfied: tokenizers!=0.11.3,<0.13,>=0.11.1 in /usr/local/lib/python3.7/dist-packages (from transformers) (0.12.1)\n",
            "Requirement already satisfied: packaging>=20.0 in /usr/local/lib/python3.7/dist-packages (from transformers) (21.3)\n",
            "Requirement already satisfied: typing-extensions>=3.7.4.3 in /usr/local/lib/python3.7/dist-packages (from huggingface-hub<1.0,>=0.1.0->transformers) (4.2.0)\n",
            "Requirement already satisfied: pyparsing!=3.0.5,>=2.0.2 in /usr/local/lib/python3.7/dist-packages (from packaging>=20.0->transformers) (3.0.8)\n",
            "Requirement already satisfied: zipp>=0.5 in /usr/local/lib/python3.7/dist-packages (from importlib-metadata->transformers) (3.8.0)\n",
            "Requirement already satisfied: certifi>=2017.4.17 in /usr/local/lib/python3.7/dist-packages (from requests->transformers) (2021.10.8)\n",
            "Requirement already satisfied: urllib3!=1.25.0,!=1.25.1,<1.26,>=1.21.1 in /usr/local/lib/python3.7/dist-packages (from requests->transformers) (1.24.3)\n",
            "Requirement already satisfied: chardet<4,>=3.0.2 in /usr/local/lib/python3.7/dist-packages (from requests->transformers) (3.0.4)\n",
            "Requirement already satisfied: idna<3,>=2.5 in /usr/local/lib/python3.7/dist-packages (from requests->transformers) (2.10)\n",
            "Requirement already satisfied: six in /usr/local/lib/python3.7/dist-packages (from sacremoses->transformers) (1.15.0)\n",
            "Requirement already satisfied: click in /usr/local/lib/python3.7/dist-packages (from sacremoses->transformers) (7.1.2)\n",
            "Requirement already satisfied: joblib in /usr/local/lib/python3.7/dist-packages (from sacremoses->transformers) (1.1.0)\n"
          ]
        }
      ],
      "source": [
        "!pip install transformers"
      ]
    },
    {
      "cell_type": "code",
      "execution_count": 2,
      "metadata": {
        "id": "uBT2n_h2wuRC"
      },
      "outputs": [],
      "source": [
        "import pandas as pd\n",
        "import numpy as np\n",
        "import matplotlib.pyplot as plt\n",
        "import seaborn as sns\n",
        "from collections import defaultdict\n",
        "\n",
        "from sklearn.model_selection import train_test_split as tts\n",
        "from sklearn.metrics import accuracy_score, precision_score, recall_score, roc_auc_score, f1_score, confusion_matrix\n",
        "\n",
        "import torch\n",
        "import torch.nn as nn\n",
        "import torch.optim as optim\n",
        "from torch.utils.data import Dataset, DataLoader\n",
        "\n",
        "from transformers import BertTokenizer, BertModel, AdamW, get_linear_schedule_with_warmup, BertConfig\n",
        "from transformers.models.bert.modeling_bert import BertEmbeddings\n",
        "import warnings\n",
        "from torch.utils.data import random_split\n",
        "warnings.filterwarnings('ignore')\n"
      ]
    },
    {
      "cell_type": "markdown",
      "metadata": {
        "id": "RFGN_FrkgLj2"
      },
      "source": [
        "# Setting Variables"
      ]
    },
    {
      "cell_type": "code",
      "execution_count": 3,
      "metadata": {
        "id": "y9nJO_X24fLB"
      },
      "outputs": [],
      "source": [
        "PRE_TRAINED_MODEL_NAME = 'prajjwal1/bert-tiny'\n",
        "device = 'cuda'\n",
        "tokenizer = BertTokenizer.from_pretrained(PRE_TRAINED_MODEL_NAME)\n",
        "EPOCHS=10\n",
        "MAX_LEN=512\n",
        "BATCH_SIZE=16\n"
      ]
    },
    {
      "cell_type": "markdown",
      "metadata": {
        "id": "ietiWNbYgR-i"
      },
      "source": [
        "# Reading and Preprocessing Data"
      ]
    },
    {
      "cell_type": "code",
      "execution_count": 4,
      "metadata": {
        "id": "iQ6uw08ox3XY"
      },
      "outputs": [],
      "source": [
        "df_sms = pd.read_csv('https://raw.githubusercontent.com/animesharma3/SPAM-SMS-Detection/master/spam_sms_collection.csv')[['msg', 'spam']]\n",
        "\n",
        "df_tweet = pd.read_csv('tweet_train.csv')[['Tweet', 'Type']]\n",
        "df_tweet['msg'] = df_tweet['Tweet']\n",
        "df_tweet['spam'] = (1 * (df_tweet['Type'] == 'Quality'))\n",
        "\n",
        "df_email = pd.read_csv('email_spam.csv')\n",
        "df_email['msg'] = df_email['text']\n",
        "df_email['spam'] = df_email['label_num']\n",
        "\n",
        "df_youtube = pd.read_csv('youtube_train.csv')\n",
        "df_youtube['msg'] = df_youtube['CONTENT']\n",
        "df_youtube['spam'] = df_youtube['CLASS']"
      ]
    },
    {
      "cell_type": "code",
      "source": [
        "train_portion = 0.8\n",
        "dfs = [df_sms, df_tweet, df_email, df_youtube]\n",
        "data_names = ['sms', 'tweet','email','youtube']\n",
        "df_vals = {}\n",
        "df_combined = pd.DataFrame([], columns=['msg', 'spam'])\n",
        "df_tests = {}\n",
        "for i, df in enumerate(dfs):\n",
        "  df_train, df_test = tts(\n",
        "      df,\n",
        "      test_size=0.3,\n",
        "      shuffle=True,\n",
        "  )\n",
        "  df_val, df_test = tts(\n",
        "    df_test,\n",
        "    test_size=0.5,\n",
        "    shuffle=True,\n",
        "  )\n",
        "  df_combined = pd.concat([df_combined, df_train[['msg','spam']]])\n",
        "  df_vals[data_names[i]] = df_val\n",
        "  df_tests[data_names[i]] = df_test\n",
        "\n",
        "df_combined['spam'] = df_combined['spam'].astype(int)"
      ],
      "metadata": {
        "id": "784-HyNRk9tF"
      },
      "execution_count": 5,
      "outputs": []
    },
    {
      "cell_type": "code",
      "source": [
        "df_combined = df_combined.reset_index(drop=True)\n",
        "df_combined['spam']"
      ],
      "metadata": {
        "colab": {
          "base_uri": "https://localhost:8080/"
        },
        "id": "wG4YZMo85X0k",
        "outputId": "fa8a358e-5925-4415-bd4a-be84c41814d9"
      },
      "execution_count": 6,
      "outputs": [
        {
          "output_type": "execute_result",
          "data": {
            "text/plain": [
              "0        0\n",
              "1        1\n",
              "2        0\n",
              "3        0\n",
              "4        0\n",
              "        ..\n",
              "17260    1\n",
              "17261    1\n",
              "17262    1\n",
              "17263    0\n",
              "17264    0\n",
              "Name: spam, Length: 17265, dtype: int64"
            ]
          },
          "metadata": {},
          "execution_count": 6
        }
      ]
    },
    {
      "cell_type": "code",
      "execution_count": 7,
      "metadata": {
        "id": "78kRG9Qkzi3W"
      },
      "outputs": [],
      "source": [
        "class SpamDataset(Dataset):\n",
        "    def __init__(self, spam, msgs, tokenizer, max_len):\n",
        "        self.msgs = msgs\n",
        "        self.spam = spam\n",
        "        self.tokenizer = tokenizer\n",
        "        self.max_len = max_len\n",
        "\n",
        "    def __len__(self):\n",
        "        return len(self.msgs)\n",
        "\n",
        "    def __getitem__(self, i):\n",
        "        msg = str(self.msgs[i])\n",
        "        spam = self.spam[i]\n",
        "\n",
        "        encoding = self.tokenizer.encode_plus(\n",
        "            msg, \n",
        "            add_special_tokens=True,\n",
        "            max_length=self.max_len,\n",
        "            truncation=True,\n",
        "            return_token_type_ids=False,\n",
        "            pad_to_max_length=True,\n",
        "            return_attention_mask=True,\n",
        "            return_tensors='pt'\n",
        "        )\n",
        "\n",
        "        return {\n",
        "            'msg': msg,\n",
        "            'input_ids': encoding['input_ids'].flatten(),\n",
        "            'attention_mask': encoding['attention_mask'].flatten(),\n",
        "            'spam': torch.tensor(spam, dtype=torch.long)\n",
        "        }"
      ]
    },
    {
      "cell_type": "code",
      "execution_count": 8,
      "metadata": {
        "id": "0RK3hJDCzS73"
      },
      "outputs": [],
      "source": [
        "def create_data_loader(df, tokenizer, max_len, batch_size):\n",
        "    ds = SpamDataset(\n",
        "        spam=df['spam'].to_numpy(),\n",
        "        msgs=df['msg'].to_numpy(),\n",
        "        tokenizer=tokenizer,\n",
        "        max_len=max_len\n",
        "    )\n",
        "\n",
        "    return DataLoader(\n",
        "        ds,\n",
        "        batch_size=batch_size,\n",
        "        num_workers=4\n",
        "    )"
      ]
    },
    {
      "cell_type": "code",
      "execution_count": 9,
      "metadata": {
        "id": "VsfQUZPQyPLl"
      },
      "outputs": [],
      "source": [
        "# df_train, df_test = tts(\n",
        "#     df_combined,\n",
        "#     test_size=0.2,\n",
        "#     random_state=42,\n",
        "#     shuffle=True,\n",
        "# )\n",
        "# df_val, _ = tts(\n",
        "#     df,\n",
        "#     test_size=0.5,\n",
        "#     random_state=42,\n",
        "#     shuffle=True,\n",
        "# )\n",
        "# df_train.shape, df_test.shape, df_val.shape\n"
      ]
    },
    {
      "cell_type": "code",
      "execution_count": 10,
      "metadata": {
        "id": "rSd4b1Mx6OR4"
      },
      "outputs": [],
      "source": [
        "train_data_loader = create_data_loader(df_combined, tokenizer, MAX_LEN, BATCH_SIZE)\n",
        "\n",
        "test_data_loader = {}\n",
        "val_data_loader = {}\n",
        "\n",
        "for k, v in df_tests.items():\n",
        "  data_loader = create_data_loader(v, tokenizer, MAX_LEN, BATCH_SIZE)\n",
        "  test_data_loader[k] = data_loader\n",
        "\n",
        "for k, v in df_vals.items():\n",
        "  data_loader = create_data_loader(v, tokenizer, MAX_LEN, BATCH_SIZE)\n",
        "  val_data_loader[k] = data_loader"
      ]
    },
    {
      "cell_type": "code",
      "execution_count": 11,
      "metadata": {
        "colab": {
          "base_uri": "https://localhost:8080/"
        },
        "id": "RXmAJbDr6fVe",
        "outputId": "3d26a8c3-0c43-4653-8973-bccb143fafdd"
      },
      "outputs": [
        {
          "output_type": "execute_result",
          "data": {
            "text/plain": [
              "dict_keys(['msg', 'input_ids', 'attention_mask', 'spam'])"
            ]
          },
          "metadata": {},
          "execution_count": 11
        }
      ],
      "source": [
        "d = next(iter(train_data_loader))\n",
        "d.keys()"
      ]
    },
    {
      "cell_type": "code",
      "execution_count": 12,
      "metadata": {
        "colab": {
          "base_uri": "https://localhost:8080/"
        },
        "id": "awSWUDUd6xoI",
        "outputId": "1c696b22-c6b9-48dd-908b-e044d2fa7f1d"
      },
      "outputs": [
        {
          "output_type": "stream",
          "name": "stdout",
          "text": [
            "torch.Size([16, 512]) torch.Size([16, 512]) torch.Size([16])\n",
            "tensor([[  101,  1057,  5305,  ...,     0,     0,     0],\n",
            "        [  101, 24471,  2183,  ...,     0,     0,     0],\n",
            "        [  101,  2655,  2360,  ...,     0,     0,     0],\n",
            "        ...,\n",
            "        [  101,  3419,  2906,  ...,     0,     0,     0],\n",
            "        [  101, 12074,  3246,  ...,     0,     0,     0],\n",
            "        [  101,  2228,  9092,  ...,     0,     0,     0]])\n"
          ]
        }
      ],
      "source": [
        "print(d['input_ids'].shape, d['attention_mask'].shape, d['spam'].shape)\n",
        "print(d['input_ids'])\n"
      ]
    },
    {
      "cell_type": "markdown",
      "metadata": {
        "id": "HDxtdPbJgY5n"
      },
      "source": [
        "# Model Building"
      ]
    },
    {
      "cell_type": "code",
      "execution_count": 13,
      "metadata": {
        "id": "YXy7V_kJ8g7H"
      },
      "outputs": [],
      "source": [
        "from torch.nn.utils.rnn import pack_padded_sequence, pad_packed_sequence\n",
        "\n",
        "class biLSTM(nn.Module):\n",
        "    def __init__(self, h_dim=100, max_len=MAX_LEN, emd_dim=100, lstm_layers=1, dropout_rate=0.2):\n",
        "        super(biLSTM, self).__init__()\n",
        "        self.embeddings = self.bert = BertModel.from_pretrained(\n",
        "            PRE_TRAINED_MODEL_NAME).get_input_embeddings()\n",
        "        print(self.embeddings)\n",
        "\n",
        "        self.text_len = max_len\n",
        "        self.lstm_layers = lstm_layers\n",
        "        self.h_dim = h_dim\n",
        "        \n",
        "        # self.embedding = nn.Embedding(max_len, max_len, padding_idx=0)\n",
        "        self.lstm = nn.LSTM(input_size=128,\n",
        "                            hidden_size=h_dim,\n",
        "                            num_layers=lstm_layers,\n",
        "                            batch_first=True,\n",
        "                            bidirectional=True)\n",
        "        self.fc = nn.Linear(2 * lstm_layers * h_dim, 2)\n",
        "        self.sigmoid = nn.Sigmoid()\n",
        "\n",
        "    def forward(self, input_ids, attention_mask):\n",
        "        N, L = input_ids.shape\n",
        "        embedding_output = self.embeddings(input_ids)\n",
        "        out, (h, c) = self.lstm(embedding_output)\n",
        "        h = h.permute(1, 0, 2).resize(N, 2 * self.lstm_layers * self.h_dim)\n",
        "\n",
        "        return torch.sigmoid(self.fc(h))\n"
      ]
    },
    {
      "cell_type": "code",
      "execution_count": 14,
      "metadata": {
        "id": "_1uiooAZPru3",
        "colab": {
          "base_uri": "https://localhost:8080/"
        },
        "outputId": "7496ae5e-52c2-456b-d72e-3cbe1eab5170"
      },
      "outputs": [
        {
          "output_type": "stream",
          "name": "stderr",
          "text": [
            "Some weights of the model checkpoint at prajjwal1/bert-tiny were not used when initializing BertModel: ['cls.seq_relationship.bias', 'cls.predictions.bias', 'cls.predictions.decoder.weight', 'cls.predictions.transform.LayerNorm.weight', 'cls.predictions.decoder.bias', 'cls.seq_relationship.weight', 'cls.predictions.transform.LayerNorm.bias', 'cls.predictions.transform.dense.weight', 'cls.predictions.transform.dense.bias']\n",
            "- This IS expected if you are initializing BertModel from the checkpoint of a model trained on another task or with another architecture (e.g. initializing a BertForSequenceClassification model from a BertForPreTraining model).\n",
            "- This IS NOT expected if you are initializing BertModel from the checkpoint of a model that you expect to be exactly identical (initializing a BertForSequenceClassification model from a BertForSequenceClassification model).\n"
          ]
        },
        {
          "output_type": "stream",
          "name": "stdout",
          "text": [
            "Embedding(30522, 128, padding_idx=0)\n"
          ]
        }
      ],
      "source": [
        "model = biLSTM(h_dim=100, lstm_layers=2).to(device)\n"
      ]
    },
    {
      "cell_type": "markdown",
      "metadata": {
        "id": "2IlXMoLageQl"
      },
      "source": [
        "# Loss, Optimizer and Scheduler"
      ]
    },
    {
      "cell_type": "code",
      "execution_count": 15,
      "metadata": {
        "id": "06B3UYiEP2N8"
      },
      "outputs": [],
      "source": [
        "optimizer = AdamW(model.parameters(), lr=2e-3, correct_bias=False)\n",
        "optimizer = optim.Adam(model.parameters(), lr = 0.001)\n",
        "\n",
        "total_steps = len(train_data_loader) * EPOCHS\n",
        "scheduler = get_linear_schedule_with_warmup(\n",
        "  optimizer,\n",
        "  num_warmup_steps=0,\n",
        "  num_training_steps=total_steps\n",
        ")\n",
        "\n",
        "loss_fn = nn.CrossEntropyLoss().to(device)"
      ]
    },
    {
      "cell_type": "code",
      "execution_count": 16,
      "metadata": {
        "id": "Hb7uxa1LUlVO"
      },
      "outputs": [],
      "source": [
        "# input_ids = d['input_ids'].to(device)\n",
        "# attention_mask = d['attention_mask'].to(device)\n",
        "# targets = d['spam'].to(device)\n",
        "\n",
        "# outputs = model(\n",
        "#     input_ids=input_ids,\n",
        "#     attention_mask=attention_mask\n",
        "# )\n",
        "# loss = loss_fn(outputs, targets)\n",
        "# loss"
      ]
    },
    {
      "cell_type": "markdown",
      "metadata": {
        "id": "EHGjC_Wlgphj"
      },
      "source": [
        "# Train Model Function"
      ]
    },
    {
      "cell_type": "code",
      "execution_count": 17,
      "metadata": {
        "id": "7sad0YiJRVjH"
      },
      "outputs": [],
      "source": [
        "def train(\n",
        "    model,\n",
        "    loss_fn,\n",
        "    optimizer,\n",
        "    scheduler,\n",
        "    device,\n",
        "    data_loader,\n",
        "    n_examples\n",
        "):\n",
        "    model = model.train() # Setting Model in training mode\n",
        "\n",
        "    losses = []\n",
        "    correct_predictions = 0\n",
        "\n",
        "    for d in data_loader:\n",
        "        input_ids = d['input_ids'].to(device)  # [16, 512]\n",
        "        attention_mask = d['attention_mask'].to(device)  # [16, 512]\n",
        "        targets = d['spam'].to(device)  # [16]\n",
        "\n",
        "        # Forward Propogation\n",
        "        outputs = model(\n",
        "            input_ids=input_ids,\n",
        "            attention_mask=attention_mask\n",
        "        ) # [16, 3]\n",
        "\n",
        "        # Calculating Loss\n",
        "        loss = loss_fn(outputs, targets)\n",
        "\n",
        "        _, preds = torch.max(outputs, dim=1)\n",
        "\n",
        "        correct_predictions += torch.sum(preds == targets)\n",
        "        losses.append(loss.item())\n",
        "        \n",
        "        # Backward Propogation\n",
        "        loss.backward()\n",
        "        nn.utils.clip_grad_norm_(model.parameters(), max_norm=1.0) # Clipping Gradient (Exploding Gradient Problem)\n",
        "        optimizer.step()\n",
        "        scheduler.step()\n",
        "        optimizer.zero_grad() # Resetting gradients\n",
        "\n",
        "    train_acc = correct_predictions.double() / n_examples\n",
        "    train_loss = np.mean(losses)\n",
        "    \n",
        "    return train_acc, train_loss\n"
      ]
    },
    {
      "cell_type": "markdown",
      "metadata": {
        "id": "rXYnwR0KguQ-"
      },
      "source": [
        "# Validating Model Function"
      ]
    },
    {
      "cell_type": "code",
      "execution_count": 18,
      "metadata": {
        "id": "G9PtqPEFenkA"
      },
      "outputs": [],
      "source": [
        "def evaluate_model(\n",
        "    model,\n",
        "    loss_fn,\n",
        "    device,\n",
        "    data_loader,\n",
        "    n_examples   \n",
        "):\n",
        "    model = model.eval() # Setting Model in evaluation mode\n",
        "\n",
        "    losses = []\n",
        "    correct_predictions = 0\n",
        "\n",
        "    with torch.no_grad():\n",
        "        for d in data_loader:\n",
        "            input_ids = d['input_ids'].to(device)  # [16, 512]\n",
        "            attention_mask = d['attention_mask'].to(device)  # [16, 512]\n",
        "            targets = d['spam'].to(device)  # [16]\n",
        "\n",
        "            # Forward Propogation\n",
        "            outputs = model(\n",
        "                input_ids=input_ids,\n",
        "                attention_mask=attention_mask\n",
        "            ) # [16, 3]\n",
        "\n",
        "            # Calculating Loss\n",
        "            loss = loss_fn(outputs, targets)\n",
        "\n",
        "            _, preds = torch.max(outputs, dim=1)\n",
        "\n",
        "            correct_predictions += torch.sum(preds == targets)\n",
        "            losses.append(loss.item())\n",
        "        \n",
        "    train_acc = correct_predictions.double() / n_examples\n",
        "    train_loss = np.mean(losses)\n",
        "\n",
        "    return train_acc, train_loss\n"
      ]
    },
    {
      "cell_type": "markdown",
      "metadata": {
        "id": "tABNoeFUg1iW"
      },
      "source": [
        "# Training the Model"
      ]
    },
    {
      "cell_type": "code",
      "execution_count": 19,
      "metadata": {
        "colab": {
          "base_uri": "https://localhost:8080/"
        },
        "id": "gN6kZep2aAsY",
        "outputId": "2cad1909-6b38-4a2a-b2df-8565ba0082bd"
      },
      "outputs": [
        {
          "output_type": "stream",
          "name": "stdout",
          "text": [
            "Epoch 1/10\n",
            "----------\n",
            "Train loss 0.626864622892053 accuracy 0.676339415001448\n",
            "sms\n",
            "Validation loss 0.5286443919505713 accuracy 0.784688995215311\n",
            "\n",
            "tweet\n",
            "Validation loss 0.52719119164796 accuracy 0.7532033426183844\n",
            "\n",
            "email\n",
            "Validation loss 0.4678044112361207 accuracy 0.8569587628865979\n",
            "\n",
            "youtube\n",
            "Validation loss 0.4742093447007631 accuracy 0.8361774744027304\n",
            "\n",
            "Epoch 2/10\n",
            "----------\n",
            "Train loss 0.40858914750041786 accuracy 0.9002027222704895\n",
            "sms\n",
            "Validation loss 0.37561730281361994 accuracy 0.94377990430622\n",
            "\n",
            "tweet\n",
            "Validation loss 0.5185471817982935 accuracy 0.7855153203342619\n",
            "\n",
            "email\n",
            "Validation loss 0.3994029225135336 accuracy 0.9110824742268041\n",
            "\n",
            "youtube\n",
            "Validation loss 0.3960668209351991 accuracy 0.9215017064846417\n",
            "\n",
            "Epoch 3/10\n",
            "----------\n",
            "Train loss 0.3570283015569051 accuracy 0.9554590211410368\n",
            "sms\n",
            "Validation loss 0.3631053403863367 accuracy 0.9485645933014354\n",
            "\n",
            "tweet\n",
            "Validation loss 0.5175609973679601 accuracy 0.7905292479108635\n",
            "\n",
            "email\n",
            "Validation loss 0.40024563548516257 accuracy 0.9123711340206185\n",
            "\n",
            "youtube\n",
            "Validation loss 0.39769265839928075 accuracy 0.9112627986348123\n",
            "\n",
            "Epoch 4/10\n",
            "----------\n",
            "Train loss 0.3485948926044835 accuracy 0.9641471184477266\n",
            "sms\n",
            "Validation loss 0.3639537990093231 accuracy 0.9473684210526315\n",
            "\n",
            "tweet\n",
            "Validation loss 0.5123407176110597 accuracy 0.792757660167131\n",
            "\n",
            "email\n",
            "Validation loss 0.38982522730924646 accuracy 0.922680412371134\n",
            "\n",
            "youtube\n",
            "Validation loss 0.38883402629902486 accuracy 0.9249146757679181\n",
            "\n",
            "Epoch 5/10\n",
            "----------\n",
            "Train loss 0.3402506985046245 accuracy 0.9726614538082826\n",
            "sms\n",
            "Validation loss 0.3882584785515407 accuracy 0.9222488038277512\n",
            "\n",
            "tweet\n",
            "Validation loss 0.494938062619319 accuracy 0.8116991643454039\n",
            "\n",
            "email\n",
            "Validation loss 0.3796234635674224 accuracy 0.9329896907216495\n",
            "\n",
            "youtube\n",
            "Validation loss 0.41943385412818507 accuracy 0.9044368600682594\n",
            "\n",
            "Epoch 6/10\n",
            "----------\n",
            "Train loss 0.3363681977269826 accuracy 0.97665797856936\n",
            "sms\n",
            "Validation loss 0.3806275067464361 accuracy 0.9330143540669856\n",
            "\n",
            "tweet\n",
            "Validation loss 0.5075663871469751 accuracy 0.8027855153203343\n",
            "\n",
            "email\n",
            "Validation loss 0.39944023258832034 accuracy 0.913659793814433\n",
            "\n",
            "youtube\n",
            "Validation loss 0.4179290219357139 accuracy 0.89419795221843\n",
            "\n",
            "Epoch 7/10\n",
            "----------\n",
            "Train loss 0.33422777122921415 accuracy 0.9788589632203881\n",
            "sms\n",
            "Validation loss 0.4265455738553461 accuracy 0.8827751196172249\n",
            "\n",
            "tweet\n",
            "Validation loss 0.46763301660529283 accuracy 0.8406685236768803\n",
            "\n",
            "email\n",
            "Validation loss 0.3713548651763371 accuracy 0.9432989690721649\n",
            "\n",
            "youtube\n",
            "Validation loss 0.42655273801402044 accuracy 0.8873720136518771\n",
            "\n",
            "Epoch 8/10\n",
            "----------\n",
            "Train loss 0.33596164266820305 accuracy 0.9771213437590501\n",
            "sms\n",
            "Validation loss 0.3971253324229762 accuracy 0.9102870813397129\n",
            "\n",
            "tweet\n",
            "Validation loss 0.5095391595258122 accuracy 0.8011142061281338\n",
            "\n",
            "email\n",
            "Validation loss 0.4044943853300445 accuracy 0.9085051546391752\n",
            "\n",
            "youtube\n",
            "Validation loss 0.4365871438854619 accuracy 0.8771331058020478\n",
            "\n",
            "Epoch 9/10\n",
            "----------\n",
            "Train loss 0.3401870542930232 accuracy 0.9725456125108601\n",
            "sms\n",
            "Validation loss 0.43311487110155933 accuracy 0.8744019138755981\n",
            "\n",
            "tweet\n",
            "Validation loss 0.490934482717936 accuracy 0.8183844011142062\n",
            "\n",
            "email\n",
            "Validation loss 0.4096217976540935 accuracy 0.9033505154639175\n",
            "\n",
            "youtube\n",
            "Validation loss 0.4453608879917546 accuracy 0.8668941979522184\n",
            "\n",
            "Epoch 10/10\n",
            "----------\n",
            "Train loss 0.3512985440316024 accuracy 0.9612510860121634\n",
            "sms\n",
            "Validation loss 0.6981686353683472 accuracy 0.6064593301435407\n",
            "\n",
            "tweet\n",
            "Validation loss 0.38222538791926564 accuracy 0.9325905292479109\n",
            "\n",
            "email\n",
            "Validation loss 0.36517467608257215 accuracy 0.9497422680412371\n",
            "\n",
            "youtube\n",
            "Validation loss 0.552172916500192 accuracy 0.764505119453925\n",
            "\n",
            "CPU times: user 10min 16s, sys: 15.8 s, total: 10min 31s\n",
            "Wall time: 13min 6s\n"
          ]
        }
      ],
      "source": [
        "%%time\n",
        "\n",
        "\n",
        "history = defaultdict(list)\n",
        "best_accuracy = 0\n",
        "\n",
        "for epoch in range(EPOCHS):\n",
        "    print(f'Epoch {epoch + 1}/{EPOCHS}')\n",
        "    print('-' * 10)\n",
        "\n",
        "    train_acc, train_loss = train(\n",
        "        model,\n",
        "        loss_fn,\n",
        "        optimizer,\n",
        "        scheduler,\n",
        "        device,\n",
        "        train_data_loader,\n",
        "        len(df_combined)\n",
        "    )\n",
        "\n",
        "    print(f'Train loss {train_loss} accuracy {train_acc}')\n",
        "\n",
        "    for k, data_loader in val_data_loader.items():\n",
        "      val_acc, val_loss = evaluate_model(\n",
        "          model,\n",
        "          loss_fn,\n",
        "          device,\n",
        "          data_loader,\n",
        "          len(df_vals[k])\n",
        "      )\n",
        "      print(k)\n",
        "      print(f'Validation loss {val_loss} accuracy {val_acc}')\n",
        "      print()\n",
        "\n",
        "    history['train_acc'].append(train_acc)\n",
        "    history['train_loss'].append(train_loss)\n",
        "    history['val_acc'].append(val_acc)\n",
        "    history['val_loss'].append(val_loss)\n",
        "\n",
        "    if val_acc > best_accuracy:\n",
        "        torch.save(model.state_dict(), 'best_model_state.bin')\n",
        "        best_accuracy = val_acc\n"
      ]
    },
    {
      "cell_type": "markdown",
      "metadata": {
        "id": "o4Yoe_oX40bi"
      },
      "source": [
        "# Evaluating the Model Performance"
      ]
    },
    {
      "cell_type": "code",
      "execution_count": null,
      "metadata": {
        "colab": {
          "base_uri": "https://localhost:8080/"
        },
        "id": "xs-xwmWnv0Zz",
        "outputId": "525c8c3b-7a76-4665-da28-27f1d5c7a123"
      },
      "outputs": [
        {
          "data": {
            "text/plain": [
              "0.9001670843776106"
            ]
          },
          "execution_count": 167,
          "metadata": {},
          "output_type": "execute_result"
        }
      ],
      "source": [
        "test_acc, _ = evaluate_model(\n",
        "    model,\n",
        "    loss_fn,\n",
        "    device,\n",
        "    test_data_loader,\n",
        "    len(df_test)\n",
        ")\n",
        "test_acc.item()"
      ]
    },
    {
      "cell_type": "code",
      "execution_count": null,
      "metadata": {
        "colab": {
          "base_uri": "https://localhost:8080/",
          "height": 475
        },
        "id": "JStEr4A9xI0K",
        "outputId": "f7abd749-5ac4-442b-d2e5-4659dfc2e7aa"
      },
      "outputs": [
        {
          "data": {
            "text/plain": [
              "(0.0, 1.0)"
            ]
          },
          "execution_count": 168,
          "metadata": {},
          "output_type": "execute_result"
        },
        {
          "data": {
            "image/png": "[encoded data removed]",
            "text/plain": [
              "<Figure size 720x504 with 1 Axes>"
            ]
          },
          "metadata": {
            "needs_background": "light"
          },
          "output_type": "display_data"
        }
      ],
      "source": [
        "plt.figure(figsize=(10, 7))\n",
        "plt.plot(history['train_acc'], label='train accuracy')\n",
        "plt.plot(history['val_acc'], label='validation accuracy')\n",
        "\n",
        "plt.title('Training history')\n",
        "plt.ylabel('Accuracy')\n",
        "plt.xlabel('Epoch')\n",
        "plt.legend()\n",
        "plt.ylim([0, 1])"
      ]
    },
    {
      "cell_type": "code",
      "execution_count": null,
      "metadata": {
        "id": "jxfjEVbVzhef"
      },
      "outputs": [],
      "source": [
        "def get_predictions(\n",
        "    model, data_loader\n",
        "):\n",
        "    model = model.eval()\n",
        "\n",
        "    msgs = []\n",
        "    predictions = []\n",
        "    predictions_probs = []\n",
        "    real_values = []\n",
        "\n",
        "    with torch.no_grad():\n",
        "        for d in data_loader:\n",
        "            msg = d['msg']\n",
        "            input_ids = d['input_ids'].to(device)\n",
        "            attention_masks = d['attention_mask'].to(device)\n",
        "            spam = d['spam'].to(device)\n",
        "\n",
        "            outputs = model(\n",
        "                input_ids=input_ids,\n",
        "                attention_mask=attention_masks\n",
        "            )\n",
        "\n",
        "            _, preds = torch.max(outputs, dim=1)\n",
        "\n",
        "            probs = torch.nn.functional.softmax(outputs, dim=1)\n",
        "\n",
        "            msgs.extend(msg)\n",
        "            predictions.extend(preds)\n",
        "            predictions_probs.extend(probs)\n",
        "            real_values.extend(spam)\n",
        "    predictions = torch.stack(predictions).cpu()\n",
        "    predictions_probs = torch.stack(predictions_probs).cpu()\n",
        "    real_values = torch.stack(real_values).cpu()\n",
        "    return msgs, predictions, predictions_probs, real_values"
      ]
    },
    {
      "cell_type": "code",
      "execution_count": null,
      "metadata": {
        "id": "qCxXj-3F258K"
      },
      "outputs": [],
      "source": [
        "y_msgs, y_pred, y_pred_probs, y_test = get_predictions(\n",
        "  model,\n",
        "  test_data_loader\n",
        ")"
      ]
    },
    {
      "cell_type": "markdown",
      "metadata": {
        "id": "5gegGnUJ5tzp"
      },
      "source": [
        "# Creating Final Classification Report"
      ]
    },
    {
      "cell_type": "code",
      "execution_count": null,
      "metadata": {
        "id": "Ck66KbYq3Ggq"
      },
      "outputs": [],
      "source": [
        "def create_classification_report(Y_test, Y_pred):\n",
        "    print('--------Classification Report---------\\n')\n",
        "    accuracy = accuracy_score(Y_test, Y_pred)\n",
        "    f1 = f1_score(Y_test, Y_pred)\n",
        "    precision = precision_score(Y_test, Y_pred)\n",
        "    recall = recall_score(Y_test, Y_pred)\n",
        "    roc_auc = roc_auc_score(Y_test, Y_pred)\n",
        "    metrices = [accuracy, f1, precision, recall, roc_auc]\n",
        "    scores = pd.DataFrame(pd.Series(metrices).values, index=['accuracy', 'f1-score', 'precision', 'recall', 'roc auc score'], columns=['score'])\n",
        "    print(scores)\n",
        "    print('\\n--------Plotting Confusion Matrix---------')\n",
        "    sns.heatmap(confusion_matrix(Y_test, Y_pred), annot=True, cmap='RdYlGn_r', annot_kws={'size': 16})\n",
        "    return scores"
      ]
    },
    {
      "cell_type": "code",
      "execution_count": null,
      "metadata": {
        "colab": {
          "base_uri": "https://localhost:8080/",
          "height": 623
        },
        "id": "fOUdUgGM37r4",
        "outputId": "8143d1a4-0691-4045-b9a7-3e1c2b615cc2"
      },
      "outputs": [
        {
          "name": "stdout",
          "output_type": "stream",
          "text": [
            "--------Classification Report---------\n",
            "\n",
            "                  score\n",
            "accuracy       0.900167\n",
            "f1-score       0.903668\n",
            "precision      0.873733\n",
            "recall         0.935726\n",
            "roc auc score  0.900137\n",
            "\n",
            "--------Plotting Confusion Matrix---------\n"
          ]
        },
        {
          "data": {
            "text/html": [
              "<div>\n",
              "<style scoped>\n",
              "    .dataframe tbody tr th:only-of-type {\n",
              "        vertical-align: middle;\n",
              "    }\n",
              "\n",
              "    .dataframe tbody tr th {\n",
              "        vertical-align: top;\n",
              "    }\n",
              "\n",
              "    .dataframe thead th {\n",
              "        text-align: right;\n",
              "    }\n",
              "</style>\n",
              "<table border=\"1\" class=\"dataframe\">\n",
              "  <thead>\n",
              "    <tr style=\"text-align: right;\">\n",
              "      <th></th>\n",
              "      <th>score</th>\n",
              "    </tr>\n",
              "  </thead>\n",
              "  <tbody>\n",
              "    <tr>\n",
              "      <th>accuracy</th>\n",
              "      <td>0.900167</td>\n",
              "    </tr>\n",
              "    <tr>\n",
              "      <th>f1-score</th>\n",
              "      <td>0.903668</td>\n",
              "    </tr>\n",
              "    <tr>\n",
              "      <th>precision</th>\n",
              "      <td>0.873733</td>\n",
              "    </tr>\n",
              "    <tr>\n",
              "      <th>recall</th>\n",
              "      <td>0.935726</td>\n",
              "    </tr>\n",
              "    <tr>\n",
              "      <th>roc auc score</th>\n",
              "      <td>0.900137</td>\n",
              "    </tr>\n",
              "  </tbody>\n",
              "</table>\n",
              "</div>"
            ],
            "text/plain": [
              "                  score\n",
              "accuracy       0.900167\n",
              "f1-score       0.903668\n",
              "precision      0.873733\n",
              "recall         0.935726\n",
              "roc auc score  0.900137"
            ]
          },
          "execution_count": 172,
          "metadata": {},
          "output_type": "execute_result"
        },
        {
          "data": {
            "image/png": "[encoded data removed]",
            "text/plain": [
              "<Figure size 432x288 with 2 Axes>"
            ]
          },
          "metadata": {
            "needs_background": "light"
          },
          "output_type": "display_data"
        }
      ],
      "source": [
        "create_classification_report(y_test, y_pred)"
      ]
    },
    {
      "cell_type": "code",
      "execution_count": null,
      "metadata": {
        "id": "G_yenye14IKI"
      },
      "outputs": [],
      "source": [
        "torch.save(model, 'bert.pt')\n"
      ]
    }
  ],
  "metadata": {
    "accelerator": "GPU",
    "colab": {
      "name": "bilstm_bert_loader.ipynb",
      "provenance": []
    },
    "kernelspec": {
      "display_name": "Python 3",
      "name": "python3"
    },
    "language_info": {
      "codemirror_mode": {
        "name": "ipython",
        "version": 3
      },
      "file_extension": ".py",
      "mimetype": "text/x-python",
      "name": "python",
      "nbconvert_exporter": "python",
      "pygments_lexer": "ipython3",
      "version": "3.8.10"
    }
  },
  "nbformat": 4,
  "nbformat_minor": 0
}