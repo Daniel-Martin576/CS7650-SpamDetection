{
  "nbformat": 4,
  "nbformat_minor": 0,
  "metadata": {
    "colab": {
      "name": "bilstm_tf.ipynb",
      "provenance": []
    },
    "kernelspec": {
      "name": "python3",
      "display_name": "Python 3"
    },
    "language_info": {
      "name": "python"
    },
    "accelerator": "GPU",
    "widgets": {
      "application/vnd.jupyter.widget-state+json": {
        "9e1fbb2cdaf04a6c83f1a1de8f553994": {
          "model_module": "@jupyter-widgets/controls",
          "model_name": "HBoxModel",
          "model_module_version": "1.5.0",
          "state": {
            "_dom_classes": [],
            "_model_module": "@jupyter-widgets/controls",
            "_model_module_version": "1.5.0",
            "_model_name": "HBoxModel",
            "_view_count": null,
            "_view_module": "@jupyter-widgets/controls",
            "_view_module_version": "1.5.0",
            "_view_name": "HBoxView",
            "box_style": "",
            "children": [
              "IPY_MODEL_144932655d424c81aa06c39e57870964",
              "IPY_MODEL_5102f5cc4c5944678d0478ad7099e9dd",
              "IPY_MODEL_5f23cf21b2b34d4297e1303e04c4d608"
            ],
            "layout": "IPY_MODEL_e1f4c999d5fe4943b117871885768219"
          }
        },
        "144932655d424c81aa06c39e57870964": {
          "model_module": "@jupyter-widgets/controls",
          "model_name": "HTMLModel",
          "model_module_version": "1.5.0",
          "state": {
            "_dom_classes": [],
            "_model_module": "@jupyter-widgets/controls",
            "_model_module_version": "1.5.0",
            "_model_name": "HTMLModel",
            "_view_count": null,
            "_view_module": "@jupyter-widgets/controls",
            "_view_module_version": "1.5.0",
            "_view_name": "HTMLView",
            "description": "",
            "description_tooltip": null,
            "layout": "IPY_MODEL_012d2f4c7bf1480c830d72fea801c7a1",
            "placeholder": "​",
            "style": "IPY_MODEL_879998c20dab49b58f763a5e9e9924ce",
            "value": " 78%"
          }
        },
        "5102f5cc4c5944678d0478ad7099e9dd": {
          "model_module": "@jupyter-widgets/controls",
          "model_name": "FloatProgressModel",
          "model_module_version": "1.5.0",
          "state": {
            "_dom_classes": [],
            "_model_module": "@jupyter-widgets/controls",
            "_model_module_version": "1.5.0",
            "_model_name": "FloatProgressModel",
            "_view_count": null,
            "_view_module": "@jupyter-widgets/controls",
            "_view_module_version": "1.5.0",
            "_view_name": "ProgressView",
            "bar_style": "",
            "description": "",
            "description_tooltip": null,
            "layout": "IPY_MODEL_cc8bdb1db9804fd8be1e4c69d94b882b",
            "max": 957,
            "min": 0,
            "orientation": "horizontal",
            "style": "IPY_MODEL_205658dc783647eb85cf0130c18d5680",
            "value": 743
          }
        },
        "5f23cf21b2b34d4297e1303e04c4d608": {
          "model_module": "@jupyter-widgets/controls",
          "model_name": "HTMLModel",
          "model_module_version": "1.5.0",
          "state": {
            "_dom_classes": [],
            "_model_module": "@jupyter-widgets/controls",
            "_model_module_version": "1.5.0",
            "_model_name": "HTMLModel",
            "_view_count": null,
            "_view_module": "@jupyter-widgets/controls",
            "_view_module_version": "1.5.0",
            "_view_name": "HTMLView",
            "description": "",
            "description_tooltip": null,
            "layout": "IPY_MODEL_e1788f75f22a44dbb8ce067979092712",
            "placeholder": "​",
            "style": "IPY_MODEL_aa83d5fd63864fc4a8345649e16c67cc",
            "value": " 743/957 [01:33&lt;00:27,  7.88it/s]"
          }
        },
        "e1f4c999d5fe4943b117871885768219": {
          "model_module": "@jupyter-widgets/base",
          "model_name": "LayoutModel",
          "model_module_version": "1.2.0",
          "state": {
            "_model_module": "@jupyter-widgets/base",
            "_model_module_version": "1.2.0",
            "_model_name": "LayoutModel",
            "_view_count": null,
            "_view_module": "@jupyter-widgets/base",
            "_view_module_version": "1.2.0",
            "_view_name": "LayoutView",
            "align_content": null,
            "align_items": null,
            "align_self": null,
            "border": null,
            "bottom": null,
            "display": null,
            "flex": null,
            "flex_flow": null,
            "grid_area": null,
            "grid_auto_columns": null,
            "grid_auto_flow": null,
            "grid_auto_rows": null,
            "grid_column": null,
            "grid_gap": null,
            "grid_row": null,
            "grid_template_areas": null,
            "grid_template_columns": null,
            "grid_template_rows": null,
            "height": null,
            "justify_content": null,
            "justify_items": null,
            "left": null,
            "margin": null,
            "max_height": null,
            "max_width": null,
            "min_height": null,
            "min_width": null,
            "object_fit": null,
            "object_position": null,
            "order": null,
            "overflow": null,
            "overflow_x": null,
            "overflow_y": null,
            "padding": null,
            "right": null,
            "top": null,
            "visibility": null,
            "width": null
          }
        },
        "012d2f4c7bf1480c830d72fea801c7a1": {
          "model_module": "@jupyter-widgets/base",
          "model_name": "LayoutModel",
          "model_module_version": "1.2.0",
          "state": {
            "_model_module": "@jupyter-widgets/base",
            "_model_module_version": "1.2.0",
            "_model_name": "LayoutModel",
            "_view_count": null,
            "_view_module": "@jupyter-widgets/base",
            "_view_module_version": "1.2.0",
            "_view_name": "LayoutView",
            "align_content": null,
            "align_items": null,
            "align_self": null,
            "border": null,
            "bottom": null,
            "display": null,
            "flex": null,
            "flex_flow": null,
            "grid_area": null,
            "grid_auto_columns": null,
            "grid_auto_flow": null,
            "grid_auto_rows": null,
            "grid_column": null,
            "grid_gap": null,
            "grid_row": null,
            "grid_template_areas": null,
            "grid_template_columns": null,
            "grid_template_rows": null,
            "height": null,
            "justify_content": null,
            "justify_items": null,
            "left": null,
            "margin": null,
            "max_height": null,
            "max_width": null,
            "min_height": null,
            "min_width": null,
            "object_fit": null,
            "object_position": null,
            "order": null,
            "overflow": null,
            "overflow_x": null,
            "overflow_y": null,
            "padding": null,
            "right": null,
            "top": null,
            "visibility": null,
            "width": null
          }
        },
        "879998c20dab49b58f763a5e9e9924ce": {
          "model_module": "@jupyter-widgets/controls",
          "model_name": "DescriptionStyleModel",
          "model_module_version": "1.5.0",
          "state": {
            "_model_module": "@jupyter-widgets/controls",
            "_model_module_version": "1.5.0",
            "_model_name": "DescriptionStyleModel",
            "_view_count": null,
            "_view_module": "@jupyter-widgets/base",
            "_view_module_version": "1.2.0",
            "_view_name": "StyleView",
            "description_width": ""
          }
        },
        "cc8bdb1db9804fd8be1e4c69d94b882b": {
          "model_module": "@jupyter-widgets/base",
          "model_name": "LayoutModel",
          "model_module_version": "1.2.0",
          "state": {
            "_model_module": "@jupyter-widgets/base",
            "_model_module_version": "1.2.0",
            "_model_name": "LayoutModel",
            "_view_count": null,
            "_view_module": "@jupyter-widgets/base",
            "_view_module_version": "1.2.0",
            "_view_name": "LayoutView",
            "align_content": null,
            "align_items": null,
            "align_self": null,
            "border": null,
            "bottom": null,
            "display": null,
            "flex": null,
            "flex_flow": null,
            "grid_area": null,
            "grid_auto_columns": null,
            "grid_auto_flow": null,
            "grid_auto_rows": null,
            "grid_column": null,
            "grid_gap": null,
            "grid_row": null,
            "grid_template_areas": null,
            "grid_template_columns": null,
            "grid_template_rows": null,
            "height": null,
            "justify_content": null,
            "justify_items": null,
            "left": null,
            "margin": null,
            "max_height": null,
            "max_width": null,
            "min_height": null,
            "min_width": null,
            "object_fit": null,
            "object_position": null,
            "order": null,
            "overflow": null,
            "overflow_x": null,
            "overflow_y": null,
            "padding": null,
            "right": null,
            "top": null,
            "visibility": null,
            "width": null
          }
        },
        "205658dc783647eb85cf0130c18d5680": {
          "model_module": "@jupyter-widgets/controls",
          "model_name": "ProgressStyleModel",
          "model_module_version": "1.5.0",
          "state": {
            "_model_module": "@jupyter-widgets/controls",
            "_model_module_version": "1.5.0",
            "_model_name": "ProgressStyleModel",
            "_view_count": null,
            "_view_module": "@jupyter-widgets/base",
            "_view_module_version": "1.2.0",
            "_view_name": "StyleView",
            "bar_color": null,
            "description_width": ""
          }
        },
        "e1788f75f22a44dbb8ce067979092712": {
          "model_module": "@jupyter-widgets/base",
          "model_name": "LayoutModel",
          "model_module_version": "1.2.0",
          "state": {
            "_model_module": "@jupyter-widgets/base",
            "_model_module_version": "1.2.0",
            "_model_name": "LayoutModel",
            "_view_count": null,
            "_view_module": "@jupyter-widgets/base",
            "_view_module_version": "1.2.0",
            "_view_name": "LayoutView",
            "align_content": null,
            "align_items": null,
            "align_self": null,
            "border": null,
            "bottom": null,
            "display": null,
            "flex": null,
            "flex_flow": null,
            "grid_area": null,
            "grid_auto_columns": null,
            "grid_auto_flow": null,
            "grid_auto_rows": null,
            "grid_column": null,
            "grid_gap": null,
            "grid_row": null,
            "grid_template_areas": null,
            "grid_template_columns": null,
            "grid_template_rows": null,
            "height": null,
            "justify_content": null,
            "justify_items": null,
            "left": null,
            "margin": null,
            "max_height": null,
            "max_width": null,
            "min_height": null,
            "min_width": null,
            "object_fit": null,
            "object_position": null,
            "order": null,
            "overflow": null,
            "overflow_x": null,
            "overflow_y": null,
            "padding": null,
            "right": null,
            "top": null,
            "visibility": null,
            "width": null
          }
        },
        "aa83d5fd63864fc4a8345649e16c67cc": {
          "model_module": "@jupyter-widgets/controls",
          "model_name": "DescriptionStyleModel",
          "model_module_version": "1.5.0",
          "state": {
            "_model_module": "@jupyter-widgets/controls",
            "_model_module_version": "1.5.0",
            "_model_name": "DescriptionStyleModel",
            "_view_count": null,
            "_view_module": "@jupyter-widgets/base",
            "_view_module_version": "1.2.0",
            "_view_name": "StyleView",
            "description_width": ""
          }
        }
      }
    }
  },
  "cells": [
    {
      "cell_type": "code",
      "execution_count": 3,
      "metadata": {
        "id": "tDH6Ym8U3KX4"
      },
      "outputs": [],
      "source": [
        "import torch\n",
        "import torch.nn as nn\n",
        "import random\n",
        "import tqdm\n",
        "import torch.optim as optim\n",
        "import pandas as pd\n",
        "from nltk.tokenize import TweetTokenizer, word_tokenize\n",
        "import re\n",
        "from collections import defaultdict\n",
        "from torch.nn.utils.rnn import pack_padded_sequence, pad_packed_sequence\n",
        "from sklearn.metrics import accuracy_score, classification_report, confusion_matrix\n",
        "from torch.utils.data import random_split\n",
        "from sklearn.feature_extraction.text import TfidfVectorizer\n",
        "import scipy"
      ]
    },
    {
      "cell_type": "code",
      "source": [
        "train_data = pd.read_csv('train.csv')\n",
        "Y = list((train_data['Type'] == 'Quality').astype(int))\n",
        "device = torch.device('cuda:0' if torch.cuda.is_available() else 'cpu')"
      ],
      "metadata": {
        "id": "lZzdBcyx3REE"
      },
      "execution_count": 4,
      "outputs": []
    },
    {
      "cell_type": "code",
      "source": [
        "def findUrl(string):\n",
        "  \n",
        "    # findall() has been used \n",
        "    # with valid conditions for urls in string\n",
        "    regex = r\"(?i)\\b((?:https?://|www\\d{0,3}[.]|[a-z0-9.\\-]+[.][a-z]{2,4}/)(?:[^\\s()<>]+|\\(([^\\s()<>]+|(\\([^\\s()<>]+\\)))*\\))+(?:\\(([^\\s()<>]+|(\\([^\\s()<>]+\\)))*\\)|[^\\s`!()\\[\\]{};:'\\\".,<>?«»“”‘’]))\"\n",
        "    found = re.search(regex, string)\n",
        "    return found"
      ],
      "metadata": {
        "id": "LEjkdJDJ4cWx"
      },
      "execution_count": 5,
      "outputs": []
    },
    {
      "cell_type": "code",
      "source": [
        "no_attag = []\n",
        "for data in train_data['Tweet']:\n",
        "  words = data.split(' ')\n",
        "  output = []\n",
        "  for word in words:\n",
        "    if word and word[0] == '@':\n",
        "      continue\n",
        "    else:\n",
        "      output.append(word)\n",
        "  \n",
        "  no_attag.append(\" \".join(output))\n",
        "  "
      ],
      "metadata": {
        "id": "OUNzyoLI3TlF"
      },
      "execution_count": 6,
      "outputs": []
    },
    {
      "cell_type": "code",
      "source": [
        "kwargs = {\n",
        "            'ngram_range': (1,1),  # Use 1-grams + 2-grams.\n",
        "            'analyzer': 'word',  # Split text into word tokens.\n",
        "            'min_df': 1,\n",
        "            'stop_words': \"english\",\n",
        "         }\n",
        "vectorizer = TfidfVectorizer(**kwargs)\n",
        "vectorized_data = vectorizer.fit_transform(no_attag)\n",
        "X = torch.tensor(scipy.sparse.csr_matrix.todense(vectorized_data)).float()"
      ],
      "metadata": {
        "id": "lsNIs1aI3WKN"
      },
      "execution_count": 7,
      "outputs": []
    },
    {
      "cell_type": "code",
      "source": [
        "example = 1\n",
        "print(vectorizer.get_feature_names_out()[X[example] != 0])\n",
        "train_data['Tweet'][example]"
      ],
      "metadata": {
        "colab": {
          "base_uri": "https://localhost:8080/",
          "height": 89
        },
        "id": "limQhNjO3YGq",
        "outputId": "04e38819-1edc-4410-ebf1-633e381ac541"
      },
      "execution_count": 8,
      "outputs": [
        {
          "output_type": "stream",
          "name": "stdout",
          "text": [
            "['arrived' 'eren' 'girlfriend' 'glare' 'help' 'kitchen' 'lovely' 'mikasa'\n",
            " 'nodded' 'sent' 'stood']\n"
          ]
        },
        {
          "output_type": "execute_result",
          "data": {
            "text/plain": [
              "'Eren sent a glare towards Mikasa then nodded and stood up to go help his lovely girlfriend @SincerePyrrhic. Once he arrived in the kitchen⎯'"
            ],
            "application/vnd.google.colaboratory.intrinsic+json": {
              "type": "string"
            }
          },
          "metadata": {},
          "execution_count": 8
        }
      ]
    },
    {
      "cell_type": "code",
      "source": [
        "class CNN(nn.Module):\n",
        "    def __init__(self, NUM_CLASSES=2, input_dim=32067, DIM_EMB=200):\n",
        "        super(CNN, self).__init__()\n",
        "\n",
        "        self.Embedding = nn.Embedding(input_dim , DIM_EMB)\n",
        "        self.conv1d_list = nn.ModuleList([\n",
        "            nn.Conv1d(in_channels=DIM_EMB,\n",
        "                      out_channels=2,\n",
        "                      kernel_size=ks)\n",
        "            for ks in range(2, 5)\n",
        "        ])\n",
        "        self.ReLU = nn.ReLU()\n",
        "        self.MaxPool = nn.MaxPool1d\n",
        "        self.Dropout = nn.Dropout()\n",
        "        self.Linear = nn.Linear(6, NUM_CLASSES)\n",
        "        self.LogSoftmax = nn.LogSoftmax(dim=1)\n",
        "        \n",
        "    def forward(self, X):\n",
        "        # X = X.to(dtype=int)\n",
        "        # print(X.shape)\n",
        "        X = X.to(dtype=int)\n",
        "        E = self.Embedding(X).permute(0, 2, 1)\n",
        "        # print(\"E\", E.shape)\n",
        "        R = [self.ReLU(conv1d(E)) for conv1d in self.conv1d_list]\n",
        "        # print(\"R\")\n",
        "        M = [self.MaxPool(kernel_size=r.shape[2])(r) for r in R]\n",
        "        # print(\"M\")\n",
        "        C = torch.cat([m.squeeze(dim=2) for m in M], dim = 1)\n",
        "        # print(\"C\")\n",
        "        L = self.Linear(C)\n",
        "        # print(\"L\")\n",
        "        X = self.LogSoftmax(L)\n",
        "        # print(\"X\")\n",
        "        return X"
      ],
      "metadata": {
        "id": "YOuxIYPd3ak3"
      },
      "execution_count": 21,
      "outputs": []
    },
    {
      "cell_type": "code",
      "source": [
        "def shuffle_data(X, Y):\n",
        "    indices = list(range(len(X)))\n",
        "    random.shuffle(indices)\n",
        "    shuffled_X = X[indices]\n",
        "    shuffled_Y = Y[indices]\n",
        "    return (shuffled_X, shuffled_Y)\n",
        "\n",
        "def train(X, Y, cnn, print_results = False, n_epochs = 50):\n",
        "    optimizer = optim.Adam(cnn.parameters(), lr = 0.001)\n",
        "    # optimizer = optim.Adagrad(cnn.parameters(), lr = 0.001)\n",
        "    # optimizer = optim.SGD(cnn.parameters(), lr = 0.001)\n",
        "    loss_f = nn.NLLLoss()\n",
        "\n",
        "    train_size = len(X) // 10 * 8\n",
        "    test_size = len(X) - train_size\n",
        "    train_ind, test_ind = random_split(range(len(X)), [train_size, test_size], generator=torch.Generator().manual_seed(42))\n",
        "\n",
        "    batchSize = 10\n",
        "\n",
        "    train_X = X.clone()[train_ind].to(device = device)\n",
        "    train_Y = torch.tensor(Y, device = device, dtype = float)[train_ind]\n",
        "    test_X = X.clone()[test_ind].to(device = device)\n",
        "    test_Y = torch.tensor(Y, device = device, dtype = float)[test_ind]\n",
        "\n",
        "\n",
        "    max_f1 = 0\n",
        "    max_acc = 0\n",
        "    max_epoch = 0\n",
        "\n",
        "    for epoch in range(n_epochs):\n",
        "        cnn.train()\n",
        "        totalLoss = 0.0\n",
        "\n",
        "        train_X_shuffle, train_Y_shuffle = shuffle_data(train_X, train_Y)\n",
        "\n",
        "        for batch in tqdm.notebook.tqdm(range(0, len(train_X_shuffle), batchSize), leave=False):\n",
        "          cnn.zero_grad()\n",
        "          x = train_X_shuffle[batch: batch + batchSize]\n",
        "          y = train_Y_shuffle[batch: batch + batchSize]\n",
        "          y = y.to(dtype=int)\n",
        "          output = cnn(x)\n",
        "          # print(\"output\", output)\n",
        "          # print(\"y\", y)\n",
        "          loss = loss_f(output.squeeze().to(dtype = float), y)\n",
        "          totalLoss += loss.item()\n",
        "          loss.backward()\n",
        "          optimizer.step()\n",
        "        \n",
        "        cnn.eval()\n",
        "        y_pred = cnn(input).squeeze().argmax(dim=1).tolist()\n",
        "        y_true = test_Y\n",
        "        results = classification_report(y_true, y_pred, labels=[1, 0], digits = 4)\n",
        "\n",
        "        if print_results:\n",
        "          print(\"============================================\")\n",
        "          print(f\"epoch {epoch + 1}\")\n",
        "          print(f\"loss: {totalLoss:.4f}\")\n",
        "          print(f\"accuracy: {results['accuracy']:.4f}\")\n",
        "          print(f\"f1-score: {results['macro avg']['f1-score']:.4f}\")\n",
        "        if results['macro avg']['f1-score'] > max_f1:\n",
        "          max_f1 = results['macro avg']['f1-score']\n",
        "          max_acc = results['accuracy']\n",
        "          max_epoch = epoch + 1\n",
        "    print(\"============================================\")\n",
        "    print(f\"Best result at epoch {max_epoch} f1-score: {max_f1:.4f} accuracy: {max_acc:.4f}\")\n"
      ],
      "metadata": {
        "id": "VEfaL9BU3cUJ"
      },
      "execution_count": 23,
      "outputs": []
    },
    {
      "cell_type": "code",
      "source": [
        "cnn = CNN().to(device)\n",
        "train(X, Y, cnn, print_results=True, n_epochs=10)"
      ],
      "metadata": {
        "colab": {
          "base_uri": "https://localhost:8080/",
          "height": 49,
          "referenced_widgets": [
            "9e1fbb2cdaf04a6c83f1a1de8f553994",
            "144932655d424c81aa06c39e57870964",
            "5102f5cc4c5944678d0478ad7099e9dd",
            "5f23cf21b2b34d4297e1303e04c4d608",
            "e1f4c999d5fe4943b117871885768219",
            "012d2f4c7bf1480c830d72fea801c7a1",
            "879998c20dab49b58f763a5e9e9924ce",
            "cc8bdb1db9804fd8be1e4c69d94b882b",
            "205658dc783647eb85cf0130c18d5680",
            "e1788f75f22a44dbb8ce067979092712",
            "aa83d5fd63864fc4a8345649e16c67cc"
          ]
        },
        "id": "CvB-PF4k3eQW",
        "outputId": "31c4230d-46f2-4032-a854-b55418ce3239"
      },
      "execution_count": null,
      "outputs": [
        {
          "output_type": "display_data",
          "data": {
            "text/plain": [
              "  0%|          | 0/957 [00:00<?, ?it/s]"
            ],
            "application/vnd.jupyter.widget-view+json": {
              "version_major": 2,
              "version_minor": 0,
              "model_id": "9e1fbb2cdaf04a6c83f1a1de8f553994"
            }
          },
          "metadata": {}
        }
      ]
    },
    {
      "cell_type": "code",
      "source": [
        ""
      ],
      "metadata": {
        "id": "wwRal2U544oW"
      },
      "execution_count": null,
      "outputs": []
    }
  ]
}