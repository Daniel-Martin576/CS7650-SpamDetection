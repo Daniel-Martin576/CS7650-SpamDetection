{
  "cells": [
    {
      "cell_type": "markdown",
      "metadata": {
        "colab_type": "text",
        "id": "view-in-github"
      },
      "source": [
        "<a href=\"https://colab.research.google.com/github/animesharma3/Spam-Detector-BERT-Pytorch-Transformers-Hugging-Face-NLP-State-of-the-Art-Model./blob/main/Spam_Detector_%7C_BERT_%7C_Pytorch_%7C_Transformers_%7C_Hugging_Face_%7C_NLP_%7C_State_of_the_Art_Model.ipynb\" target=\"_parent\"><img src=\"https://colab.research.google.com/assets/colab-badge.svg\" alt=\"Open In Colab\"/></a>"
      ]
    },
    {
      "cell_type": "markdown",
      "metadata": {
        "id": "-INlSfgHgBzA"
      },
      "source": [
        "# Installing and Importing Dependencies"
      ]
    },
    {
      "cell_type": "code",
      "execution_count": 5,
      "metadata": {
        "colab": {
          "base_uri": "https://localhost:8080/"
        },
        "id": "Qc5FU0v82Avh",
        "outputId": "700345d8-d50c-4d23-8a1c-c7fea2eaa049"
      },
      "outputs": [
        {
          "name": "stdout",
          "output_type": "stream",
          "text": [
            "Looking in indexes: https://pypi.org/simple, https://packagecloud.io/github/git-lfs/pypi/simple\n",
            "Requirement already satisfied: transformers in /home/dani/.local/lib/python3.8/site-packages (4.12.3)\n",
            "Requirement already satisfied: huggingface-hub<1.0,>=0.1.0 in /home/dani/.local/lib/python3.8/site-packages (from transformers) (0.1.1)\n",
            "Requirement already satisfied: filelock in /home/dani/.local/lib/python3.8/site-packages (from transformers) (3.0.12)\n",
            "Requirement already satisfied: requests in /usr/lib/python3/dist-packages (from transformers) (2.22.0)\n",
            "Requirement already satisfied: numpy>=1.17 in /home/dani/.local/lib/python3.8/site-packages (from transformers) (1.20.3)\n",
            "Requirement already satisfied: tokenizers<0.11,>=0.10.1 in /home/dani/.local/lib/python3.8/site-packages (from transformers) (0.10.3)\n",
            "Requirement already satisfied: regex!=2019.12.17 in /home/dani/.local/lib/python3.8/site-packages (from transformers) (2021.4.4)\n",
            "Requirement already satisfied: packaging>=20.0 in /home/dani/.local/lib/python3.8/site-packages (from transformers) (21.2)\n",
            "Requirement already satisfied: tqdm>=4.27 in /home/dani/.local/lib/python3.8/site-packages (from transformers) (4.47.0)\n",
            "Requirement already satisfied: pyyaml>=5.1 in /home/dani/.local/lib/python3.8/site-packages (from transformers) (5.1.2)\n",
            "Requirement already satisfied: sacremoses in /home/dani/.local/lib/python3.8/site-packages (from transformers) (0.0.46)\n",
            "Requirement already satisfied: typing-extensions>=3.7.4.3 in /home/dani/.local/lib/python3.8/site-packages (from huggingface-hub<1.0,>=0.1.0->transformers) (3.7.4.3)\n",
            "Requirement already satisfied: pyparsing<3,>=2.0.2 in /home/dani/.local/lib/python3.8/site-packages (from packaging>=20.0->transformers) (2.4.7)\n",
            "Requirement already satisfied: joblib in /home/dani/.local/lib/python3.8/site-packages (from sacremoses->transformers) (0.16.0)\n",
            "Requirement already satisfied: click in /home/dani/.local/lib/python3.8/site-packages (from sacremoses->transformers) (7.1.2)\n",
            "Requirement already satisfied: six in /home/dani/.local/lib/python3.8/site-packages (from sacremoses->transformers) (1.15.0)\n"
          ]
        }
      ],
      "source": [
        "!pip install transformers\n",
        "# !pip install kashgari\n"
      ]
    },
    {
      "cell_type": "code",
      "execution_count": 10,
      "metadata": {
        "id": "uBT2n_h2wuRC"
      },
      "outputs": [
        {
          "ename": "ModuleNotFoundError",
          "evalue": "No module named 'transformers.modeling_bert'",
          "output_type": "error",
          "traceback": [
            "\u001b[0;31m---------------------------------------------------------------------------\u001b[0m",
            "\u001b[0;31mModuleNotFoundError\u001b[0m                       Traceback (most recent call last)",
            "\u001b[0;32m<ipython-input-10-a7c95be7d914>\u001b[0m in \u001b[0;36m<module>\u001b[0;34m\u001b[0m\n\u001b[1;32m     19\u001b[0m \u001b[0;34m\u001b[0m\u001b[0m\n\u001b[1;32m     20\u001b[0m \u001b[0;31m# import kashgari\u001b[0m\u001b[0;34m\u001b[0m\u001b[0;34m\u001b[0m\u001b[0;34m\u001b[0m\u001b[0m\n\u001b[0;32m---> 21\u001b[0;31m \u001b[0;32mfrom\u001b[0m \u001b[0mtransformers\u001b[0m\u001b[0;34m.\u001b[0m\u001b[0mmodeling_bert\u001b[0m \u001b[0;32mimport\u001b[0m \u001b[0mBertModel\u001b[0m\u001b[0;34m,\u001b[0m \u001b[0mBERTEmbedding\u001b[0m\u001b[0;34m\u001b[0m\u001b[0;34m\u001b[0m\u001b[0m\n\u001b[0m\u001b[1;32m     22\u001b[0m \u001b[0;34m\u001b[0m\u001b[0m\n\u001b[1;32m     23\u001b[0m \u001b[0;34m\u001b[0m\u001b[0m\n",
            "\u001b[0;31mModuleNotFoundError\u001b[0m: No module named 'transformers.modeling_bert'"
          ]
        }
      ],
      "source": [
        "import pandas as pd\n",
        "import numpy as np\n",
        "import matplotlib.pyplot as plt\n",
        "import seaborn as sns\n",
        "from collections import defaultdict\n",
        "\n",
        "from sklearn.model_selection import train_test_split as tts\n",
        "from sklearn.metrics import accuracy_score, precision_score, recall_score, roc_auc_score, f1_score, confusion_matrix\n",
        "\n",
        "import torch\n",
        "import torch.nn as nn\n",
        "import torch.optim as optim\n",
        "from torch.utils.data import Dataset, DataLoader\n",
        "\n",
        "from transformers import BertTokenizer, BertModel, AdamW, get_linear_schedule_with_warmup\n",
        "\n",
        "\n",
        "from transformers import BertModel, BertForMaskedLM\n",
        "\n",
        "# import kashgari\n",
        "from transformers import BertModel, modeling_bert\n",
        "\n",
        "\n",
        "import warnings\n",
        "warnings.filterwarnings('ignore')\n"
      ]
    },
    {
      "cell_type": "markdown",
      "metadata": {
        "id": "RFGN_FrkgLj2"
      },
      "source": [
        "# Setting Variables"
      ]
    },
    {
      "cell_type": "code",
      "execution_count": null,
      "metadata": {
        "id": "y9nJO_X24fLB"
      },
      "outputs": [],
      "source": [
        "PRE_TRAINED_MODEL_NAME = 'prajjwal1/bert-tiny'\n",
        "device = 'cuda'\n",
        "tokenizer = BertTokenizer.from_pretrained(PRE_TRAINED_MODEL_NAME)\n",
        "EPOCHS=10\n",
        "MAX_LEN=512\n",
        "BATCH_SIZE=16\n"
      ]
    },
    {
      "cell_type": "markdown",
      "metadata": {
        "id": "ietiWNbYgR-i"
      },
      "source": [
        "# Reading and Preprocessing Data"
      ]
    },
    {
      "cell_type": "code",
      "execution_count": null,
      "metadata": {
        "colab": {
          "base_uri": "https://localhost:8080/",
          "height": 204
        },
        "id": "iQ6uw08ox3XY",
        "outputId": "81e691d5-a314-457e-e100-1f7b353aafe7"
      },
      "outputs": [
        {
          "data": {
            "text/html": [
              "<div>\n",
              "<style scoped>\n",
              "    .dataframe tbody tr th:only-of-type {\n",
              "        vertical-align: middle;\n",
              "    }\n",
              "\n",
              "    .dataframe tbody tr th {\n",
              "        vertical-align: top;\n",
              "    }\n",
              "\n",
              "    .dataframe thead th {\n",
              "        text-align: right;\n",
              "    }\n",
              "</style>\n",
              "<table border=\"1\" class=\"dataframe\">\n",
              "  <thead>\n",
              "    <tr style=\"text-align: right;\">\n",
              "      <th></th>\n",
              "      <th>Tweet</th>\n",
              "      <th>Type</th>\n",
              "      <th>msg</th>\n",
              "      <th>spam</th>\n",
              "    </tr>\n",
              "  </thead>\n",
              "  <tbody>\n",
              "    <tr>\n",
              "      <th>0</th>\n",
              "      <td>It's the everything else that's complicated. #...</td>\n",
              "      <td>Quality</td>\n",
              "      <td>It's the everything else that's complicated. #...</td>\n",
              "      <td>1</td>\n",
              "    </tr>\n",
              "    <tr>\n",
              "      <th>1</th>\n",
              "      <td>Eren sent a glare towards Mikasa then nodded a...</td>\n",
              "      <td>Quality</td>\n",
              "      <td>Eren sent a glare towards Mikasa then nodded a...</td>\n",
              "      <td>1</td>\n",
              "    </tr>\n",
              "    <tr>\n",
              "      <th>2</th>\n",
              "      <td>I posted a new photo to Facebook http://fb.me/...</td>\n",
              "      <td>Quality</td>\n",
              "      <td>I posted a new photo to Facebook http://fb.me/...</td>\n",
              "      <td>1</td>\n",
              "    </tr>\n",
              "    <tr>\n",
              "      <th>3</th>\n",
              "      <td>#jan Idiot Chelsea Handler Diagnoses Trump Wit...</td>\n",
              "      <td>Spam</td>\n",
              "      <td>#jan Idiot Chelsea Handler Diagnoses Trump Wit...</td>\n",
              "      <td>0</td>\n",
              "    </tr>\n",
              "    <tr>\n",
              "      <th>4</th>\n",
              "      <td>Pedophile Anthony Weiner is TERRIFIED of Getti...</td>\n",
              "      <td>Spam</td>\n",
              "      <td>Pedophile Anthony Weiner is TERRIFIED of Getti...</td>\n",
              "      <td>0</td>\n",
              "    </tr>\n",
              "  </tbody>\n",
              "</table>\n",
              "</div>"
            ],
            "text/plain": [
              "                                               Tweet     Type  \\\n",
              "0  It's the everything else that's complicated. #...  Quality   \n",
              "1  Eren sent a glare towards Mikasa then nodded a...  Quality   \n",
              "2  I posted a new photo to Facebook http://fb.me/...  Quality   \n",
              "3  #jan Idiot Chelsea Handler Diagnoses Trump Wit...     Spam   \n",
              "4  Pedophile Anthony Weiner is TERRIFIED of Getti...     Spam   \n",
              "\n",
              "                                                 msg  spam  \n",
              "0  It's the everything else that's complicated. #...     1  \n",
              "1  Eren sent a glare towards Mikasa then nodded a...     1  \n",
              "2  I posted a new photo to Facebook http://fb.me/...     1  \n",
              "3  #jan Idiot Chelsea Handler Diagnoses Trump Wit...     0  \n",
              "4  Pedophile Anthony Weiner is TERRIFIED of Getti...     0  "
            ]
          },
          "execution_count": 8,
          "metadata": {},
          "output_type": "execute_result"
        }
      ],
      "source": [
        "# df = pd.read_csv('https://raw.githubusercontent.com/animesharma3/SPAM-SMS-Detection/master/spam_sms_collection.csv')[['msg', 'spam']]\n",
        "df = pd.read_csv('../train.csv')[['Tweet', 'Type']]\n",
        "df['msg'] = df['Tweet']\n",
        "df['spam'] = (1 * (df['Type'] == 'Quality'))\n",
        "# df.drop('Tweet')\n",
        "# df.drop('Type')\n",
        "df.head()"
      ]
    },
    {
      "cell_type": "code",
      "execution_count": null,
      "metadata": {
        "colab": {
          "base_uri": "https://localhost:8080/"
        },
        "id": "5Vz5fBKRx9c_",
        "outputId": "bb1e6bd7-3a61-4600-f649-2264544482ac"
      },
      "outputs": [
        {
          "data": {
            "text/plain": [
              "(11968, 4)"
            ]
          },
          "execution_count": 9,
          "metadata": {},
          "output_type": "execute_result"
        }
      ],
      "source": [
        "df.shape"
      ]
    },
    {
      "cell_type": "code",
      "execution_count": null,
      "metadata": {
        "id": "78kRG9Qkzi3W"
      },
      "outputs": [],
      "source": [
        "class SpamDataset(Dataset):\n",
        "    def __init__(self, spam, msgs, tokenizer, max_len):\n",
        "        self.msgs = msgs\n",
        "        self.spam = spam\n",
        "        self.tokenizer = tokenizer\n",
        "        self.max_len = max_len\n",
        "\n",
        "    def __len__(self):\n",
        "        return len(self.msgs)\n",
        "\n",
        "    def __getitem__(self, i):\n",
        "        msg = str(self.msgs[i])\n",
        "        spam = self.spam[i]\n",
        "\n",
        "        encoding = self.tokenizer.encode_plus(\n",
        "            msg, \n",
        "            add_special_tokens=True,\n",
        "            max_length=self.max_len,\n",
        "            truncation=True,\n",
        "            return_token_type_ids=False,\n",
        "            pad_to_max_length=True,\n",
        "            return_attention_mask=True,\n",
        "            return_tensors='pt'\n",
        "        )\n",
        "\n",
        "        return {\n",
        "            'msg': msg,\n",
        "            'input_ids': encoding['input_ids'].flatten(),\n",
        "            'attention_mask': encoding['attention_mask'].flatten(),\n",
        "            'spam': torch.tensor(spam, dtype=torch.long)\n",
        "        }"
      ]
    },
    {
      "cell_type": "code",
      "execution_count": null,
      "metadata": {
        "id": "0RK3hJDCzS73"
      },
      "outputs": [],
      "source": [
        "def create_data_loader(df, tokenizer, max_len, batch_size):\n",
        "    ds = SpamDataset(\n",
        "        spam=df['spam'].to_numpy(),\n",
        "        msgs=df['msg'].to_numpy(),\n",
        "        tokenizer=tokenizer,\n",
        "        max_len=max_len\n",
        "    )\n",
        "\n",
        "    return DataLoader(\n",
        "        ds,\n",
        "        batch_size=batch_size,\n",
        "        num_workers=4\n",
        "    )"
      ]
    },
    {
      "cell_type": "code",
      "execution_count": null,
      "metadata": {
        "colab": {
          "base_uri": "https://localhost:8080/"
        },
        "id": "VsfQUZPQyPLl",
        "outputId": "20e25e51-2b42-49fb-e72e-52e010e21edb"
      },
      "outputs": [
        {
          "data": {
            "text/plain": [
              "((9574, 4), (2394, 4), (5984, 4))"
            ]
          },
          "execution_count": 12,
          "metadata": {},
          "output_type": "execute_result"
        }
      ],
      "source": [
        "df_train, df_test = tts(\n",
        "    df,\n",
        "    test_size=0.2,\n",
        "    random_state=42,\n",
        "    shuffle=True,\n",
        ")\n",
        "df_val, _ = tts(\n",
        "    df,\n",
        "    test_size=0.5,\n",
        "    random_state=42,\n",
        "    shuffle=True,\n",
        ")\n",
        "df_train.shape, df_test.shape, df_val.shape\n"
      ]
    },
    {
      "cell_type": "code",
      "execution_count": null,
      "metadata": {
        "id": "rSd4b1Mx6OR4"
      },
      "outputs": [],
      "source": [
        "train_data_loader = create_data_loader(df_train, tokenizer, MAX_LEN, BATCH_SIZE)\n",
        "test_data_loader = create_data_loader(df_test, tokenizer, MAX_LEN, BATCH_SIZE)\n",
        "val_data_loader = create_data_loader(df_val, tokenizer, MAX_LEN, BATCH_SIZE)"
      ]
    },
    {
      "cell_type": "code",
      "execution_count": null,
      "metadata": {
        "colab": {
          "base_uri": "https://localhost:8080/"
        },
        "id": "RXmAJbDr6fVe",
        "outputId": "78dde2e0-9c37-4864-c49c-3a02ff8a7084"
      },
      "outputs": [
        {
          "data": {
            "text/plain": [
              "tensor([[  101,  2023,  2001,  ...,     0,     0,     0],\n",
              "        [  101,  5245,  2373,  ...,     0,     0,     0],\n",
              "        [  101,  6350,  6265,  ...,     0,     0,     0],\n",
              "        ...,\n",
              "        [  101,  1000, 10558,  ...,     0,     0,     0],\n",
              "        [  101,  1001,  4862,  ...,     0,     0,     0],\n",
              "        [  101,  3087,  2040,  ...,     0,     0,     0]])"
            ]
          },
          "execution_count": 14,
          "metadata": {},
          "output_type": "execute_result"
        }
      ],
      "source": [
        "d = next(iter(train_data_loader))\n",
        "d.keys()"
      ]
    },
    {
      "cell_type": "code",
      "execution_count": null,
      "metadata": {
        "colab": {
          "base_uri": "https://localhost:8080/"
        },
        "id": "awSWUDUd6xoI",
        "outputId": "eccd27c9-c0af-4e40-b5ef-b932fd9c3782"
      },
      "outputs": [
        {
          "data": {
            "text/plain": [
              "(torch.Size([16, 512]), torch.Size([16, 512]), torch.Size([16]))"
            ]
          },
          "execution_count": 15,
          "metadata": {},
          "output_type": "execute_result"
        }
      ],
      "source": [
        "d['input_ids'].shape, d['attention_mask'].shape, d['spam'].shape"
      ]
    },
    {
      "cell_type": "markdown",
      "metadata": {
        "id": "HDxtdPbJgY5n"
      },
      "source": [
        "# Model Building"
      ]
    },
    {
      "cell_type": "code",
      "execution_count": null,
      "metadata": {
        "id": "YXy7V_kJ8g7H"
      },
      "outputs": [],
      "source": [
        "class SpamClassifier(nn.Module):\n",
        "    def __init__(self, n_classes):\n",
        "        super(SpamClassifier, self).__init__()\n",
        "        self.bert = BertModel.from_pretrained(PRE_TRAINED_MODEL_NAME)\n",
        "        self.drop = nn.Dropout(p=0.3)\n",
        "        self.out = nn.Linear(self.bert.config.hidden_size, n_classes)\n",
        "    def forward(self, input_ids, attention_mask):\n",
        "        pooled_output = self.bert(\n",
        "            input_ids=input_ids,\n",
        "            attention_mask=attention_mask\n",
        "        )[1]\n",
        "        output = self.drop(pooled_output)\n",
        "        return self.out(output)"
      ]
    },
    {
      "cell_type": "code",
      "execution_count": null,
      "metadata": {
        "id": "_1uiooAZPru3"
      },
      "outputs": [
        {
          "name": "stderr",
          "output_type": "stream",
          "text": [
            "Some weights of the model checkpoint at prajjwal1/bert-tiny were not used when initializing BertModel: ['cls.predictions.transform.dense.bias', 'cls.predictions.bias', 'cls.predictions.transform.dense.weight', 'cls.predictions.decoder.bias', 'cls.seq_relationship.weight', 'cls.seq_relationship.bias', 'cls.predictions.transform.LayerNorm.weight', 'cls.predictions.transform.LayerNorm.bias', 'cls.predictions.decoder.weight']\n",
            "- This IS expected if you are initializing BertModel from the checkpoint of a model trained on another task or with another architecture (e.g. initializing a BertForSequenceClassification model from a BertForPreTraining model).\n",
            "- This IS NOT expected if you are initializing BertModel from the checkpoint of a model that you expect to be exactly identical (initializing a BertForSequenceClassification model from a BertForSequenceClassification model).\n"
          ]
        }
      ],
      "source": [
        "model = SpamClassifier(n_classes=2)\n",
        "model = model.to(device)"
      ]
    },
    {
      "cell_type": "markdown",
      "metadata": {
        "id": "2IlXMoLageQl"
      },
      "source": [
        "# Loss, Optimizer and Scheduler"
      ]
    },
    {
      "cell_type": "code",
      "execution_count": null,
      "metadata": {
        "id": "06B3UYiEP2N8"
      },
      "outputs": [],
      "source": [
        "optimizer = AdamW(model.parameters(), lr=2e-5, correct_bias=False)\n",
        "\n",
        "total_steps = len(train_data_loader) * EPOCHS\n",
        "scheduler = get_linear_schedule_with_warmup(\n",
        "  optimizer,\n",
        "  num_warmup_steps=0,\n",
        "  num_training_steps=total_steps\n",
        ")\n",
        "\n",
        "loss_fn = nn.CrossEntropyLoss().to(device)"
      ]
    },
    {
      "cell_type": "code",
      "execution_count": null,
      "metadata": {
        "id": "Hb7uxa1LUlVO"
      },
      "outputs": [],
      "source": [
        "# input_ids = d['input_ids'].to(device)\n",
        "# attention_mask = d['attention_mask'].to(device)\n",
        "# targets = d['spam'].to(device)\n",
        "\n",
        "# outputs = model(\n",
        "#     input_ids=input_ids,\n",
        "#     attention_mask=attention_mask\n",
        "# )\n",
        "# loss = loss_fn(outputs, targets)\n",
        "# loss"
      ]
    },
    {
      "cell_type": "markdown",
      "metadata": {
        "id": "EHGjC_Wlgphj"
      },
      "source": [
        "# Train Model Function"
      ]
    },
    {
      "cell_type": "code",
      "execution_count": null,
      "metadata": {
        "id": "7sad0YiJRVjH"
      },
      "outputs": [],
      "source": [
        "def train(\n",
        "    model,\n",
        "    loss_fn,\n",
        "    optimizer,\n",
        "    scheduler,\n",
        "    device,\n",
        "    data_loader,\n",
        "    n_examples\n",
        "):\n",
        "    model = model.train() # Setting Model in training mode\n",
        "\n",
        "    losses = []\n",
        "    correct_predictions = 0\n",
        "\n",
        "    for d in data_loader:\n",
        "        input_ids = d['input_ids'].to(device) # [16, 512]\n",
        "        attention_mask = d['attention_mask'].to(device) # [16, 512]\n",
        "        targets = d['spam'].to(device) # [16]\n",
        "\n",
        "        # Forward Propogation\n",
        "        outputs = model(\n",
        "            input_ids=input_ids,\n",
        "            attention_mask=attention_mask\n",
        "        ) # [16, 3]\n",
        "\n",
        "        # Calculating Loss\n",
        "        loss = loss_fn(outputs, targets)\n",
        "\n",
        "        _, preds = torch.max(outputs, dim=1)\n",
        "\n",
        "        correct_predictions += torch.sum(preds == targets)\n",
        "        losses.append(loss.item())\n",
        "        \n",
        "        # Backward Propogation\n",
        "        loss.backward()\n",
        "        nn.utils.clip_grad_norm_(model.parameters(), max_norm=1.0) # Clipping Gradient (Exploding Gradient Problem)\n",
        "        optimizer.step()\n",
        "        scheduler.step()\n",
        "        optimizer.zero_grad() # Resetting gradients\n",
        "\n",
        "    train_acc = correct_predictions.double() / n_examples\n",
        "    train_loss = np.mean(losses)\n",
        "    \n",
        "    return train_acc, train_loss"
      ]
    },
    {
      "cell_type": "markdown",
      "metadata": {
        "id": "rXYnwR0KguQ-"
      },
      "source": [
        "# Validating Model Function"
      ]
    },
    {
      "cell_type": "code",
      "execution_count": null,
      "metadata": {
        "id": "G9PtqPEFenkA"
      },
      "outputs": [],
      "source": [
        "def evaluate_model(\n",
        "    model,\n",
        "    loss_fn,\n",
        "    device,\n",
        "    data_loader,\n",
        "    n_examples   \n",
        "):\n",
        "    model = model.eval() # Setting Model in evaluation mode\n",
        "\n",
        "    losses = []\n",
        "    correct_predictions = 0\n",
        "\n",
        "    with torch.no_grad():\n",
        "        for d in data_loader:\n",
        "            input_ids = d['input_ids'].to(device) # [16, 512]\n",
        "            attention_mask = d['attention_mask'].to(device) # [16, 512]\n",
        "            targets = d['spam'].to(device) # [16]\n",
        "\n",
        "            # Forward Propogation\n",
        "            outputs = model(\n",
        "                input_ids=input_ids,\n",
        "                attention_mask=attention_mask\n",
        "            ) # [16, 3]\n",
        "\n",
        "            # Calculating Loss\n",
        "            loss = loss_fn(outputs, targets)\n",
        "\n",
        "            _, preds = torch.max(outputs, dim=1)\n",
        "\n",
        "            correct_predictions += torch.sum(preds == targets)\n",
        "            losses.append(loss.item())\n",
        "        \n",
        "    train_acc = correct_predictions.double() / n_examples\n",
        "    train_loss = np.mean(losses)\n",
        "\n",
        "    return train_acc, train_loss"
      ]
    },
    {
      "cell_type": "markdown",
      "metadata": {
        "id": "tABNoeFUg1iW"
      },
      "source": [
        "# Training the Model"
      ]
    },
    {
      "cell_type": "code",
      "execution_count": null,
      "metadata": {
        "colab": {
          "base_uri": "https://localhost:8080/"
        },
        "id": "gN6kZep2aAsY",
        "outputId": "b3c27913-d0bf-4031-9b68-3d49d9682159"
      },
      "outputs": [
        {
          "name": "stdout",
          "output_type": "stream",
          "text": [
            "Epoch 1/10\n",
            "----------\n",
            "Train loss 0.24208661729473005 accuracy 0.9047420096093587\n",
            "Validation loss 0.13304482860724756 accuracy 0.9527072192513368\n",
            "\n",
            "Epoch 2/10\n",
            "----------\n",
            "Train loss 0.14092552189354493 accuracy 0.9512220597451431\n",
            "Validation loss 0.11011803829494644 accuracy 0.9637366310160427\n",
            "\n",
            "Epoch 3/10\n",
            "----------\n",
            "Train loss 0.12389330522706095 accuracy 0.9602047211196991\n",
            "Validation loss 0.10895589119157091 accuracy 0.9662433155080213\n",
            "\n",
            "Epoch 4/10\n",
            "----------\n",
            "Train loss 0.10746195179002922 accuracy 0.9677250887821182\n",
            "Validation loss 0.09631916875378253 accuracy 0.9715909090909091\n",
            "\n",
            "Epoch 5/10\n",
            "----------\n",
            "Train loss 0.10598260852257925 accuracy 0.9668894923751827\n",
            "Validation loss 0.08711809549778875 accuracy 0.9737633689839572\n",
            "\n",
            "Epoch 6/10\n",
            "----------\n",
            "Train loss 0.09512658159206551 accuracy 0.9702318780029245\n",
            "Validation loss 0.0831617231897569 accuracy 0.976437165775401\n",
            "\n",
            "Epoch 7/10\n",
            "----------\n",
            "Train loss 0.09139271612156288 accuracy 0.9731564654271986\n",
            "Validation loss 0.07747848740409073 accuracy 0.9777740641711229\n",
            "\n",
            "Epoch 8/10\n",
            "----------\n",
            "Train loss 0.08847021395237557 accuracy 0.9738876122832671\n",
            "Validation loss 0.07372943030914321 accuracy 0.9787767379679144\n",
            "\n",
            "Epoch 9/10\n",
            "----------\n",
            "Train loss 0.08291708344445162 accuracy 0.9752454564445373\n",
            "Validation loss 0.07379887599630634 accuracy 0.9787767379679144\n",
            "\n",
            "Epoch 10/10\n",
            "----------\n",
            "Train loss 0.08153430403008877 accuracy 0.9754543555462711\n",
            "Validation loss 0.07337271629002837 accuracy 0.9791109625668448\n",
            "\n",
            "CPU times: user 6min 29s, sys: 7.69 s, total: 6min 37s\n",
            "Wall time: 6min 42s\n"
          ]
        }
      ],
      "source": [
        "%%time\n",
        "\n",
        "\n",
        "history = defaultdict(list)\n",
        "best_accuracy = 0\n",
        "\n",
        "for epoch in range(EPOCHS):\n",
        "    print(f'Epoch {epoch + 1}/{EPOCHS}')\n",
        "    print('-' * 10)\n",
        "\n",
        "    train_acc, train_loss = train(\n",
        "        model,\n",
        "        loss_fn,\n",
        "        optimizer,\n",
        "        scheduler,\n",
        "        device,\n",
        "        train_data_loader,\n",
        "        len(df_train)\n",
        "    )\n",
        "\n",
        "    print(f'Train loss {train_loss} accuracy {train_acc}')\n",
        "\n",
        "    val_acc, val_loss = evaluate_model(\n",
        "        model,\n",
        "        loss_fn,\n",
        "        device,\n",
        "        val_data_loader,\n",
        "        len(df_val)\n",
        "    )\n",
        "\n",
        "    print(f'Validation loss {val_loss} accuracy {val_acc}')\n",
        "    print()\n",
        "\n",
        "    history['train_acc'].append(train_acc)\n",
        "    history['train_loss'].append(train_loss)\n",
        "    history['val_acc'].append(val_acc)\n",
        "    history['val_loss'].append(val_loss)\n",
        "\n",
        "    if val_acc > best_accuracy:\n",
        "        torch.save(model.state_dict(), 'best_model_state.bin')\n",
        "        best_accuracy = val_acc\n"
      ]
    },
    {
      "cell_type": "markdown",
      "metadata": {
        "id": "o4Yoe_oX40bi"
      },
      "source": [
        "# Evaluating the Model Performance"
      ]
    },
    {
      "cell_type": "code",
      "execution_count": null,
      "metadata": {
        "colab": {
          "base_uri": "https://localhost:8080/"
        },
        "id": "xs-xwmWnv0Zz",
        "outputId": "525c8c3b-7a76-4665-da28-27f1d5c7a123"
      },
      "outputs": [
        {
          "data": {
            "text/plain": [
              "0.9603174603174602"
            ]
          },
          "execution_count": 23,
          "metadata": {},
          "output_type": "execute_result"
        }
      ],
      "source": [
        "test_acc, _ = evaluate_model(\n",
        "    model,\n",
        "    loss_fn,\n",
        "    device,\n",
        "    test_data_loader,\n",
        "    len(df_test)\n",
        ")\n",
        "test_acc.item()"
      ]
    },
    {
      "cell_type": "code",
      "execution_count": null,
      "metadata": {
        "colab": {
          "base_uri": "https://localhost:8080/",
          "height": 475
        },
        "id": "JStEr4A9xI0K",
        "outputId": "f7abd749-5ac4-442b-d2e5-4659dfc2e7aa"
      },
      "outputs": [
        {
          "data": {
            "text/plain": [
              "(0.0, 1.0)"
            ]
          },
          "execution_count": 24,
          "metadata": {},
          "output_type": "execute_result"
        },
        {
          "data": {
            "image/png": "[encoded data removed]",
            "text/plain": [
              "<Figure size 720x504 with 1 Axes>"
            ]
          },
          "metadata": {
            "needs_background": "light"
          },
          "output_type": "display_data"
        }
      ],
      "source": [
        "plt.figure(figsize=(10, 7))\n",
        "plt.plot(history['train_acc'], label='train accuracy')\n",
        "plt.plot(history['val_acc'], label='validation accuracy')\n",
        "\n",
        "plt.title('Training history')\n",
        "plt.ylabel('Accuracy')\n",
        "plt.xlabel('Epoch')\n",
        "plt.legend()\n",
        "plt.ylim([0, 1])"
      ]
    },
    {
      "cell_type": "code",
      "execution_count": null,
      "metadata": {
        "id": "jxfjEVbVzhef"
      },
      "outputs": [],
      "source": [
        "def get_predictions(\n",
        "    model, data_loader\n",
        "):\n",
        "    model = model.eval()\n",
        "\n",
        "    msgs = []\n",
        "    predictions = []\n",
        "    predictions_probs = []\n",
        "    real_values = []\n",
        "\n",
        "    with torch.no_grad():\n",
        "        for d in data_loader:\n",
        "            msg = d['msg']\n",
        "            input_ids = d['input_ids'].to(device)\n",
        "            attention_masks = d['attention_mask'].to(device)\n",
        "            spam = d['spam'].to(device)\n",
        "\n",
        "            outputs = model(\n",
        "                input_ids=input_ids,\n",
        "                attention_mask=attention_masks\n",
        "            )\n",
        "\n",
        "            _, preds = torch.max(outputs, dim=1)\n",
        "\n",
        "            probs = torch.nn.functional.softmax(outputs, dim=1)\n",
        "\n",
        "            msgs.extend(msg)\n",
        "            predictions.extend(preds)\n",
        "            predictions_probs.extend(probs)\n",
        "            real_values.extend(spam)\n",
        "    predictions = torch.stack(predictions).cpu()\n",
        "    predictions_probs = torch.stack(predictions_probs).cpu()\n",
        "    real_values = torch.stack(real_values).cpu()\n",
        "    return msgs, predictions, predictions_probs, real_values"
      ]
    },
    {
      "cell_type": "code",
      "execution_count": null,
      "metadata": {
        "id": "qCxXj-3F258K"
      },
      "outputs": [],
      "source": [
        "y_msgs, y_pred, y_pred_probs, y_test = get_predictions(\n",
        "  model,\n",
        "  test_data_loader\n",
        ")"
      ]
    },
    {
      "cell_type": "markdown",
      "metadata": {
        "id": "5gegGnUJ5tzp"
      },
      "source": [
        "# Creating Final Classification Report"
      ]
    },
    {
      "cell_type": "code",
      "execution_count": null,
      "metadata": {
        "id": "Ck66KbYq3Ggq"
      },
      "outputs": [],
      "source": [
        "def create_classification_report(Y_test, Y_pred):\n",
        "    print('--------Classification Report---------\\n')\n",
        "    accuracy = accuracy_score(Y_test, Y_pred)\n",
        "    f1 = f1_score(Y_test, Y_pred)\n",
        "    precision = precision_score(Y_test, Y_pred)\n",
        "    recall = recall_score(Y_test, Y_pred)\n",
        "    roc_auc = roc_auc_score(Y_test, Y_pred)\n",
        "    metrices = [accuracy, f1, precision, recall, roc_auc]\n",
        "    scores = pd.DataFrame(pd.Series(metrices).values, index=['accuracy', 'f1-score', 'precision', 'recall', 'roc auc score'], columns=['score'])\n",
        "    print(scores)\n",
        "    print('\\n--------Plotting Confusion Matrix---------')\n",
        "    sns.heatmap(confusion_matrix(Y_test, Y_pred), annot=True, cmap='RdYlGn_r', annot_kws={'size': 16})\n",
        "    return scores"
      ]
    },
    {
      "cell_type": "code",
      "execution_count": null,
      "metadata": {
        "colab": {
          "base_uri": "https://localhost:8080/",
          "height": 623
        },
        "id": "fOUdUgGM37r4",
        "outputId": "8143d1a4-0691-4045-b9a7-3e1c2b615cc2"
      },
      "outputs": [
        {
          "name": "stdout",
          "output_type": "stream",
          "text": [
            "--------Classification Report---------\n",
            "\n",
            "                  score\n",
            "accuracy       0.960317\n",
            "f1-score       0.960433\n",
            "precision      0.958437\n",
            "recall         0.962437\n",
            "roc auc score  0.960316\n",
            "\n",
            "--------Plotting Confusion Matrix---------\n"
          ]
        },
        {
          "data": {
            "text/html": [
              "<div>\n",
              "<style scoped>\n",
              "    .dataframe tbody tr th:only-of-type {\n",
              "        vertical-align: middle;\n",
              "    }\n",
              "\n",
              "    .dataframe tbody tr th {\n",
              "        vertical-align: top;\n",
              "    }\n",
              "\n",
              "    .dataframe thead th {\n",
              "        text-align: right;\n",
              "    }\n",
              "</style>\n",
              "<table border=\"1\" class=\"dataframe\">\n",
              "  <thead>\n",
              "    <tr style=\"text-align: right;\">\n",
              "      <th></th>\n",
              "      <th>score</th>\n",
              "    </tr>\n",
              "  </thead>\n",
              "  <tbody>\n",
              "    <tr>\n",
              "      <th>accuracy</th>\n",
              "      <td>0.960317</td>\n",
              "    </tr>\n",
              "    <tr>\n",
              "      <th>f1-score</th>\n",
              "      <td>0.960433</td>\n",
              "    </tr>\n",
              "    <tr>\n",
              "      <th>precision</th>\n",
              "      <td>0.958437</td>\n",
              "    </tr>\n",
              "    <tr>\n",
              "      <th>recall</th>\n",
              "      <td>0.962437</td>\n",
              "    </tr>\n",
              "    <tr>\n",
              "      <th>roc auc score</th>\n",
              "      <td>0.960316</td>\n",
              "    </tr>\n",
              "  </tbody>\n",
              "</table>\n",
              "</div>"
            ],
            "text/plain": [
              "                  score\n",
              "accuracy       0.960317\n",
              "f1-score       0.960433\n",
              "precision      0.958437\n",
              "recall         0.962437\n",
              "roc auc score  0.960316"
            ]
          },
          "execution_count": 28,
          "metadata": {},
          "output_type": "execute_result"
        },
        {
          "data": {
            "image/png": "[encoded data removed]",
            "text/plain": [
              "<Figure size 432x288 with 2 Axes>"
            ]
          },
          "metadata": {
            "needs_background": "light"
          },
          "output_type": "display_data"
        }
      ],
      "source": [
        "create_classification_report(y_test, y_pred)"
      ]
    },
    {
      "cell_type": "code",
      "execution_count": null,
      "metadata": {
        "id": "G_yenye14IKI"
      },
      "outputs": [],
      "source": [
        "torch.save(model, 'bert.pt')\n"
      ]
    }
  ],
  "metadata": {
    "accelerator": "GPU",
    "colab": {
      "authorship_tag": "ABX9TyORlffdboBCI7IWcq8IKmyI",
      "include_colab_link": true,
      "mount_file_id": "1iojVJPS6whCUiHnbvoNN9ih8yNQPSAXn",
      "name": "Spam Detector | BERT | Pytorch | Transformers | Hugging Face | NLP | State of the Art Model.ipynb",
      "provenance": []
    },
    "kernelspec": {
      "display_name": "Python 3",
      "name": "python3"
    },
    "language_info": {
      "codemirror_mode": {
        "name": "ipython",
        "version": 3
      },
      "file_extension": ".py",
      "mimetype": "text/x-python",
      "name": "python",
      "nbconvert_exporter": "python",
      "pygments_lexer": "ipython3",
      "version": "3.8.10"
    }
  },
  "nbformat": 4,
  "nbformat_minor": 0
}
